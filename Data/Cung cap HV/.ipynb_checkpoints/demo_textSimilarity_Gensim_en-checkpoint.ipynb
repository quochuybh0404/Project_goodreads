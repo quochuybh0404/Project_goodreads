{
 "cells": [
  {
   "cell_type": "code",
   "execution_count": 1,
   "metadata": {},
   "outputs": [
    {
     "name": "stderr",
     "output_type": "stream",
     "text": [
      "c:\\program files\\python36\\lib\\site-packages\\gensim\\similarities\\__init__.py:15: UserWarning: The gensim.similarities.levenshtein submodule is disabled, because the optional Levenshtein package <https://pypi.org/project/python-Levenshtein/> is unavailable. Install Levenhstein (e.g. `pip install python-Levenshtein`) to suppress this warning.\n",
      "  warnings.warn(msg)\n"
     ]
    }
   ],
   "source": [
    "from gensim import corpora, models, similarities\n",
    "import jieba\n",
    "import re"
   ]
  },
  {
   "cell_type": "code",
   "execution_count": 2,
   "metadata": {},
   "outputs": [],
   "source": [
    "docs = ['Dove Body Wash with Pump with Skin Natural Nourishers for Instantly Soft Skin and Lasting Nourishment Deep Moisture Effectively Washes Away Bacteria While Nourishing Your Skin, 34 oz', \n",
    "         'Aveeno Daily Moisturizing Body Wash with Soothing Oat Creamy Shower Gel (Soap Free and Dye Free/Light Fragrance), 33 Fl Oz', \n",
    "         'Aveeno Skin Relief Fragrance-Free Body Wash with Oat to Soothe Dry Itchy Skin, Gentle, Soap-Free & Dye-Free for Sensitive Skin, 33 fl. Oz',\n",
    "         'Jason Natural Body Wash & Shower Gel, Calming Lavender, 30 Oz',\n",
    "         'NIVEA Nourishing Care Body Wash with Nourishing Serum, 20 Fl Oz',\n",
    "         'Aveeno Protect + Hydrate Moisturizing Body Sunscreen Lotion With Broad Spectrum Spf 60 & Prebiotic Oat, Weightless & Refreshing Feel, Paraben-free, Oil-free, Oxybenzone-free, 3.0 ounces'         \n",
    "         ]\n"
   ]
  },
  {
   "cell_type": "code",
   "execution_count": 3,
   "metadata": {},
   "outputs": [],
   "source": [
    "# Select document (we will find similarily this with all docs above)\n",
    "keyword = 'NIVEA Men Active Clean Bodyash, Natural Charcoal, 16.9 Fluid Ounce (Pack of 3)'\n"
   ]
  },
  {
   "cell_type": "code",
   "execution_count": 4,
   "metadata": {},
   "outputs": [],
   "source": [
    "docs = [re.sub(r'[^a-z ]','',doc.lower()) for doc in docs]"
   ]
  },
  {
   "cell_type": "code",
   "execution_count": 5,
   "metadata": {},
   "outputs": [
    {
     "data": {
      "text/plain": [
       "['dove body wash with pump with skin natural nourishers for instantly soft skin and lasting nourishment deep moisture effectively washes away bacteria while nourishing your skin  oz',\n",
       " 'aveeno daily moisturizing body wash with soothing oat creamy shower gel soap free and dye freelight fragrance  fl oz',\n",
       " 'aveeno skin relief fragrancefree body wash with oat to soothe dry itchy skin gentle soapfree  dyefree for sensitive skin  fl oz',\n",
       " 'jason natural body wash  shower gel calming lavender  oz',\n",
       " 'nivea nourishing care body wash with nourishing serum  fl oz',\n",
       " 'aveeno protect  hydrate moisturizing body sunscreen lotion with broad spectrum spf   prebiotic oat weightless  refreshing feel parabenfree oilfree oxybenzonefree  ounces']"
      ]
     },
     "execution_count": 5,
     "metadata": {},
     "output_type": "execute_result"
    }
   ],
   "source": [
    "docs"
   ]
  },
  {
   "cell_type": "code",
   "execution_count": 6,
   "metadata": {},
   "outputs": [
    {
     "data": {
      "text/plain": [
       "'nivea men active clean bodyash natural charcoal  fluid ounce pack of '"
      ]
     },
     "execution_count": 6,
     "metadata": {},
     "output_type": "execute_result"
    }
   ],
   "source": [
    "keyword = re.sub(r'[^a-z ]','',keyword.lower())\n",
    "keyword"
   ]
  },
  {
   "cell_type": "code",
   "execution_count": 7,
   "metadata": {},
   "outputs": [
    {
     "name": "stderr",
     "output_type": "stream",
     "text": [
      "Building prefix dict from the default dictionary ...\n",
      "Loading model from cache C:\\Users\\ADMINI~1\\AppData\\Local\\Temp\\jieba.cache\n",
      "Loading model cost 1.273 seconds.\n",
      "Prefix dict has been built successfully.\n"
     ]
    }
   ],
   "source": [
    "# Word Segmentation\n",
    "texts = [jieba.lcut(text) for text in docs] # dùng lcut để cắt từng cái text và cắt theo khoảng trắng"
   ]
  },
  {
   "cell_type": "code",
   "execution_count": 8,
   "metadata": {},
   "outputs": [],
   "source": [
    "# remove ' ' element in texts\n",
    "texts = [[t for t in text if not t in [' ']] for text in texts]\n",
    "\n",
    "\n",
    "# for text in texts:\n",
    "#     for t in text:\n",
    "#         if not t in [' ']:\n",
    "#             print(t)"
   ]
  },
  {
   "cell_type": "code",
   "execution_count": 9,
   "metadata": {},
   "outputs": [
    {
     "data": {
      "text/plain": [
       "[['dove',\n",
       "  'body',\n",
       "  'wash',\n",
       "  'with',\n",
       "  'pump',\n",
       "  'with',\n",
       "  'skin',\n",
       "  'natural',\n",
       "  'nourishers',\n",
       "  'for',\n",
       "  'instantly',\n",
       "  'soft',\n",
       "  'skin',\n",
       "  'and',\n",
       "  'lasting',\n",
       "  'nourishment',\n",
       "  'deep',\n",
       "  'moisture',\n",
       "  'effectively',\n",
       "  'washes',\n",
       "  'away',\n",
       "  'bacteria',\n",
       "  'while',\n",
       "  'nourishing',\n",
       "  'your',\n",
       "  'skin',\n",
       "  'oz'],\n",
       " ['aveeno',\n",
       "  'daily',\n",
       "  'moisturizing',\n",
       "  'body',\n",
       "  'wash',\n",
       "  'with',\n",
       "  'soothing',\n",
       "  'oat',\n",
       "  'creamy',\n",
       "  'shower',\n",
       "  'gel',\n",
       "  'soap',\n",
       "  'free',\n",
       "  'and',\n",
       "  'dye',\n",
       "  'freelight',\n",
       "  'fragrance',\n",
       "  'fl',\n",
       "  'oz'],\n",
       " ['aveeno',\n",
       "  'skin',\n",
       "  'relief',\n",
       "  'fragrancefree',\n",
       "  'body',\n",
       "  'wash',\n",
       "  'with',\n",
       "  'oat',\n",
       "  'to',\n",
       "  'soothe',\n",
       "  'dry',\n",
       "  'itchy',\n",
       "  'skin',\n",
       "  'gentle',\n",
       "  'soapfree',\n",
       "  'dyefree',\n",
       "  'for',\n",
       "  'sensitive',\n",
       "  'skin',\n",
       "  'fl',\n",
       "  'oz'],\n",
       " ['jason',\n",
       "  'natural',\n",
       "  'body',\n",
       "  'wash',\n",
       "  'shower',\n",
       "  'gel',\n",
       "  'calming',\n",
       "  'lavender',\n",
       "  'oz'],\n",
       " ['nivea',\n",
       "  'nourishing',\n",
       "  'care',\n",
       "  'body',\n",
       "  'wash',\n",
       "  'with',\n",
       "  'nourishing',\n",
       "  'serum',\n",
       "  'fl',\n",
       "  'oz'],\n",
       " ['aveeno',\n",
       "  'protect',\n",
       "  'hydrate',\n",
       "  'moisturizing',\n",
       "  'body',\n",
       "  'sunscreen',\n",
       "  'lotion',\n",
       "  'with',\n",
       "  'broad',\n",
       "  'spectrum',\n",
       "  'spf',\n",
       "  'prebiotic',\n",
       "  'oat',\n",
       "  'weightless',\n",
       "  'refreshing',\n",
       "  'feel',\n",
       "  'parabenfree',\n",
       "  'oilfree',\n",
       "  'oxybenzonefree',\n",
       "  'ounces']]"
      ]
     },
     "execution_count": 9,
     "metadata": {},
     "output_type": "execute_result"
    }
   ],
   "source": [
    "texts"
   ]
  },
  {
   "cell_type": "code",
   "execution_count": 10,
   "metadata": {},
   "outputs": [],
   "source": [
    "# Obtain the number of features based on dictionary: Use corpora.Dictionary\n",
    "dictionary = corpora.Dictionary(texts)"
   ]
  },
  {
   "cell_type": "code",
   "execution_count": 11,
   "metadata": {},
   "outputs": [
    {
     "data": {
      "text/plain": [
       "{'and': 0,\n",
       " 'away': 1,\n",
       " 'bacteria': 2,\n",
       " 'body': 3,\n",
       " 'deep': 4,\n",
       " 'dove': 5,\n",
       " 'effectively': 6,\n",
       " 'for': 7,\n",
       " 'instantly': 8,\n",
       " 'lasting': 9,\n",
       " 'moisture': 10,\n",
       " 'natural': 11,\n",
       " 'nourishers': 12,\n",
       " 'nourishing': 13,\n",
       " 'nourishment': 14,\n",
       " 'oz': 15,\n",
       " 'pump': 16,\n",
       " 'skin': 17,\n",
       " 'soft': 18,\n",
       " 'wash': 19,\n",
       " 'washes': 20,\n",
       " 'while': 21,\n",
       " 'with': 22,\n",
       " 'your': 23,\n",
       " 'aveeno': 24,\n",
       " 'creamy': 25,\n",
       " 'daily': 26,\n",
       " 'dye': 27,\n",
       " 'fl': 28,\n",
       " 'fragrance': 29,\n",
       " 'free': 30,\n",
       " 'freelight': 31,\n",
       " 'gel': 32,\n",
       " 'moisturizing': 33,\n",
       " 'oat': 34,\n",
       " 'shower': 35,\n",
       " 'soap': 36,\n",
       " 'soothing': 37,\n",
       " 'dry': 38,\n",
       " 'dyefree': 39,\n",
       " 'fragrancefree': 40,\n",
       " 'gentle': 41,\n",
       " 'itchy': 42,\n",
       " 'relief': 43,\n",
       " 'sensitive': 44,\n",
       " 'soapfree': 45,\n",
       " 'soothe': 46,\n",
       " 'to': 47,\n",
       " 'calming': 48,\n",
       " 'jason': 49,\n",
       " 'lavender': 50,\n",
       " 'care': 51,\n",
       " 'nivea': 52,\n",
       " 'serum': 53,\n",
       " 'broad': 54,\n",
       " 'feel': 55,\n",
       " 'hydrate': 56,\n",
       " 'lotion': 57,\n",
       " 'oilfree': 58,\n",
       " 'ounces': 59,\n",
       " 'oxybenzonefree': 60,\n",
       " 'parabenfree': 61,\n",
       " 'prebiotic': 62,\n",
       " 'protect': 63,\n",
       " 'refreshing': 64,\n",
       " 'spectrum': 65,\n",
       " 'spf': 66,\n",
       " 'sunscreen': 67,\n",
       " 'weightless': 68}"
      ]
     },
     "execution_count": 11,
     "metadata": {},
     "output_type": "execute_result"
    }
   ],
   "source": [
    "#  List of features in dictionary\n",
    "dictionary.token2id"
   ]
  },
  {
   "cell_type": "code",
   "execution_count": 12,
   "metadata": {},
   "outputs": [],
   "source": [
    "### Kết quả có được là 69 từ  duy nhất"
   ]
  },
  {
   "cell_type": "code",
   "execution_count": 14,
   "metadata": {},
   "outputs": [
    {
     "data": {
      "text/plain": [
       "69"
      ]
     },
     "execution_count": 14,
     "metadata": {},
     "output_type": "execute_result"
    }
   ],
   "source": [
    "# Number of features (word) in dictionary\n",
    "feature_cnt = len(dictionary.token2id)\n",
    "feature_cnt"
   ]
  },
  {
   "cell_type": "code",
   "execution_count": 15,
   "metadata": {},
   "outputs": [
    {
     "data": {
      "text/plain": [
       "[[(0, 1),\n",
       "  (1, 1),\n",
       "  (2, 1),\n",
       "  (3, 1),\n",
       "  (4, 1),\n",
       "  (5, 1),\n",
       "  (6, 1),\n",
       "  (7, 1),\n",
       "  (8, 1),\n",
       "  (9, 1),\n",
       "  (10, 1),\n",
       "  (11, 1),\n",
       "  (12, 1),\n",
       "  (13, 1),\n",
       "  (14, 1),\n",
       "  (15, 1),\n",
       "  (16, 1),\n",
       "  (17, 3),\n",
       "  (18, 1),\n",
       "  (19, 1),\n",
       "  (20, 1),\n",
       "  (21, 1),\n",
       "  (22, 2),\n",
       "  (23, 1)],\n",
       " [(0, 1),\n",
       "  (3, 1),\n",
       "  (15, 1),\n",
       "  (19, 1),\n",
       "  (22, 1),\n",
       "  (24, 1),\n",
       "  (25, 1),\n",
       "  (26, 1),\n",
       "  (27, 1),\n",
       "  (28, 1),\n",
       "  (29, 1),\n",
       "  (30, 1),\n",
       "  (31, 1),\n",
       "  (32, 1),\n",
       "  (33, 1),\n",
       "  (34, 1),\n",
       "  (35, 1),\n",
       "  (36, 1),\n",
       "  (37, 1)],\n",
       " [(3, 1),\n",
       "  (7, 1),\n",
       "  (15, 1),\n",
       "  (17, 3),\n",
       "  (19, 1),\n",
       "  (22, 1),\n",
       "  (24, 1),\n",
       "  (28, 1),\n",
       "  (34, 1),\n",
       "  (38, 1),\n",
       "  (39, 1),\n",
       "  (40, 1),\n",
       "  (41, 1),\n",
       "  (42, 1),\n",
       "  (43, 1),\n",
       "  (44, 1),\n",
       "  (45, 1),\n",
       "  (46, 1),\n",
       "  (47, 1)],\n",
       " [(3, 1),\n",
       "  (11, 1),\n",
       "  (15, 1),\n",
       "  (19, 1),\n",
       "  (32, 1),\n",
       "  (35, 1),\n",
       "  (48, 1),\n",
       "  (49, 1),\n",
       "  (50, 1)],\n",
       " [(3, 1),\n",
       "  (13, 2),\n",
       "  (15, 1),\n",
       "  (19, 1),\n",
       "  (22, 1),\n",
       "  (28, 1),\n",
       "  (51, 1),\n",
       "  (52, 1),\n",
       "  (53, 1)],\n",
       " [(3, 1),\n",
       "  (22, 1),\n",
       "  (24, 1),\n",
       "  (33, 1),\n",
       "  (34, 1),\n",
       "  (54, 1),\n",
       "  (55, 1),\n",
       "  (56, 1),\n",
       "  (57, 1),\n",
       "  (58, 1),\n",
       "  (59, 1),\n",
       "  (60, 1),\n",
       "  (61, 1),\n",
       "  (62, 1),\n",
       "  (63, 1),\n",
       "  (64, 1),\n",
       "  (65, 1),\n",
       "  (66, 1),\n",
       "  (67, 1),\n",
       "  (68, 1)]]"
      ]
     },
     "execution_count": 15,
     "metadata": {},
     "output_type": "execute_result"
    }
   ],
   "source": [
    "# Obtain corpus based on dictionary (sparse matrix dạng vector)\n",
    "corpus = [dictionary.doc2bow(text) for text in texts] # Xét từng vưn bản một\n",
    "corpus"
   ]
  },
  {
   "cell_type": "code",
   "execution_count": 17,
   "metadata": {},
   "outputs": [],
   "source": [
    "tfidf = models.TfidfModel(corpus) # tfidf dùng để làm giảm những cái từ xuất hiện nhiều trong các văn bản mà vai trò thì ít\n",
    "# Tính toán sự tương tự trong ma trận thưa thớt\n",
    "index = similarities.SparseMatrixSimilarity(tfidf[corpus], num_features = feature_cnt)\n"
   ]
  },
  {
   "cell_type": "code",
   "execution_count": 18,
   "metadata": {},
   "outputs": [
    {
     "data": {
      "text/plain": [
       "[(11, 1), (52, 1)]"
      ]
     },
     "execution_count": 18,
     "metadata": {},
     "output_type": "execute_result"
    }
   ],
   "source": [
    "# Convert search words into Sparse Vectors\n",
    "kw_vector = dictionary.doc2bow(jieba.lcut(keyword))\n",
    "kw_vector"
   ]
  },
  {
   "cell_type": "code",
   "execution_count": 20,
   "metadata": {},
   "outputs": [],
   "source": [
    "### Lúc này chỉ còn 2 từ chính là từ số 11 xuất hiện 1 lần, và từ số 52 xuất hiện 1 lần. Những từ ko cần thiết đều bị lọc hết"
   ]
  },
  {
   "cell_type": "code",
   "execution_count": 21,
   "metadata": {},
   "outputs": [],
   "source": [
    "# similarity calculation\n",
    "sim = index[tfidf[kw_vector]]"
   ]
  },
  {
   "cell_type": "code",
   "execution_count": 22,
   "metadata": {},
   "outputs": [
    {
     "name": "stdout",
     "output_type": "stream",
     "text": [
      "key is similar to doc1: 0.07\n",
      "key is similar to doc2: 0.00\n",
      "key is similar to doc3: 0.00\n",
      "key is similar to doc4: 0.16\n",
      "key is similar to doc5: 0.39\n",
      "key is similar to doc6: 0.00\n"
     ]
    }
   ],
   "source": [
    "for i in range(len(sim)):\n",
    "    print('key is similar to doc%d: %.2f' % (i + 1, sim[i]))"
   ]
  },
  {
   "cell_type": "code",
   "execution_count": null,
   "metadata": {},
   "outputs": [],
   "source": []
  }
 ],
 "metadata": {
  "kernelspec": {
   "display_name": "Python 3",
   "language": "python",
   "name": "python3"
  },
  "language_info": {
   "codemirror_mode": {
    "name": "ipython",
    "version": 3
   },
   "file_extension": ".py",
   "mimetype": "text/x-python",
   "name": "python",
   "nbconvert_exporter": "python",
   "pygments_lexer": "ipython3",
   "version": "3.6.8"
  }
 },
 "nbformat": 4,
 "nbformat_minor": 4
}
