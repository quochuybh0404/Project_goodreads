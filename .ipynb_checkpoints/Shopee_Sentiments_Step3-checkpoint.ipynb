{
 "cells": [
  {
   "cell_type": "code",
   "execution_count": 1,
   "metadata": {
    "colab": {
     "base_uri": "https://localhost:8080/"
    },
    "executionInfo": {
     "elapsed": 1363,
     "status": "ok",
     "timestamp": 1636564382454,
     "user": {
      "displayName": "Chau Lu",
      "photoUrl": "https://lh3.googleusercontent.com/a-/AOh14GgITySxJua8ofYGMqrwKGfNA3zQqBihlO807y2Hag=s64",
      "userId": "07943946620482264891"
     },
     "user_tz": -420
    },
    "id": "UH5-UpkbhBHC",
    "outputId": "2d782053-a420-4b67-e4a4-76e84cf356cb"
   },
   "outputs": [
    {
     "name": "stdout",
     "output_type": "stream",
     "text": [
      "Mounted at /content/gdrive\n"
     ]
    }
   ],
   "source": [
    "from google.colab import drive\n",
    "drive.mount('/content/gdrive', force_remount=True)"
   ]
  },
  {
   "cell_type": "code",
   "execution_count": 2,
   "metadata": {
    "colab": {
     "base_uri": "https://localhost:8080/"
    },
    "executionInfo": {
     "elapsed": 20,
     "status": "ok",
     "timestamp": 1636564383039,
     "user": {
      "displayName": "Chau Lu",
      "photoUrl": "https://lh3.googleusercontent.com/a-/AOh14GgITySxJua8ofYGMqrwKGfNA3zQqBihlO807y2Hag=s64",
      "userId": "07943946620482264891"
     },
     "user_tz": -420
    },
    "id": "UiM25-lrhOf4",
    "outputId": "c8e27d5c-bfca-4775-89f6-1d8530a9ebb5"
   },
   "outputs": [
    {
     "name": "stdout",
     "output_type": "stream",
     "text": [
      "/content/gdrive/MyDrive/Study/Capstone_Project_LuHongChau\n"
     ]
    }
   ],
   "source": [
    "% cd '/content/gdrive/MyDrive/Study/Capstone_Project_LuHongChau'"
   ]
  },
  {
   "cell_type": "markdown",
   "metadata": {
    "id": "e5RLEvblg74p"
   },
   "source": [
    "###**1. EDA**"
   ]
  },
  {
   "cell_type": "code",
   "execution_count": 3,
   "metadata": {
    "executionInfo": {
     "elapsed": 3,
     "status": "ok",
     "timestamp": 1636564383040,
     "user": {
      "displayName": "Chau Lu",
      "photoUrl": "https://lh3.googleusercontent.com/a-/AOh14GgITySxJua8ofYGMqrwKGfNA3zQqBihlO807y2Hag=s64",
      "userId": "07943946620482264891"
     },
     "user_tz": -420
    },
    "id": "P50FHcKyiXjI"
   },
   "outputs": [],
   "source": [
    "import random\n",
    "import seaborn as sns\n",
    "import numpy as np\n",
    "import pandas as pd\n",
    "import matplotlib.pyplot as plt\n",
    "# import lazypredict\n",
    "%matplotlib inline"
   ]
  },
  {
   "cell_type": "code",
   "execution_count": 4,
   "metadata": {
    "executionInfo": {
     "elapsed": 3944,
     "status": "ok",
     "timestamp": 1636564387690,
     "user": {
      "displayName": "Chau Lu",
      "photoUrl": "https://lh3.googleusercontent.com/a-/AOh14GgITySxJua8ofYGMqrwKGfNA3zQqBihlO807y2Hag=s64",
      "userId": "07943946620482264891"
     },
     "user_tz": -420
    },
    "id": "NZ2d6EWlitqR"
   },
   "outputs": [],
   "source": [
    "data = pd.read_excel('shopee_fashion_comments.xlsx')"
   ]
  },
  {
   "cell_type": "code",
   "execution_count": 5,
   "metadata": {
    "colab": {
     "base_uri": "https://localhost:8080/",
     "height": 203
    },
    "executionInfo": {
     "elapsed": 26,
     "status": "ok",
     "timestamp": 1636564387691,
     "user": {
      "displayName": "Chau Lu",
      "photoUrl": "https://lh3.googleusercontent.com/a-/AOh14GgITySxJua8ofYGMqrwKGfNA3zQqBihlO807y2Hag=s64",
      "userId": "07943946620482264891"
     },
     "user_tz": -420
    },
    "id": "lb0l_Mqci82h",
    "outputId": "a872fb2e-3136-4ecb-dab7-fdea77e98c27"
   },
   "outputs": [
    {
     "data": {
      "text/html": [
       "<div>\n",
       "<style scoped>\n",
       "    .dataframe tbody tr th:only-of-type {\n",
       "        vertical-align: middle;\n",
       "    }\n",
       "\n",
       "    .dataframe tbody tr th {\n",
       "        vertical-align: top;\n",
       "    }\n",
       "\n",
       "    .dataframe thead th {\n",
       "        text-align: right;\n",
       "    }\n",
       "</style>\n",
       "<table border=\"1\" class=\"dataframe\">\n",
       "  <thead>\n",
       "    <tr style=\"text-align: right;\">\n",
       "      <th></th>\n",
       "      <th>category</th>\n",
       "      <th>product_name</th>\n",
       "      <th>link</th>\n",
       "      <th>customer_name</th>\n",
       "      <th>content</th>\n",
       "      <th>rating</th>\n",
       "    </tr>\n",
       "  </thead>\n",
       "  <tbody>\n",
       "    <tr>\n",
       "      <th>0</th>\n",
       "      <td>Thời Trang Nam</td>\n",
       "      <td>( Hình Thật)Quần Baggy Nam Jean Dài Ống Rộng T...</td>\n",
       "      <td>https://shopee.vn/(-H%C3%ACnh-Th%E1%BA%ADt)Qu%...</td>\n",
       "      <td>nhitruong0108</td>\n",
       "      <td>Form xấu, không như hình , sai màu, đặt xnah đ...</td>\n",
       "      <td>1</td>\n",
       "    </tr>\n",
       "    <tr>\n",
       "      <th>1</th>\n",
       "      <td>Thời Trang Nam</td>\n",
       "      <td>( Hình Thật)Quần Baggy Nam Jean Dài Ống Rộng T...</td>\n",
       "      <td>https://shopee.vn/(-H%C3%ACnh-Th%E1%BA%ADt)Qu%...</td>\n",
       "      <td>b*****g</td>\n",
       "      <td>Đặt jean màu xanh giao màu thì bạc bạc k giống...</td>\n",
       "      <td>1</td>\n",
       "    </tr>\n",
       "    <tr>\n",
       "      <th>2</th>\n",
       "      <td>Thời Trang Nam</td>\n",
       "      <td>( Hình Thật)Quần Baggy Nam Jean Dài Ống Rộng T...</td>\n",
       "      <td>https://shopee.vn/(-H%C3%ACnh-Th%E1%BA%ADt)Qu%...</td>\n",
       "      <td>3*****4</td>\n",
       "      <td>Ko giống hình form ống quần quá to \\nĐòi đổi s...</td>\n",
       "      <td>1</td>\n",
       "    </tr>\n",
       "    <tr>\n",
       "      <th>3</th>\n",
       "      <td>Thời Trang Nam</td>\n",
       "      <td>( Hình Thật)Quần Baggy Nam Jean Dài Ống Rộng T...</td>\n",
       "      <td>https://shopee.vn/(-H%C3%ACnh-Th%E1%BA%ADt)Qu%...</td>\n",
       "      <td>Người dùng Shopee</td>\n",
       "      <td>Đặt xám xanh mà gửi về màu bạc ăn dau buoi à s...</td>\n",
       "      <td>1</td>\n",
       "    </tr>\n",
       "    <tr>\n",
       "      <th>4</th>\n",
       "      <td>Thời Trang Nam</td>\n",
       "      <td>( Hình Thật)Quần Baggy Nam Jean Dài Ống Rộng T...</td>\n",
       "      <td>https://shopee.vn/(-H%C3%ACnh-Th%E1%BA%ADt)Qu%...</td>\n",
       "      <td>letran1143</td>\n",
       "      <td>Mọi người đừng mua đặt 2 cái giao 1 cái thái đ...</td>\n",
       "      <td>1</td>\n",
       "    </tr>\n",
       "  </tbody>\n",
       "</table>\n",
       "</div>"
      ],
      "text/plain": [
       "         category  ... rating\n",
       "0  Thời Trang Nam  ...      1\n",
       "1  Thời Trang Nam  ...      1\n",
       "2  Thời Trang Nam  ...      1\n",
       "3  Thời Trang Nam  ...      1\n",
       "4  Thời Trang Nam  ...      1\n",
       "\n",
       "[5 rows x 6 columns]"
      ]
     },
     "execution_count": 5,
     "metadata": {},
     "output_type": "execute_result"
    }
   ],
   "source": [
    "data.head()"
   ]
  },
  {
   "cell_type": "code",
   "execution_count": 6,
   "metadata": {
    "colab": {
     "base_uri": "https://localhost:8080/"
    },
    "executionInfo": {
     "elapsed": 25,
     "status": "ok",
     "timestamp": 1636564387691,
     "user": {
      "displayName": "Chau Lu",
      "photoUrl": "https://lh3.googleusercontent.com/a-/AOh14GgITySxJua8ofYGMqrwKGfNA3zQqBihlO807y2Hag=s64",
      "userId": "07943946620482264891"
     },
     "user_tz": -420
    },
    "id": "TQUy0wwOmMmA",
    "outputId": "df966c88-305c-4e17-d025-8a6eb06154d5"
   },
   "outputs": [
    {
     "data": {
      "text/plain": [
       "(52291, 6)"
      ]
     },
     "execution_count": 6,
     "metadata": {},
     "output_type": "execute_result"
    }
   ],
   "source": [
    "data.shape"
   ]
  },
  {
   "cell_type": "code",
   "execution_count": 7,
   "metadata": {
    "executionInfo": {
     "elapsed": 21,
     "status": "ok",
     "timestamp": 1636564387692,
     "user": {
      "displayName": "Chau Lu",
      "photoUrl": "https://lh3.googleusercontent.com/a-/AOh14GgITySxJua8ofYGMqrwKGfNA3zQqBihlO807y2Hag=s64",
      "userId": "07943946620482264891"
     },
     "user_tz": -420
    },
    "id": "vCKCwEJdjZVH"
   },
   "outputs": [],
   "source": [
    "data_sub=data[['content','rating']]"
   ]
  },
  {
   "cell_type": "code",
   "execution_count": 8,
   "metadata": {
    "executionInfo": {
     "elapsed": 21,
     "status": "ok",
     "timestamp": 1636564387692,
     "user": {
      "displayName": "Chau Lu",
      "photoUrl": "https://lh3.googleusercontent.com/a-/AOh14GgITySxJua8ofYGMqrwKGfNA3zQqBihlO807y2Hag=s64",
      "userId": "07943946620482264891"
     },
     "user_tz": -420
    },
    "id": "7Bnka-F2wBtM"
   },
   "outputs": [],
   "source": [
    "# xóa dữ liệu ẩn\n",
    "hide_str='****** Đánh giá đã bị ẩn do nội dung không phù hợp. ******'\n",
    "data_sub = data_sub[data_sub.content != hide_str]"
   ]
  },
  {
   "cell_type": "code",
   "execution_count": 9,
   "metadata": {
    "colab": {
     "base_uri": "https://localhost:8080/"
    },
    "executionInfo": {
     "elapsed": 22,
     "status": "ok",
     "timestamp": 1636564387693,
     "user": {
      "displayName": "Chau Lu",
      "photoUrl": "https://lh3.googleusercontent.com/a-/AOh14GgITySxJua8ofYGMqrwKGfNA3zQqBihlO807y2Hag=s64",
      "userId": "07943946620482264891"
     },
     "user_tz": -420
    },
    "id": "OKQG5l6kwJO6",
    "outputId": "d6b29853-8507-4117-a3be-4404e77eb0f0"
   },
   "outputs": [
    {
     "data": {
      "text/plain": [
       "(49604, 2)"
      ]
     },
     "execution_count": 9,
     "metadata": {},
     "output_type": "execute_result"
    }
   ],
   "source": [
    "data_sub.shape"
   ]
  },
  {
   "cell_type": "code",
   "execution_count": 10,
   "metadata": {
    "colab": {
     "base_uri": "https://localhost:8080/"
    },
    "executionInfo": {
     "elapsed": 19,
     "status": "ok",
     "timestamp": 1636564387693,
     "user": {
      "displayName": "Chau Lu",
      "photoUrl": "https://lh3.googleusercontent.com/a-/AOh14GgITySxJua8ofYGMqrwKGfNA3zQqBihlO807y2Hag=s64",
      "userId": "07943946620482264891"
     },
     "user_tz": -420
    },
    "id": "PkN8Jcpzqned",
    "outputId": "f1303f77-f7fb-400c-a7aa-72a4669fac1b"
   },
   "outputs": [
    {
     "data": {
      "text/plain": [
       "content    3527\n",
       "rating        0\n",
       "dtype: int64"
      ]
     },
     "execution_count": 10,
     "metadata": {},
     "output_type": "execute_result"
    }
   ],
   "source": [
    "# kiểm tra dữ liệu na/null\n",
    "data_sub.isna().sum()"
   ]
  },
  {
   "cell_type": "code",
   "execution_count": 11,
   "metadata": {
    "executionInfo": {
     "elapsed": 18,
     "status": "ok",
     "timestamp": 1636564387694,
     "user": {
      "displayName": "Chau Lu",
      "photoUrl": "https://lh3.googleusercontent.com/a-/AOh14GgITySxJua8ofYGMqrwKGfNA3zQqBihlO807y2Hag=s64",
      "userId": "07943946620482264891"
     },
     "user_tz": -420
    },
    "id": "n_7yEPUUqzgT"
   },
   "outputs": [],
   "source": [
    "# xóa dữ liệu na/null\n",
    "data_sub = data_sub.dropna(axis=0, subset=['content'])"
   ]
  },
  {
   "cell_type": "code",
   "execution_count": 12,
   "metadata": {
    "colab": {
     "base_uri": "https://localhost:8080/"
    },
    "executionInfo": {
     "elapsed": 18,
     "status": "ok",
     "timestamp": 1636564387694,
     "user": {
      "displayName": "Chau Lu",
      "photoUrl": "https://lh3.googleusercontent.com/a-/AOh14GgITySxJua8ofYGMqrwKGfNA3zQqBihlO807y2Hag=s64",
      "userId": "07943946620482264891"
     },
     "user_tz": -420
    },
    "id": "sK-vq2PmrXWf",
    "outputId": "c7aa2dff-5cde-4f8a-c8ce-bc5a1abbc620"
   },
   "outputs": [
    {
     "data": {
      "text/plain": [
       "(46077, 2)"
      ]
     },
     "execution_count": 12,
     "metadata": {},
     "output_type": "execute_result"
    }
   ],
   "source": [
    "data_sub.shape"
   ]
  },
  {
   "cell_type": "code",
   "execution_count": 13,
   "metadata": {
    "executionInfo": {
     "elapsed": 16,
     "status": "ok",
     "timestamp": 1636564387695,
     "user": {
      "displayName": "Chau Lu",
      "photoUrl": "https://lh3.googleusercontent.com/a-/AOh14GgITySxJua8ofYGMqrwKGfNA3zQqBihlO807y2Hag=s64",
      "userId": "07943946620482264891"
     },
     "user_tz": -420
    },
    "id": "NrlPhgXAq7nA"
   },
   "outputs": [],
   "source": [
    "# xóa dữ liệu trùng\n",
    "data_sub = data_sub.drop_duplicates()"
   ]
  },
  {
   "cell_type": "code",
   "execution_count": 14,
   "metadata": {
    "colab": {
     "base_uri": "https://localhost:8080/"
    },
    "executionInfo": {
     "elapsed": 16,
     "status": "ok",
     "timestamp": 1636564387695,
     "user": {
      "displayName": "Chau Lu",
      "photoUrl": "https://lh3.googleusercontent.com/a-/AOh14GgITySxJua8ofYGMqrwKGfNA3zQqBihlO807y2Hag=s64",
      "userId": "07943946620482264891"
     },
     "user_tz": -420
    },
    "id": "jXL2dB9arIw4",
    "outputId": "e6011719-55c8-41b6-d615-c5ef3703f8a2"
   },
   "outputs": [
    {
     "data": {
      "text/plain": [
       "(44786, 2)"
      ]
     },
     "execution_count": 14,
     "metadata": {},
     "output_type": "execute_result"
    }
   ],
   "source": [
    "data_sub.shape"
   ]
  },
  {
   "cell_type": "code",
   "execution_count": 15,
   "metadata": {
    "colab": {
     "base_uri": "https://localhost:8080/",
     "height": 281
    },
    "executionInfo": {
     "elapsed": 15,
     "status": "ok",
     "timestamp": 1636564387696,
     "user": {
      "displayName": "Chau Lu",
      "photoUrl": "https://lh3.googleusercontent.com/a-/AOh14GgITySxJua8ofYGMqrwKGfNA3zQqBihlO807y2Hag=s64",
      "userId": "07943946620482264891"
     },
     "user_tz": -420
    },
    "id": "-SY5mATTvf-c",
    "outputId": "bebc754a-ca25-4131-e9e6-6ddf6412ef82"
   },
   "outputs": [
    {
     "data": {
      "image/png": "[encoded data removed]",
      "text/plain": [
       "<Figure size 432x288 with 1 Axes>"
      ]
     },
     "metadata": {
      "needs_background": "light"
     },
     "output_type": "display_data"
    }
   ],
   "source": [
    "data_sub['content'].str.len().hist()\n",
    "plt.title(\"Number of letters of each comment\")\n",
    "plt.show()"
   ]
  },
  {
   "cell_type": "markdown",
   "metadata": {
    "id": "cp9lG7NMvys_"
   },
   "source": [
    "- Mỗi comment có từ 1 đến 300 ký tự. Trong đó phổ biến từ 60 - 90 ký tự vì Shopee quy định mỗi comment có độ dài từ 50 ký tự mới được nhận thưởng xu."
   ]
  },
  {
   "cell_type": "code",
   "execution_count": 16,
   "metadata": {
    "colab": {
     "base_uri": "https://localhost:8080/",
     "height": 281
    },
    "executionInfo": {
     "elapsed": 8,
     "status": "ok",
     "timestamp": 1636564388364,
     "user": {
      "displayName": "Chau Lu",
      "photoUrl": "https://lh3.googleusercontent.com/a-/AOh14GgITySxJua8ofYGMqrwKGfNA3zQqBihlO807y2Hag=s64",
      "userId": "07943946620482264891"
     },
     "user_tz": -420
    },
    "id": "Baz55Rsfx60e",
    "outputId": "2c0dbfb2-ee5f-4ff6-ae50-64b5be779c6a"
   },
   "outputs": [
    {
     "data": {
      "image/png": "[encoded data removed]",
      "text/plain": [
       "<Figure size 432x288 with 1 Axes>"
      ]
     },
     "metadata": {
      "needs_background": "light"
     },
     "output_type": "display_data"
    }
   ],
   "source": [
    "data_sub['content'].str.split().map(lambda x: len(x)).hist()\n",
    "plt.title(\"Number of words of each comment\")\n",
    "plt.show()"
   ]
  },
  {
   "cell_type": "markdown",
   "metadata": {
    "id": "a9r0paZ0CrqX"
   },
   "source": [
    "- Mỗi comment có từ 1 đến gần 80 từ với khoảng từ 10-20 từ là số từ phổ biến nhất"
   ]
  },
  {
   "cell_type": "code",
   "execution_count": 17,
   "metadata": {
    "colab": {
     "base_uri": "https://localhost:8080/",
     "height": 281
    },
    "executionInfo": {
     "elapsed": 1966,
     "status": "ok",
     "timestamp": 1636564390324,
     "user": {
      "displayName": "Chau Lu",
      "photoUrl": "https://lh3.googleusercontent.com/a-/AOh14GgITySxJua8ofYGMqrwKGfNA3zQqBihlO807y2Hag=s64",
      "userId": "07943946620482264891"
     },
     "user_tz": -420
    },
    "id": "9s7uwdc_ymND",
    "outputId": "172b446c-96de-4819-b783-ff26279e03ec"
   },
   "outputs": [
    {
     "data": {
      "image/png": "[encoded data removed]",
      "text/plain": [
       "<Figure size 432x288 with 1 Axes>"
      ]
     },
     "metadata": {
      "needs_background": "light"
     },
     "output_type": "display_data"
    }
   ],
   "source": [
    "data_sub['content'].str.split().\\\n",
    "   apply(lambda x : [len(i) for i in x]). \\\n",
    "   map(lambda x: np.mean(x)).hist()\n",
    "plt.title(\"Number of letters of each word\")\n",
    "plt.show()"
   ]
  },
  {
   "cell_type": "markdown",
   "metadata": {
    "id": "IYQkexrZD2VC"
   },
   "source": [
    "- Mỗi từ có từ 1 đến hơn 15 ký tự. Tuy nhiên, từ tiếng Việt dài nhất có 7 ký tự => có các từ sai chính tả, hoặc bổ sung có ký tự không cần thiết để đủ nhận thưởng xu"
   ]
  },
  {
   "cell_type": "code",
   "execution_count": 18,
   "metadata": {
    "colab": {
     "base_uri": "https://localhost:8080/",
     "height": 404
    },
    "executionInfo": {
     "elapsed": 18,
     "status": "ok",
     "timestamp": 1636564390326,
     "user": {
      "displayName": "Chau Lu",
      "photoUrl": "https://lh3.googleusercontent.com/a-/AOh14GgITySxJua8ofYGMqrwKGfNA3zQqBihlO807y2Hag=s64",
      "userId": "07943946620482264891"
     },
     "user_tz": -420
    },
    "id": "n9xGvZUKrPrs",
    "outputId": "6b90ba45-7e3e-48be-8fa7-4ba8c17363fd"
   },
   "outputs": [
    {
     "data": {
      "image/png": "[encoded data removed]",
      "text/plain": [
       "<Figure size 576x432 with 1 Axes>"
      ]
     },
     "metadata": {
      "needs_background": "light"
     },
     "output_type": "display_data"
    }
   ],
   "source": [
    "plt.figure(figsize=(8, 6))\n",
    "sns.countplot(x='rating', data=data_sub)\n",
    "plt.xlabel(\"Rating\")\n",
    "plt.title(\"Number of data of each rating\")\n",
    "plt.show()"
   ]
  },
  {
   "cell_type": "markdown",
   "metadata": {
    "id": "TqpxbblUI_Rb"
   },
   "source": [
    "- Lượng đánh giá 5 sao chiếm nhiều nhất do các gian bán hàng trên trang shopee có thuê người comment để tăng chỉ số. "
   ]
  },
  {
   "cell_type": "markdown",
   "metadata": {
    "id": "obraY8H1lqYv"
   },
   "source": [
    "###**2. Preprocessing**\n"
   ]
  },
  {
   "cell_type": "code",
   "execution_count": 19,
   "metadata": {
    "executionInfo": {
     "elapsed": 13980,
     "status": "ok",
     "timestamp": 1636564404293,
     "user": {
      "displayName": "Chau Lu",
      "photoUrl": "https://lh3.googleusercontent.com/a-/AOh14GgITySxJua8ofYGMqrwKGfNA3zQqBihlO807y2Hag=s64",
      "userId": "07943946620482264891"
     },
     "user_tz": -420
    },
    "id": "ddy5tmSLg74h"
   },
   "outputs": [],
   "source": [
    "!pip install underthesea --quiet\n",
    "!pip install demoji --quiet\n",
    "!pip install pyvi --quiet\n",
    "!pip install --upgrade scikit-learn --quiet"
   ]
  },
  {
   "cell_type": "code",
   "execution_count": 20,
   "metadata": {
    "executionInfo": {
     "elapsed": 4573,
     "status": "ok",
     "timestamp": 1636564408843,
     "user": {
      "displayName": "Chau Lu",
      "photoUrl": "https://lh3.googleusercontent.com/a-/AOh14GgITySxJua8ofYGMqrwKGfNA3zQqBihlO807y2Hag=s64",
      "userId": "07943946620482264891"
     },
     "user_tz": -420
    },
    "id": "SPD_2idF5etM"
   },
   "outputs": [],
   "source": [
    "from underthesea import word_tokenize, pos_tag, sent_tokenize\n",
    "import regex\n",
    "import demoji\n",
    "from pyvi import ViPosTagger, ViTokenizer\n",
    "import string\n",
    "import wordcloud"
   ]
  },
  {
   "cell_type": "code",
   "execution_count": 21,
   "metadata": {
    "colab": {
     "base_uri": "https://localhost:8080/"
    },
    "executionInfo": {
     "elapsed": 29,
     "status": "ok",
     "timestamp": 1636564408846,
     "user": {
      "displayName": "Chau Lu",
      "photoUrl": "https://lh3.googleusercontent.com/a-/AOh14GgITySxJua8ofYGMqrwKGfNA3zQqBihlO807y2Hag=s64",
      "userId": "07943946620482264891"
     },
     "user_tz": -420
    },
    "id": "RozfvmSpl0XX",
    "outputId": "a36a801e-9c86-4e1f-86aa-ec4e0ed6a3c9"
   },
   "outputs": [
    {
     "name": "stdout",
     "output_type": "stream",
     "text": [
      "<class 'pandas.core.frame.DataFrame'>\n",
      "Int64Index: 44786 entries, 0 to 52290\n",
      "Data columns (total 2 columns):\n",
      " #   Column   Non-Null Count  Dtype \n",
      "---  ------   --------------  ----- \n",
      " 0   content  44786 non-null  object\n",
      " 1   rating   44786 non-null  int64 \n",
      "dtypes: int64(1), object(1)\n",
      "memory usage: 2.3+ MB\n"
     ]
    }
   ],
   "source": [
    "data_sub.info()"
   ]
  },
  {
   "cell_type": "code",
   "execution_count": 22,
   "metadata": {
    "executionInfo": {
     "elapsed": 21,
     "status": "ok",
     "timestamp": 1636564408846,
     "user": {
      "displayName": "Chau Lu",
      "photoUrl": "https://lh3.googleusercontent.com/a-/AOh14GgITySxJua8ofYGMqrwKGfNA3zQqBihlO807y2Hag=s64",
      "userId": "07943946620482264891"
     },
     "user_tz": -420
    },
    "id": "DVe0R108lpoA"
   },
   "outputs": [],
   "source": [
    "data_sub['content'] = data_sub['content'].astype(str)"
   ]
  },
  {
   "cell_type": "code",
   "execution_count": 23,
   "metadata": {
    "colab": {
     "base_uri": "https://localhost:8080/",
     "height": 203
    },
    "executionInfo": {
     "elapsed": 21,
     "status": "ok",
     "timestamp": 1636564408847,
     "user": {
      "displayName": "Chau Lu",
      "photoUrl": "https://lh3.googleusercontent.com/a-/AOh14GgITySxJua8ofYGMqrwKGfNA3zQqBihlO807y2Hag=s64",
      "userId": "07943946620482264891"
     },
     "user_tz": -420
    },
    "id": "rbaSCULxg74r",
    "outputId": "0c067f45-02d5-477f-d4e6-8da2bf168ad8"
   },
   "outputs": [
    {
     "data": {
      "text/html": [
       "<div>\n",
       "<style scoped>\n",
       "    .dataframe tbody tr th:only-of-type {\n",
       "        vertical-align: middle;\n",
       "    }\n",
       "\n",
       "    .dataframe tbody tr th {\n",
       "        vertical-align: top;\n",
       "    }\n",
       "\n",
       "    .dataframe thead th {\n",
       "        text-align: right;\n",
       "    }\n",
       "</style>\n",
       "<table border=\"1\" class=\"dataframe\">\n",
       "  <thead>\n",
       "    <tr style=\"text-align: right;\">\n",
       "      <th></th>\n",
       "      <th>content</th>\n",
       "      <th>rating</th>\n",
       "    </tr>\n",
       "  </thead>\n",
       "  <tbody>\n",
       "    <tr>\n",
       "      <th>0</th>\n",
       "      <td>Form xấu, không như hình , sai màu, đặt xnah đ...</td>\n",
       "      <td>1</td>\n",
       "    </tr>\n",
       "    <tr>\n",
       "      <th>1</th>\n",
       "      <td>Đặt jean màu xanh giao màu thì bạc bạc k giống...</td>\n",
       "      <td>1</td>\n",
       "    </tr>\n",
       "    <tr>\n",
       "      <th>2</th>\n",
       "      <td>Ko giống hình form ống quần quá to \\nĐòi đổi s...</td>\n",
       "      <td>1</td>\n",
       "    </tr>\n",
       "    <tr>\n",
       "      <th>3</th>\n",
       "      <td>Đặt xám xanh mà gửi về màu bạc ăn dau buoi à s...</td>\n",
       "      <td>1</td>\n",
       "    </tr>\n",
       "    <tr>\n",
       "      <th>4</th>\n",
       "      <td>Mọi người đừng mua đặt 2 cái giao 1 cái thái đ...</td>\n",
       "      <td>1</td>\n",
       "    </tr>\n",
       "  </tbody>\n",
       "</table>\n",
       "</div>"
      ],
      "text/plain": [
       "                                             content  rating\n",
       "0  Form xấu, không như hình , sai màu, đặt xnah đ...       1\n",
       "1  Đặt jean màu xanh giao màu thì bạc bạc k giống...       1\n",
       "2  Ko giống hình form ống quần quá to \\nĐòi đổi s...       1\n",
       "3  Đặt xám xanh mà gửi về màu bạc ăn dau buoi à s...       1\n",
       "4  Mọi người đừng mua đặt 2 cái giao 1 cái thái đ...       1"
      ]
     },
     "execution_count": 23,
     "metadata": {},
     "output_type": "execute_result"
    }
   ],
   "source": [
    "data_sub.head()"
   ]
  },
  {
   "cell_type": "code",
   "execution_count": 24,
   "metadata": {
    "executionInfo": {
     "elapsed": 21,
     "status": "ok",
     "timestamp": 1636564408848,
     "user": {
      "displayName": "Chau Lu",
      "photoUrl": "https://lh3.googleusercontent.com/a-/AOh14GgITySxJua8ofYGMqrwKGfNA3zQqBihlO807y2Hag=s64",
      "userId": "07943946620482264891"
     },
     "user_tz": -420
    },
    "id": "eTgWe3gqg74l"
   },
   "outputs": [],
   "source": [
    "##LOAD EMOJICON\n",
    "file = open('files/emojicon.txt', 'r', encoding=\"utf8\")\n",
    "emoji_lst = file.read().split('\\n')\n",
    "emoji_dict = {}\n",
    "for line in emoji_lst:\n",
    "    key, value = line.split('\\t')\n",
    "    emoji_dict[key] = str(value)\n",
    "file.close()\n",
    "#################\n",
    "#LOAD TEENCODE\n",
    "file = open('files/teencode.txt', 'r', encoding=\"utf8\")\n",
    "teen_lst = file.read().split('\\n')\n",
    "teen_dict = {}\n",
    "for line in teen_lst:\n",
    "    key, value = line.split('\\t')\n",
    "    teen_dict[key] = str(value)\n",
    "file.close()\n",
    "###############\n",
    "#LOAD TRANSLATE ENGLISH -> VNMESE\n",
    "file = open('files/english-vnmese.txt', 'r', encoding=\"utf8\")\n",
    "english_lst = file.read().split('\\n')\n",
    "english_dict = {}\n",
    "for line in english_lst:\n",
    "    key, value = line.split('\\t')\n",
    "    english_dict[key] = str(value)\n",
    "file.close()\n",
    "################\n",
    "#LOAD wrong words\n",
    "file = open('files/wrong-word.txt', 'r', encoding=\"utf8\")\n",
    "wrong_lst = file.read().split('\\n')\n",
    "file.close()\n",
    "#################\n",
    "#LOAD STOPWORDS\n",
    "file = open('files/vietnamese-stopwords.txt', 'r', encoding=\"utf8\")\n",
    "stopwords_lst = file.read().split('\\n')\n",
    "file.close()\n",
    "#LOAD NOTWORDS\n",
    "file = open('files/not.txt', 'r', encoding=\"utf8\")\n",
    "not_lst = file.read().split('\\n')\n",
    "file.close()"
   ]
  },
  {
   "cell_type": "code",
   "execution_count": 25,
   "metadata": {
    "executionInfo": {
     "elapsed": 20,
     "status": "ok",
     "timestamp": 1636564408848,
     "user": {
      "displayName": "Chau Lu",
      "photoUrl": "https://lh3.googleusercontent.com/a-/AOh14GgITySxJua8ofYGMqrwKGfNA3zQqBihlO807y2Hag=s64",
      "userId": "07943946620482264891"
     },
     "user_tz": -420
    },
    "id": "oMFpJf_3g74m"
   },
   "outputs": [],
   "source": [
    "def process_text(text, emoji_dict, teen_dict, wrong_lst):\n",
    "    document = text.lower()\n",
    "    document = document.replace(\"’\",'')\n",
    "    document = regex.sub(r'\\.+', \".\", document)\n",
    "    new_sentence =''\n",
    "    for sentence in sent_tokenize(document):\n",
    "        # if not(sentence.isascii()):\n",
    "        ###### CONVERT EMOJICON\n",
    "        sentence = ''.join(' '+emoji_dict[word]+' ' if word in emoji_dict else word for word in list(sentence))\n",
    "        ###### DEL Punctuation & Numbers\n",
    "        pattern = r'(?i)\\b[a-záàảãạăắằẳẵặâấầẩẫậéèẻẽẹêếềểễệóòỏõọôốồổỗộơớờởỡợíìỉĩịúùủũụưứừửữựýỳỷỹỵđ]+\\b'\n",
    "        sentence = ' '.join(regex.findall(pattern,sentence))\n",
    "        ###### CONVERT TEENCODE\n",
    "        sentence = ' '.join(teen_dict[word] if word in teen_dict else word for word in sentence.split())\n",
    "        ###### DEL wrong words   \n",
    "        sentence = ' '.join('' if word in wrong_lst else word for word in sentence.split())\n",
    "        new_sentence = new_sentence+ sentence + '. '                    \n",
    "    document = new_sentence  \n",
    "    #print(document)\n",
    "    ###### DEL excess blank space\n",
    "    document = regex.sub(r'\\s+', ' ', document).strip()\n",
    "    document = regex.sub(r'([a-z])\\1+', lambda m: m.group(1).lower(), document, flags=regex.IGNORECASE)\n",
    "    return document"
   ]
  },
  {
   "cell_type": "code",
   "execution_count": 26,
   "metadata": {
    "executionInfo": {
     "elapsed": 21,
     "status": "ok",
     "timestamp": 1636564408849,
     "user": {
      "displayName": "Chau Lu",
      "photoUrl": "https://lh3.googleusercontent.com/a-/AOh14GgITySxJua8ofYGMqrwKGfNA3zQqBihlO807y2Hag=s64",
      "userId": "07943946620482264891"
     },
     "user_tz": -420
    },
    "id": "GSkQgF2pg74n"
   },
   "outputs": [],
   "source": [
    "# Chuẩn hóa unicode tiếng việt\n",
    "def loaddicchar():\n",
    "    uniChars = \"àáảãạâầấẩẫậăằắẳẵặèéẻẽẹêềếểễệđìíỉĩịòóỏõọôồốổỗộơờớởỡợùúủũụưừứửữựỳýỷỹỵÀÁẢÃẠÂẦẤẨẪẬĂẰẮẲẴẶÈÉẺẼẸÊỀẾỂỄỆĐÌÍỈĨỊÒÓỎÕỌÔỒỐỔỖỘƠỜỚỞỠỢÙÚỦŨỤƯỪỨỬỮỰỲÝỶỸỴÂĂĐÔƠƯ\"\n",
    "    unsignChars = \"aaaaaaaaaaaaaaaaaeeeeeeeeeeediiiiiooooooooooooooooouuuuuuuuuuuyyyyyAAAAAAAAAAAAAAAAAEEEEEEEEEEEDIIIOOOOOOOOOOOOOOOOOOOUUUUUUUUUUUYYYYYAADOOU\"\n",
    "\n",
    "    dic = {}\n",
    "    char1252 = 'à|á|ả|ã|ạ|ầ|ấ|ẩ|ẫ|ậ|ằ|ắ|ẳ|ẵ|ặ|è|é|ẻ|ẽ|ẹ|ề|ế|ể|ễ|ệ|ì|í|ỉ|ĩ|ị|ò|ó|ỏ|õ|ọ|ồ|ố|ổ|ỗ|ộ|ờ|ớ|ở|ỡ|ợ|ù|ú|ủ|ũ|ụ|ừ|ứ|ử|ữ|ự|ỳ|ý|ỷ|ỹ|ỵ|À|Á|Ả|Ã|Ạ|Ầ|Ấ|Ẩ|Ẫ|Ậ|Ằ|Ắ|Ẳ|Ẵ|Ặ|È|É|Ẻ|Ẽ|Ẹ|Ề|Ế|Ể|Ễ|Ệ|Ì|Í|Ỉ|Ĩ|Ị|Ò|Ó|Ỏ|Õ|Ọ|Ồ|Ố|Ổ|Ỗ|Ộ|Ờ|Ớ|Ở|Ỡ|Ợ|Ù|Ú|Ủ|Ũ|Ụ|Ừ|Ứ|Ử|Ữ|Ự|Ỳ|Ý|Ỷ|Ỹ|Ỵ'.split(\n",
    "        '|')\n",
    "    charutf8 = \"à|á|ả|ã|ạ|ầ|ấ|ẩ|ẫ|ậ|ằ|ắ|ẳ|ẵ|ặ|è|é|ẻ|ẽ|ẹ|ề|ế|ể|ễ|ệ|ì|í|ỉ|ĩ|ị|ò|ó|ỏ|õ|ọ|ồ|ố|ổ|ỗ|ộ|ờ|ớ|ở|ỡ|ợ|ù|ú|ủ|ũ|ụ|ừ|ứ|ử|ữ|ự|ỳ|ý|ỷ|ỹ|ỵ|À|Á|Ả|Ã|Ạ|Ầ|Ấ|Ẩ|Ẫ|Ậ|Ằ|Ắ|Ẳ|Ẵ|Ặ|È|É|Ẻ|Ẽ|Ẹ|Ề|Ế|Ể|Ễ|Ệ|Ì|Í|Ỉ|Ĩ|Ị|Ò|Ó|Ỏ|Õ|Ọ|Ồ|Ố|Ổ|Ỗ|Ộ|Ờ|Ớ|Ở|Ỡ|Ợ|Ù|Ú|Ủ|Ũ|Ụ|Ừ|Ứ|Ử|Ữ|Ự|Ỳ|Ý|Ỷ|Ỹ|Ỵ\".split(\n",
    "        '|')\n",
    "    for i in range(len(char1252)):\n",
    "        dic[char1252[i]] = charutf8[i]\n",
    "    return dic\n",
    " \n",
    "# Đưa toàn bộ dữ liệu qua hàm này để chuẩn hóa lại\n",
    "def covert_unicode(txt):\n",
    "    dicchar = loaddicchar()\n",
    "    return regex.sub(\n",
    "        r'à|á|ả|ã|ạ|ầ|ấ|ẩ|ẫ|ậ|ằ|ắ|ẳ|ẵ|ặ|è|é|ẻ|ẽ|ẹ|ề|ế|ể|ễ|ệ|ì|í|ỉ|ĩ|ị|ò|ó|ỏ|õ|ọ|ồ|ố|ổ|ỗ|ộ|ờ|ớ|ở|ỡ|ợ|ù|ú|ủ|ũ|ụ|ừ|ứ|ử|ữ|ự|ỳ|ý|ỷ|ỹ|ỵ|À|Á|Ả|Ã|Ạ|Ầ|Ấ|Ẩ|Ẫ|Ậ|Ằ|Ắ|Ẳ|Ẵ|Ặ|È|É|Ẻ|Ẽ|Ẹ|Ề|Ế|Ể|Ễ|Ệ|Ì|Í|Ỉ|Ĩ|Ị|Ò|Ó|Ỏ|Õ|Ọ|Ồ|Ố|Ổ|Ỗ|Ộ|Ờ|Ớ|Ở|Ỡ|Ợ|Ù|Ú|Ủ|Ũ|Ụ|Ừ|Ứ|Ử|Ữ|Ự|Ỳ|Ý|Ỷ|Ỹ|Ỵ',\n",
    "        lambda x: dicchar[x.group()], txt)"
   ]
  },
  {
   "cell_type": "code",
   "execution_count": 27,
   "metadata": {
    "executionInfo": {
     "elapsed": 21,
     "status": "ok",
     "timestamp": 1636564408849,
     "user": {
      "displayName": "Chau Lu",
      "photoUrl": "https://lh3.googleusercontent.com/a-/AOh14GgITySxJua8ofYGMqrwKGfNA3zQqBihlO807y2Hag=s64",
      "userId": "07943946620482264891"
     },
     "user_tz": -420
    },
    "id": "qlbPtr5Zg74o"
   },
   "outputs": [],
   "source": [
    "def process_special_word(text):\n",
    "    for khong in not_lst:\n",
    "      new_text = ''\n",
    "      text_lst = text.split()\n",
    "      i= 0\n",
    "      if khong in text_lst:\n",
    "          while i <= len(text_lst) - 1:\n",
    "              word = text_lst[i]\n",
    "              if  word == khong:\n",
    "                  next_idx = i+1\n",
    "                  if next_idx <= len(text_lst) -1:\n",
    "                      word = word +'_'+ text_lst[next_idx]\n",
    "                  i= next_idx + 1\n",
    "              else:\n",
    "                  i = i+1\n",
    "              new_text = new_text + word + ' '\n",
    "      else:\n",
    "          new_text = text\n",
    "      text=new_text\n",
    "    return new_text.strip()"
   ]
  },
  {
   "cell_type": "code",
   "execution_count": 28,
   "metadata": {
    "executionInfo": {
     "elapsed": 22,
     "status": "ok",
     "timestamp": 1636564408850,
     "user": {
      "displayName": "Chau Lu",
      "photoUrl": "https://lh3.googleusercontent.com/a-/AOh14GgITySxJua8ofYGMqrwKGfNA3zQqBihlO807y2Hag=s64",
      "userId": "07943946620482264891"
     },
     "user_tz": -420
    },
    "id": "q8p1hqlJg74o"
   },
   "outputs": [],
   "source": [
    "def process_postag_thesea(text):\n",
    "    new_document = ''\n",
    "    for sentence in sent_tokenize(text):\n",
    "        sentence = sentence.replace('.','')\n",
    "        ###### POS tag\n",
    "        lst_word_type = ['A','AB','V','VB','VY','R','M']\n",
    "        sentence = ' '.join( word[0] if word[1].upper() in lst_word_type else '' for word in pos_tag(process_special_word(word_tokenize(sentence, format=\"text\"))))\n",
    "        new_document = new_document + sentence + ' '\n",
    "    ###### DEL excess blank space\n",
    "    new_document = regex.sub(r'\\s+', ' ', new_document).strip()\n",
    "    return new_document"
   ]
  },
  {
   "cell_type": "code",
   "execution_count": 29,
   "metadata": {
    "executionInfo": {
     "elapsed": 21,
     "status": "ok",
     "timestamp": 1636564408850,
     "user": {
      "displayName": "Chau Lu",
      "photoUrl": "https://lh3.googleusercontent.com/a-/AOh14GgITySxJua8ofYGMqrwKGfNA3zQqBihlO807y2Hag=s64",
      "userId": "07943946620482264891"
     },
     "user_tz": -420
    },
    "id": "M2izKG4rg74p"
   },
   "outputs": [],
   "source": [
    "def remove_stopword(text, stopwords):\n",
    "    ###### REMOVE stop words\n",
    "    document = ' '.join('' if word in stopwords else word for word in text.split())\n",
    "    ###### DEL excess blank space\n",
    "    document = regex.sub(r'\\s+', ' ', document).strip()\n",
    "    return document"
   ]
  },
  {
   "cell_type": "code",
   "execution_count": 30,
   "metadata": {
    "executionInfo": {
     "elapsed": 21,
     "status": "ok",
     "timestamp": 1636564408850,
     "user": {
      "displayName": "Chau Lu",
      "photoUrl": "https://lh3.googleusercontent.com/a-/AOh14GgITySxJua8ofYGMqrwKGfNA3zQqBihlO807y2Hag=s64",
      "userId": "07943946620482264891"
     },
     "user_tz": -420
    },
    "id": "A9pVGXEFJSU0"
   },
   "outputs": [],
   "source": [
    "df = pd.DataFrame()"
   ]
  },
  {
   "cell_type": "code",
   "execution_count": 31,
   "metadata": {
    "executionInfo": {
     "elapsed": 22,
     "status": "ok",
     "timestamp": 1636564408851,
     "user": {
      "displayName": "Chau Lu",
      "photoUrl": "https://lh3.googleusercontent.com/a-/AOh14GgITySxJua8ofYGMqrwKGfNA3zQqBihlO807y2Hag=s64",
      "userId": "07943946620482264891"
     },
     "user_tz": -420
    },
    "id": "6HDAwGYrIJ6I"
   },
   "outputs": [],
   "source": [
    "df['content'] = data_sub['content']\n",
    "df['rating'] = data_sub['rating']"
   ]
  },
  {
   "cell_type": "code",
   "execution_count": 32,
   "metadata": {
    "executionInfo": {
     "elapsed": 36254,
     "status": "ok",
     "timestamp": 1636564445084,
     "user": {
      "displayName": "Chau Lu",
      "photoUrl": "https://lh3.googleusercontent.com/a-/AOh14GgITySxJua8ofYGMqrwKGfNA3zQqBihlO807y2Hag=s64",
      "userId": "07943946620482264891"
     },
     "user_tz": -420
    },
    "id": "ks5oqKQHEo2X"
   },
   "outputs": [],
   "source": [
    "tx = [process_text(i , emoji_dict, teen_dict, wrong_lst) for i in data_sub['content']]"
   ]
  },
  {
   "cell_type": "code",
   "execution_count": 33,
   "metadata": {
    "executionInfo": {
     "elapsed": 2963,
     "status": "ok",
     "timestamp": 1636564448045,
     "user": {
      "displayName": "Chau Lu",
      "photoUrl": "https://lh3.googleusercontent.com/a-/AOh14GgITySxJua8ofYGMqrwKGfNA3zQqBihlO807y2Hag=s64",
      "userId": "07943946620482264891"
     },
     "user_tz": -420
    },
    "id": "pyRuyCSsHM6T"
   },
   "outputs": [],
   "source": [
    "tx = [covert_unicode(i) for i in tx]"
   ]
  },
  {
   "cell_type": "code",
   "execution_count": 34,
   "metadata": {
    "executionInfo": {
     "elapsed": 381547,
     "status": "ok",
     "timestamp": 1636564829585,
     "user": {
      "displayName": "Chau Lu",
      "photoUrl": "https://lh3.googleusercontent.com/a-/AOh14GgITySxJua8ofYGMqrwKGfNA3zQqBihlO807y2Hag=s64",
      "userId": "07943946620482264891"
     },
     "user_tz": -420
    },
    "id": "u_V5sPVGGi3s"
   },
   "outputs": [],
   "source": [
    "tx = [process_postag_thesea(i) for i in tx]"
   ]
  },
  {
   "cell_type": "code",
   "execution_count": 35,
   "metadata": {
    "executionInfo": {
     "elapsed": 2457,
     "status": "ok",
     "timestamp": 1636564832030,
     "user": {
      "displayName": "Chau Lu",
      "photoUrl": "https://lh3.googleusercontent.com/a-/AOh14GgITySxJua8ofYGMqrwKGfNA3zQqBihlO807y2Hag=s64",
      "userId": "07943946620482264891"
     },
     "user_tz": -420
    },
    "id": "w_FiW7AQH6if"
   },
   "outputs": [],
   "source": [
    "tx = [remove_stopword(i, stopwords_lst) for i in tx]"
   ]
  },
  {
   "cell_type": "code",
   "execution_count": 36,
   "metadata": {
    "executionInfo": {
     "elapsed": 14,
     "status": "ok",
     "timestamp": 1636564832031,
     "user": {
      "displayName": "Chau Lu",
      "photoUrl": "https://lh3.googleusercontent.com/a-/AOh14GgITySxJua8ofYGMqrwKGfNA3zQqBihlO807y2Hag=s64",
      "userId": "07943946620482264891"
     },
     "user_tz": -420
    },
    "id": "H_wNC2iOuitr"
   },
   "outputs": [],
   "source": [
    "df['text'] = np.array(tx)"
   ]
  },
  {
   "cell_type": "markdown",
   "metadata": {
    "id": "zZ2AFpQu_ATK"
   },
   "source": [
    "##**3. Visualize Data**"
   ]
  },
  {
   "cell_type": "code",
   "execution_count": 37,
   "metadata": {
    "executionInfo": {
     "elapsed": 6070,
     "status": "ok",
     "timestamp": 1636564838089,
     "user": {
      "displayName": "Chau Lu",
      "photoUrl": "https://lh3.googleusercontent.com/a-/AOh14GgITySxJua8ofYGMqrwKGfNA3zQqBihlO807y2Hag=s64",
      "userId": "07943946620482264891"
     },
     "user_tz": -420
    },
    "id": "-7ySRwNJg741"
   },
   "outputs": [],
   "source": [
    "df.to_excel(\"shopee_com_clean.xlsx\",index=False)"
   ]
  },
  {
   "cell_type": "code",
   "execution_count": 38,
   "metadata": {
    "executionInfo": {
     "elapsed": 42,
     "status": "ok",
     "timestamp": 1636564838099,
     "user": {
      "displayName": "Chau Lu",
      "photoUrl": "https://lh3.googleusercontent.com/a-/AOh14GgITySxJua8ofYGMqrwKGfNA3zQqBihlO807y2Hag=s64",
      "userId": "07943946620482264891"
     },
     "user_tz": -420
    },
    "id": "8s9aSI1_8GoH"
   },
   "outputs": [],
   "source": [
    "df_sub=df[['text','rating']]"
   ]
  },
  {
   "cell_type": "code",
   "execution_count": 40,
   "metadata": {
    "executionInfo": {
     "elapsed": 41,
     "status": "ok",
     "timestamp": 1636564838100,
     "user": {
      "displayName": "Chau Lu",
      "photoUrl": "https://lh3.googleusercontent.com/a-/AOh14GgITySxJua8ofYGMqrwKGfNA3zQqBihlO807y2Hag=s64",
      "userId": "07943946620482264891"
     },
     "user_tz": -420
    },
    "id": "C7LshlWvg74w"
   },
   "outputs": [],
   "source": [
    "# Create label column\n",
    "conditions = [\n",
    "    (df_sub['rating'] <= 1),\n",
    "    (df_sub['rating'] <= 4),\n",
    "    (df_sub['rating'] >4)\n",
    "    ]\n",
    "values = ['negative', 'neutral', 'positive']\n",
    "df_sub['label'] = np.select(conditions, values)"
   ]
  },
  {
   "cell_type": "code",
   "execution_count": 41,
   "metadata": {
    "colab": {
     "base_uri": "https://localhost:8080/",
     "height": 203
    },
    "executionInfo": {
     "elapsed": 42,
     "status": "ok",
     "timestamp": 1636564838101,
     "user": {
      "displayName": "Chau Lu",
      "photoUrl": "https://lh3.googleusercontent.com/a-/AOh14GgITySxJua8ofYGMqrwKGfNA3zQqBihlO807y2Hag=s64",
      "userId": "07943946620482264891"
     },
     "user_tz": -420
    },
    "id": "ZhIBvfmvg74y",
    "outputId": "7de9fdb4-c7ff-4472-d427-4fe5ed15b956"
   },
   "outputs": [
    {
     "data": {
      "text/html": [
       "<div>\n",
       "<style scoped>\n",
       "    .dataframe tbody tr th:only-of-type {\n",
       "        vertical-align: middle;\n",
       "    }\n",
       "\n",
       "    .dataframe tbody tr th {\n",
       "        vertical-align: top;\n",
       "    }\n",
       "\n",
       "    .dataframe thead th {\n",
       "        text-align: right;\n",
       "    }\n",
       "</style>\n",
       "<table border=\"1\" class=\"dataframe\">\n",
       "  <thead>\n",
       "    <tr style=\"text-align: right;\">\n",
       "      <th></th>\n",
       "      <th>text</th>\n",
       "      <th>label</th>\n",
       "      <th>rating</th>\n",
       "    </tr>\n",
       "  </thead>\n",
       "  <tbody>\n",
       "    <tr>\n",
       "      <th>0</th>\n",
       "      <td>xấu không_như sai đậm hỏi không_đúng không_trả...</td>\n",
       "      <td>negative</td>\n",
       "      <td>1</td>\n",
       "    </tr>\n",
       "    <tr>\n",
       "      <th>1</th>\n",
       "      <td>không_giống chật</td>\n",
       "      <td>negative</td>\n",
       "      <td>1</td>\n",
       "    </tr>\n",
       "    <tr>\n",
       "      <th>2</th>\n",
       "      <td>không_giống to đòi đổi_shop đúng</td>\n",
       "      <td>negative</td>\n",
       "      <td>1</td>\n",
       "    </tr>\n",
       "    <tr>\n",
       "      <th>3</th>\n",
       "      <td>ăn dau</td>\n",
       "      <td>negative</td>\n",
       "      <td>1</td>\n",
       "    </tr>\n",
       "    <tr>\n",
       "      <th>4</th>\n",
       "      <td>đừng không_lịch_sự</td>\n",
       "      <td>negative</td>\n",
       "      <td>1</td>\n",
       "    </tr>\n",
       "  </tbody>\n",
       "</table>\n",
       "</div>"
      ],
      "text/plain": [
       "                                                text     label  rating\n",
       "0  xấu không_như sai đậm hỏi không_đúng không_trả...  negative       1\n",
       "1                                   không_giống chật  negative       1\n",
       "2                   không_giống to đòi đổi_shop đúng  negative       1\n",
       "3                                             ăn dau  negative       1\n",
       "4                                 đừng không_lịch_sự  negative       1"
      ]
     },
     "execution_count": 41,
     "metadata": {},
     "output_type": "execute_result"
    }
   ],
   "source": [
    "df_sub2=df_sub[['text', 'label','rating']]\n",
    "df_sub2.head()"
   ]
  },
  {
   "cell_type": "code",
   "execution_count": 42,
   "metadata": {
    "colab": {
     "base_uri": "https://localhost:8080/"
    },
    "executionInfo": {
     "elapsed": 34,
     "status": "ok",
     "timestamp": 1636564838102,
     "user": {
      "displayName": "Chau Lu",
      "photoUrl": "https://lh3.googleusercontent.com/a-/AOh14GgITySxJua8ofYGMqrwKGfNA3zQqBihlO807y2Hag=s64",
      "userId": "07943946620482264891"
     },
     "user_tz": -420
    },
    "id": "8afv_cN3g74y",
    "outputId": "243fff7d-3c8b-40c1-ac37-a7d7c119e820"
   },
   "outputs": [
    {
     "data": {
      "text/plain": [
       "(44786, 3)"
      ]
     },
     "execution_count": 42,
     "metadata": {},
     "output_type": "execute_result"
    }
   ],
   "source": [
    "df_sub2.shape"
   ]
  },
  {
   "cell_type": "code",
   "execution_count": 43,
   "metadata": {
    "executionInfo": {
     "elapsed": 30,
     "status": "ok",
     "timestamp": 1636564838102,
     "user": {
      "displayName": "Chau Lu",
      "photoUrl": "https://lh3.googleusercontent.com/a-/AOh14GgITySxJua8ofYGMqrwKGfNA3zQqBihlO807y2Hag=s64",
      "userId": "07943946620482264891"
     },
     "user_tz": -420
    },
    "id": "os5IpR9Yg74z"
   },
   "outputs": [],
   "source": [
    "df_sub2['text'] = df_sub2['text'].replace('', np.nan)"
   ]
  },
  {
   "cell_type": "code",
   "execution_count": 44,
   "metadata": {
    "executionInfo": {
     "elapsed": 29,
     "status": "ok",
     "timestamp": 1636564838103,
     "user": {
      "displayName": "Chau Lu",
      "photoUrl": "https://lh3.googleusercontent.com/a-/AOh14GgITySxJua8ofYGMqrwKGfNA3zQqBihlO807y2Hag=s64",
      "userId": "07943946620482264891"
     },
     "user_tz": -420
    },
    "id": "a2lBk-UYg74z"
   },
   "outputs": [],
   "source": [
    "# xóa dữ liệu na/null\n",
    "df_sub2 = df_sub2.dropna(axis=0, subset=['text'])"
   ]
  },
  {
   "cell_type": "code",
   "execution_count": 45,
   "metadata": {
    "colab": {
     "base_uri": "https://localhost:8080/"
    },
    "executionInfo": {
     "elapsed": 30,
     "status": "ok",
     "timestamp": 1636564838104,
     "user": {
      "displayName": "Chau Lu",
      "photoUrl": "https://lh3.googleusercontent.com/a-/AOh14GgITySxJua8ofYGMqrwKGfNA3zQqBihlO807y2Hag=s64",
      "userId": "07943946620482264891"
     },
     "user_tz": -420
    },
    "id": "R-GW_7tvg74z",
    "outputId": "f852e16a-4814-4a6f-c8d5-2e9b0c6da51c"
   },
   "outputs": [
    {
     "data": {
      "text/plain": [
       "(44234, 3)"
      ]
     },
     "execution_count": 45,
     "metadata": {},
     "output_type": "execute_result"
    }
   ],
   "source": [
    "df_sub2.shape"
   ]
  },
  {
   "cell_type": "code",
   "execution_count": 46,
   "metadata": {
    "executionInfo": {
     "elapsed": 29,
     "status": "ok",
     "timestamp": 1636564838105,
     "user": {
      "displayName": "Chau Lu",
      "photoUrl": "https://lh3.googleusercontent.com/a-/AOh14GgITySxJua8ofYGMqrwKGfNA3zQqBihlO807y2Hag=s64",
      "userId": "07943946620482264891"
     },
     "user_tz": -420
    },
    "id": "vbTUKxhHg740"
   },
   "outputs": [],
   "source": [
    "# xóa dữ liệu trùng\n",
    "df_sub2 = df_sub2.drop_duplicates()"
   ]
  },
  {
   "cell_type": "code",
   "execution_count": 47,
   "metadata": {
    "colab": {
     "base_uri": "https://localhost:8080/"
    },
    "executionInfo": {
     "elapsed": 29,
     "status": "ok",
     "timestamp": 1636564838105,
     "user": {
      "displayName": "Chau Lu",
      "photoUrl": "https://lh3.googleusercontent.com/a-/AOh14GgITySxJua8ofYGMqrwKGfNA3zQqBihlO807y2Hag=s64",
      "userId": "07943946620482264891"
     },
     "user_tz": -420
    },
    "id": "d6w1G6qYg740",
    "outputId": "734ae133-2549-44cb-8d33-43a09d1a11a2"
   },
   "outputs": [
    {
     "data": {
      "text/plain": [
       "(41443, 3)"
      ]
     },
     "execution_count": 47,
     "metadata": {},
     "output_type": "execute_result"
    }
   ],
   "source": [
    "df_sub2.shape"
   ]
  },
  {
   "cell_type": "code",
   "execution_count": 73,
   "metadata": {
    "colab": {
     "base_uri": "https://localhost:8080/",
     "height": 295
    },
    "executionInfo": {
     "elapsed": 1126,
     "status": "ok",
     "timestamp": 1636565156236,
     "user": {
      "displayName": "Chau Lu",
      "photoUrl": "https://lh3.googleusercontent.com/a-/AOh14GgITySxJua8ofYGMqrwKGfNA3zQqBihlO807y2Hag=s64",
      "userId": "07943946620482264891"
     },
     "user_tz": -420
    },
    "id": "9xXjlo-Eg740",
    "outputId": "02dd050c-8339-4c11-a3cc-5740404f2358"
   },
   "outputs": [
    {
     "data": {
      "image/png": "[encoded data removed]",
      "text/plain": [
       "<Figure size 432x288 with 1 Axes>"
      ]
     },
     "metadata": {
      "needs_background": "light"
     },
     "output_type": "display_data"
    }
   ],
   "source": [
    "# Tỷ lệ label\n",
    "sns.countplot(x='label', data=df_sub2)\n",
    "plt.xlabel(\"label\")\n",
    "plt.title(\"Number of data of each label\")\n",
    "plt.show()"
   ]
  },
  {
   "cell_type": "markdown",
   "metadata": {
    "id": "5zYK5rWF4wBe"
   },
   "source": [
    "- Dữ liệu không cân bằng, tỷ lệ neutral chiếm chủ yếu"
   ]
  },
  {
   "cell_type": "code",
   "execution_count": 49,
   "metadata": {
    "colab": {
     "base_uri": "https://localhost:8080/",
     "height": 110
    },
    "executionInfo": {
     "elapsed": 23,
     "status": "ok",
     "timestamp": 1636564838106,
     "user": {
      "displayName": "Chau Lu",
      "photoUrl": "https://lh3.googleusercontent.com/a-/AOh14GgITySxJua8ofYGMqrwKGfNA3zQqBihlO807y2Hag=s64",
      "userId": "07943946620482264891"
     },
     "user_tz": -420
    },
    "id": "I0sF8Sb-g740",
    "outputId": "287bcf9b-4491-4a2f-ba65-945196baad6a"
   },
   "outputs": [
    {
     "data": {
      "text/html": [
       "<div>\n",
       "<style scoped>\n",
       "    .dataframe tbody tr th:only-of-type {\n",
       "        vertical-align: middle;\n",
       "    }\n",
       "\n",
       "    .dataframe tbody tr th {\n",
       "        vertical-align: top;\n",
       "    }\n",
       "\n",
       "    .dataframe thead th {\n",
       "        text-align: right;\n",
       "    }\n",
       "</style>\n",
       "<table border=\"1\" class=\"dataframe\">\n",
       "  <thead>\n",
       "    <tr style=\"text-align: right;\">\n",
       "      <th></th>\n",
       "      <th>text</th>\n",
       "      <th>label</th>\n",
       "      <th>rating</th>\n",
       "    </tr>\n",
       "  </thead>\n",
       "  <tbody>\n",
       "    <tr>\n",
       "      <th>0</th>\n",
       "      <td>xấu không_như sai đậm hỏi không_đúng không_trả...</td>\n",
       "      <td>negative</td>\n",
       "      <td>1</td>\n",
       "    </tr>\n",
       "    <tr>\n",
       "      <th>1</th>\n",
       "      <td>không_giống chật</td>\n",
       "      <td>negative</td>\n",
       "      <td>1</td>\n",
       "    </tr>\n",
       "  </tbody>\n",
       "</table>\n",
       "</div>"
      ],
      "text/plain": [
       "                                                text     label  rating\n",
       "0  xấu không_như sai đậm hỏi không_đúng không_trả...  negative       1\n",
       "1                                   không_giống chật  negative       1"
      ]
     },
     "execution_count": 49,
     "metadata": {},
     "output_type": "execute_result"
    }
   ],
   "source": [
    "df_sub2.head(2)"
   ]
  },
  {
   "cell_type": "code",
   "execution_count": 50,
   "metadata": {
    "executionInfo": {
     "elapsed": 23,
     "status": "ok",
     "timestamp": 1636564838107,
     "user": {
      "displayName": "Chau Lu",
      "photoUrl": "https://lh3.googleusercontent.com/a-/AOh14GgITySxJua8ofYGMqrwKGfNA3zQqBihlO807y2Hag=s64",
      "userId": "07943946620482264891"
     },
     "user_tz": -420
    },
    "id": "lWhf5kfzDRoo"
   },
   "outputs": [],
   "source": [
    "def black_color_func(word, font_size, position,orientation,random_state=None, **kwargs):\n",
    "    return(\"hsl(0,100%, 1%)\")"
   ]
  },
  {
   "cell_type": "code",
   "execution_count": 81,
   "metadata": {
    "colab": {
     "base_uri": "https://localhost:8080/",
     "height": 339
    },
    "executionInfo": {
     "elapsed": 5466,
     "status": "ok",
     "timestamp": 1636565690475,
     "user": {
      "displayName": "Chau Lu",
      "photoUrl": "https://lh3.googleusercontent.com/a-/AOh14GgITySxJua8ofYGMqrwKGfNA3zQqBihlO807y2Hag=s64",
      "userId": "07943946620482264891"
     },
     "user_tz": -420
    },
    "id": "CGxSObLrg741",
    "outputId": "8afa4b25-5507-4d92-ef4b-4dc8c37bee63"
   },
   "outputs": [
    {
     "data": {
      "image/png": "[encoded data removed]",
      "text/plain": [
       "<Figure size 720x576 with 1 Axes>"
      ]
     },
     "metadata": {
      "needs_background": "light"
     },
     "output_type": "display_data"
    }
   ],
   "source": [
    "# Positive\n",
    "cloud = np.array(df_sub2[df_sub2['label']=='positive']['text']).flatten()\n",
    "plt.figure(figsize=(10,8))\n",
    "word_cloud = wordcloud.WordCloud(max_words=100,background_color =\"white\",\n",
    "                               width=2000,height=1000).generate(str(cloud))                      \n",
    "word_cloud.recolor(color_func = black_color_func)\n",
    "plt.axis(\"off\")\n",
    "plt.imshow(word_cloud)\n",
    "plt.title('Positive class',fontdict = {'fontsize' : 30, 'color':'blue'})\n",
    "plt.show()"
   ]
  },
  {
   "cell_type": "code",
   "execution_count": 82,
   "metadata": {
    "colab": {
     "base_uri": "https://localhost:8080/",
     "height": 339
    },
    "executionInfo": {
     "elapsed": 3623,
     "status": "ok",
     "timestamp": 1636565736050,
     "user": {
      "displayName": "Chau Lu",
      "photoUrl": "https://lh3.googleusercontent.com/a-/AOh14GgITySxJua8ofYGMqrwKGfNA3zQqBihlO807y2Hag=s64",
      "userId": "07943946620482264891"
     },
     "user_tz": -420
    },
    "id": "7-bzLDgdg741",
    "outputId": "1e44859b-838a-4335-a3db-f5c82ead0dfa"
   },
   "outputs": [
    {
     "data": {
      "image/png": "[encoded data removed]",
      "text/plain": [
       "<Figure size 720x576 with 1 Axes>"
      ]
     },
     "metadata": {
      "needs_background": "light"
     },
     "output_type": "display_data"
    }
   ],
   "source": [
    "# Neutral\n",
    "cloud = np.array(df_sub2[df_sub2['label']=='neutral']['text']).flatten()\n",
    "plt.figure(figsize=(10,8))\n",
    "word_cloud = wordcloud.WordCloud(max_words=100,background_color =\"white\",\n",
    "                               width=2000,height=1000).generate(str(cloud))                      \n",
    "word_cloud.recolor(color_func = black_color_func)\n",
    "plt.axis(\"off\")\n",
    "plt.title('Neutral class',fontdict = {'fontsize' : 30, 'color':'blue'})\n",
    "plt.imshow(word_cloud)\n",
    "plt.show()"
   ]
  },
  {
   "cell_type": "code",
   "execution_count": 83,
   "metadata": {
    "colab": {
     "base_uri": "https://localhost:8080/",
     "height": 339
    },
    "executionInfo": {
     "elapsed": 4908,
     "status": "ok",
     "timestamp": 1636565763333,
     "user": {
      "displayName": "Chau Lu",
      "photoUrl": "https://lh3.googleusercontent.com/a-/AOh14GgITySxJua8ofYGMqrwKGfNA3zQqBihlO807y2Hag=s64",
      "userId": "07943946620482264891"
     },
     "user_tz": -420
    },
    "id": "hv-68iSyg741",
    "outputId": "92ba5ef2-fa46-41cd-e74c-fe4bdfea8277"
   },
   "outputs": [
    {
     "data": {
      "image/png": "[encoded data removed]",
      "text/plain": [
       "<Figure size 720x576 with 1 Axes>"
      ]
     },
     "metadata": {
      "needs_background": "light"
     },
     "output_type": "display_data"
    }
   ],
   "source": [
    "# negative\n",
    "cloud = np.array(df_sub2[df_sub2['label']=='negative']['text']).flatten()\n",
    "plt.figure(figsize=(10,8))\n",
    "word_cloud = wordcloud.WordCloud(max_words=100,background_color =\"white\",\n",
    "                               width=2000,height=1000).generate(str(cloud))                      \n",
    "word_cloud.recolor(color_func = black_color_func)\n",
    "plt.axis(\"off\")\n",
    "plt.title('Negative class',fontdict = {'fontsize' : 30, 'color':'blue'})\n",
    "plt.imshow(word_cloud)\n",
    "plt.show()"
   ]
  },
  {
   "cell_type": "markdown",
   "metadata": {
    "id": "RuXb3v_WiZCf"
   },
   "source": [
    "##**4.Build model**"
   ]
  },
  {
   "cell_type": "code",
   "execution_count": 54,
   "metadata": {
    "executionInfo": {
     "elapsed": 25,
     "status": "ok",
     "timestamp": 1636564848035,
     "user": {
      "displayName": "Chau Lu",
      "photoUrl": "https://lh3.googleusercontent.com/a-/AOh14GgITySxJua8ofYGMqrwKGfNA3zQqBihlO807y2Hag=s64",
      "userId": "07943946620482264891"
     },
     "user_tz": -420
    },
    "id": "CE2F6l0hrnv1"
   },
   "outputs": [],
   "source": [
    "from sklearn.naive_bayes import MultinomialNB\n",
    "from sklearn.preprocessing import LabelEncoder\n",
    "from sklearn.svm import SVC\n",
    "from sklearn.linear_model import LogisticRegression\n",
    "from sklearn.feature_extraction.text import CountVectorizer, TfidfTransformer\n",
    "from sklearn.pipeline import Pipeline\n",
    "from sklearn.metrics import classification_report, confusion_matrix \n",
    "from sklearn.model_selection import train_test_split  \n",
    "from sklearn.tree import DecisionTreeClassifier\n",
    "from sklearn.ensemble import RandomForestClassifier\n",
    "from sklearn.linear_model import SGDClassifier\n",
    "from sklearn import metrics\n",
    "import time\n",
    "# thu vien Tokenizer Viet\n",
    "from pyvi import ViTokenizer, ViPosTagger"
   ]
  },
  {
   "cell_type": "code",
   "execution_count": 55,
   "metadata": {
    "colab": {
     "base_uri": "https://localhost:8080/"
    },
    "executionInfo": {
     "elapsed": 24,
     "status": "ok",
     "timestamp": 1636564848036,
     "user": {
      "displayName": "Chau Lu",
      "photoUrl": "https://lh3.googleusercontent.com/a-/AOh14GgITySxJua8ofYGMqrwKGfNA3zQqBihlO807y2Hag=s64",
      "userId": "07943946620482264891"
     },
     "user_tz": -420
    },
    "id": "hHUIJzjDicaY",
    "outputId": "365a292a-5c6e-4640-ba9f-8b3e7e5489be"
   },
   "outputs": [
    {
     "data": {
      "text/plain": [
       "(41443, 3)"
      ]
     },
     "execution_count": 55,
     "metadata": {},
     "output_type": "execute_result"
    }
   ],
   "source": [
    "df_sub2.shape"
   ]
  },
  {
   "cell_type": "code",
   "execution_count": 56,
   "metadata": {
    "executionInfo": {
     "elapsed": 16,
     "status": "ok",
     "timestamp": 1636564848036,
     "user": {
      "displayName": "Chau Lu",
      "photoUrl": "https://lh3.googleusercontent.com/a-/AOh14GgITySxJua8ofYGMqrwKGfNA3zQqBihlO807y2Hag=s64",
      "userId": "07943946620482264891"
     },
     "user_tz": -420
    },
    "id": "4aiTzRduinP-"
   },
   "outputs": [],
   "source": [
    "y = df_sub2['label']\n",
    "X = df_sub2['text']"
   ]
  },
  {
   "cell_type": "code",
   "execution_count": 57,
   "metadata": {
    "executionInfo": {
     "elapsed": 17,
     "status": "ok",
     "timestamp": 1636564848037,
     "user": {
      "displayName": "Chau Lu",
      "photoUrl": "https://lh3.googleusercontent.com/a-/AOh14GgITySxJua8ofYGMqrwKGfNA3zQqBihlO807y2Hag=s64",
      "userId": "07943946620482264891"
     },
     "user_tz": -420
    },
    "id": "WX09BmtcxF3e"
   },
   "outputs": [],
   "source": [
    "X_train, X_test, y_train, y_test = train_test_split(X,y,test_size=0.2, random_state=0)"
   ]
  },
  {
   "cell_type": "code",
   "execution_count": 58,
   "metadata": {
    "colab": {
     "base_uri": "https://localhost:8080/"
    },
    "executionInfo": {
     "elapsed": 16,
     "status": "ok",
     "timestamp": 1636564848037,
     "user": {
      "displayName": "Chau Lu",
      "photoUrl": "https://lh3.googleusercontent.com/a-/AOh14GgITySxJua8ofYGMqrwKGfNA3zQqBihlO807y2Hag=s64",
      "userId": "07943946620482264891"
     },
     "user_tz": -420
    },
    "id": "-E4ddSUcnPmD",
    "outputId": "cdddcd59-700c-4532-d9fa-65f8c09211da"
   },
   "outputs": [
    {
     "data": {
      "text/plain": [
       "(33154,)"
      ]
     },
     "execution_count": 58,
     "metadata": {},
     "output_type": "execute_result"
    }
   ],
   "source": [
    "X_train.shape"
   ]
  },
  {
   "cell_type": "code",
   "execution_count": 59,
   "metadata": {
    "colab": {
     "base_uri": "https://localhost:8080/"
    },
    "executionInfo": {
     "elapsed": 14,
     "status": "ok",
     "timestamp": 1636564848038,
     "user": {
      "displayName": "Chau Lu",
      "photoUrl": "https://lh3.googleusercontent.com/a-/AOh14GgITySxJua8ofYGMqrwKGfNA3zQqBihlO807y2Hag=s64",
      "userId": "07943946620482264891"
     },
     "user_tz": -420
    },
    "id": "TO0VTtN2yUNB",
    "outputId": "85e4da92-00a0-44f7-fcf4-444aa2b0b6b8"
   },
   "outputs": [
    {
     "name": "stdout",
     "output_type": "stream",
     "text": [
      "['negative', 'neutral', 'positive'] \n",
      "\n"
     ]
    }
   ],
   "source": [
    "label_encoder = LabelEncoder()\n",
    "label_encoder.fit(y_train)\n",
    "print(list(label_encoder.classes_), '\\n')\n",
    "y_train = label_encoder.transform(y_train)\n",
    "y_test = label_encoder.transform(y_test)"
   ]
  },
  {
   "cell_type": "markdown",
   "metadata": {
    "id": "h3Yu9gEvyirs"
   },
   "source": [
    "####**Naive Bayes**"
   ]
  },
  {
   "cell_type": "code",
   "execution_count": 60,
   "metadata": {
    "colab": {
     "base_uri": "https://localhost:8080/"
    },
    "executionInfo": {
     "elapsed": 21,
     "status": "ok",
     "timestamp": 1636564849627,
     "user": {
      "displayName": "Chau Lu",
      "photoUrl": "https://lh3.googleusercontent.com/a-/AOh14GgITySxJua8ofYGMqrwKGfNA3zQqBihlO807y2Hag=s64",
      "userId": "07943946620482264891"
     },
     "user_tz": -420
    },
    "id": "-1qS5fs5rdbw",
    "outputId": "92f2936d-8439-44cf-ada8-1eb91810d077"
   },
   "outputs": [
    {
     "name": "stdout",
     "output_type": "stream",
     "text": [
      "Naive Bayes in 0.4239809513092041 seconds\n"
     ]
    }
   ],
   "source": [
    "start_time = time.time()\n",
    "\n",
    "pipe_line_nb = Pipeline([\n",
    "    ('vect', CountVectorizer()), #bag-of-words\n",
    "    ('tfidf', TfidfTransformer()), #tf-idf\n",
    "    ('clf', MultinomialNB()) #model naive bayes\n",
    "])\n",
    "\n",
    "pipe_line_nb.fit(X_train, y_train)\n",
    "\n",
    "train_time_nb = time.time() - start_time\n",
    "print('Naive Bayes in', train_time_nb, 'seconds')"
   ]
  },
  {
   "cell_type": "code",
   "execution_count": 61,
   "metadata": {
    "colab": {
     "base_uri": "https://localhost:8080/"
    },
    "executionInfo": {
     "elapsed": 15,
     "status": "ok",
     "timestamp": 1636564849627,
     "user": {
      "displayName": "Chau Lu",
      "photoUrl": "https://lh3.googleusercontent.com/a-/AOh14GgITySxJua8ofYGMqrwKGfNA3zQqBihlO807y2Hag=s64",
      "userId": "07943946620482264891"
     },
     "user_tz": -420
    },
    "id": "G3bcSEJXxMWv",
    "outputId": "a84a21c2-f94d-4c5c-82b7-ffacfe838775"
   },
   "outputs": [
    {
     "data": {
      "text/plain": [
       "0.725613802256138"
      ]
     },
     "execution_count": 61,
     "metadata": {},
     "output_type": "execute_result"
    }
   ],
   "source": [
    "pipe_line_nb.score(X_train, y_train)"
   ]
  },
  {
   "cell_type": "code",
   "execution_count": 62,
   "metadata": {
    "colab": {
     "base_uri": "https://localhost:8080/"
    },
    "executionInfo": {
     "elapsed": 11,
     "status": "ok",
     "timestamp": 1636564849627,
     "user": {
      "displayName": "Chau Lu",
      "photoUrl": "https://lh3.googleusercontent.com/a-/AOh14GgITySxJua8ofYGMqrwKGfNA3zQqBihlO807y2Hag=s64",
      "userId": "07943946620482264891"
     },
     "user_tz": -420
    },
    "id": "bGU_llhsxhz8",
    "outputId": "637cb84a-e506-445a-a919-9fdc1075e95e"
   },
   "outputs": [
    {
     "data": {
      "text/plain": [
       "0.6811436844010134"
      ]
     },
     "execution_count": 62,
     "metadata": {},
     "output_type": "execute_result"
    }
   ],
   "source": [
    "pipe_line_nb.score(X_test, y_test)"
   ]
  },
  {
   "cell_type": "code",
   "execution_count": 63,
   "metadata": {
    "executionInfo": {
     "elapsed": 9,
     "status": "ok",
     "timestamp": 1636564849628,
     "user": {
      "displayName": "Chau Lu",
      "photoUrl": "https://lh3.googleusercontent.com/a-/AOh14GgITySxJua8ofYGMqrwKGfNA3zQqBihlO807y2Hag=s64",
      "userId": "07943946620482264891"
     },
     "user_tz": -420
    },
    "id": "NYDXuhqAxlXD"
   },
   "outputs": [],
   "source": [
    "y_testhat = pipe_line_nb.predict(X_test)"
   ]
  },
  {
   "cell_type": "code",
   "execution_count": 64,
   "metadata": {
    "colab": {
     "base_uri": "https://localhost:8080/"
    },
    "executionInfo": {
     "elapsed": 9,
     "status": "ok",
     "timestamp": 1636564849629,
     "user": {
      "displayName": "Chau Lu",
      "photoUrl": "https://lh3.googleusercontent.com/a-/AOh14GgITySxJua8ofYGMqrwKGfNA3zQqBihlO807y2Hag=s64",
      "userId": "07943946620482264891"
     },
     "user_tz": -420
    },
    "id": "pVrXWSEtxn-c",
    "outputId": "974b5d80-3cc2-45e1-c219-5592212a99ab"
   },
   "outputs": [
    {
     "name": "stdout",
     "output_type": "stream",
     "text": [
      "[[ 116 1188    5]\n",
      " [  28 4647  155]\n",
      " [   1 1266  883]]\n",
      "              precision    recall  f1-score   support\n",
      "\n",
      "           0       0.80      0.09      0.16      1309\n",
      "           1       0.65      0.96      0.78      4830\n",
      "           2       0.85      0.41      0.55      2150\n",
      "\n",
      "    accuracy                           0.68      8289\n",
      "   macro avg       0.77      0.49      0.50      8289\n",
      "weighted avg       0.73      0.68      0.62      8289\n",
      "\n"
     ]
    }
   ],
   "source": [
    "# Xem kết quả thống kê\n",
    "print(confusion_matrix(y_test, y_testhat))\n",
    "print(classification_report(y_test,y_testhat))"
   ]
  },
  {
   "cell_type": "code",
   "execution_count": 65,
   "metadata": {
    "executionInfo": {
     "elapsed": 626,
     "status": "ok",
     "timestamp": 1636564850249,
     "user": {
      "displayName": "Chau Lu",
      "photoUrl": "https://lh3.googleusercontent.com/a-/AOh14GgITySxJua8ofYGMqrwKGfNA3zQqBihlO807y2Hag=s64",
      "userId": "07943946620482264891"
     },
     "user_tz": -420
    },
    "id": "tKZM6-CsXyR3"
   },
   "outputs": [],
   "source": [
    "entries = []\n",
    "entries.append(['Naive Bayes', pipe_line_nb.score(X_train, y_train), \n",
    "                    pipe_line_nb.score(X_test, y_test), abs(pipe_line_nb.score(X_train, y_train)-pipe_line_nb.score(X_test, y_test)), \n",
    "                    train_time_nb])"
   ]
  },
  {
   "cell_type": "markdown",
   "metadata": {
    "id": "nQiuupN6yplM"
   },
   "source": [
    "####**Logistic Regression**"
   ]
  },
  {
   "cell_type": "code",
   "execution_count": 66,
   "metadata": {
    "colab": {
     "base_uri": "https://localhost:8080/"
    },
    "executionInfo": {
     "elapsed": 8676,
     "status": "ok",
     "timestamp": 1636564858923,
     "user": {
      "displayName": "Chau Lu",
      "photoUrl": "https://lh3.googleusercontent.com/a-/AOh14GgITySxJua8ofYGMqrwKGfNA3zQqBihlO807y2Hag=s64",
      "userId": "07943946620482264891"
     },
     "user_tz": -420
    },
    "id": "JgvJVjdmxq3k",
    "outputId": "07f6cb4d-5a88-40f3-a7ee-65824633a854"
   },
   "outputs": [
    {
     "name": "stdout",
     "output_type": "stream",
     "text": [
      "Linear Classifier in 9.419081211090088 seconds\n"
     ]
    }
   ],
   "source": [
    "start_time = time.time()\n",
    "pipe_line_lg = Pipeline([('vect', CountVectorizer(ngram_range=(1,1),\n",
    "                                             max_df=0.8,\n",
    "                                             max_features=None)), \n",
    "                     ('tfidf', TfidfTransformer()),\n",
    "                     ('clf', LogisticRegression(solver='lbfgs', \n",
    "                                                multi_class='auto',\n",
    "                                                max_iter=10000))\n",
    "                    ])\n",
    "pipe_line_lg.fit(X_train, y_train)\n",
    " \n",
    "train_time_lg = time.time() - start_time\n",
    "print('Linear Classifier in', train_time_lg, 'seconds')"
   ]
  },
  {
   "cell_type": "code",
   "execution_count": 67,
   "metadata": {
    "colab": {
     "base_uri": "https://localhost:8080/"
    },
    "executionInfo": {
     "elapsed": 17,
     "status": "ok",
     "timestamp": 1636564858923,
     "user": {
      "displayName": "Chau Lu",
      "photoUrl": "https://lh3.googleusercontent.com/a-/AOh14GgITySxJua8ofYGMqrwKGfNA3zQqBihlO807y2Hag=s64",
      "userId": "07943946620482264891"
     },
     "user_tz": -420
    },
    "id": "7h-SNJnfx2mm",
    "outputId": "4414fea3-8cf2-4318-a399-4d1c54aca89d"
   },
   "outputs": [
    {
     "data": {
      "text/plain": [
       "0.7720033781745792"
      ]
     },
     "execution_count": 67,
     "metadata": {},
     "output_type": "execute_result"
    }
   ],
   "source": [
    "pipe_line_lg.score(X_train, y_train)"
   ]
  },
  {
   "cell_type": "code",
   "execution_count": 68,
   "metadata": {
    "colab": {
     "base_uri": "https://localhost:8080/"
    },
    "executionInfo": {
     "elapsed": 664,
     "status": "ok",
     "timestamp": 1636564859576,
     "user": {
      "displayName": "Chau Lu",
      "photoUrl": "https://lh3.googleusercontent.com/a-/AOh14GgITySxJua8ofYGMqrwKGfNA3zQqBihlO807y2Hag=s64",
      "userId": "07943946620482264891"
     },
     "user_tz": -420
    },
    "id": "xApcSOLYzkz5",
    "outputId": "6434c6ad-53c7-496b-f1dc-284cbfdcf3a2"
   },
   "outputs": [
    {
     "data": {
      "text/plain": [
       "0.725177946676318"
      ]
     },
     "execution_count": 68,
     "metadata": {},
     "output_type": "execute_result"
    }
   ],
   "source": [
    "pipe_line_lg.score(X_test, y_test)"
   ]
  },
  {
   "cell_type": "code",
   "execution_count": 69,
   "metadata": {
    "executionInfo": {
     "elapsed": 11,
     "status": "ok",
     "timestamp": 1636564859576,
     "user": {
      "displayName": "Chau Lu",
      "photoUrl": "https://lh3.googleusercontent.com/a-/AOh14GgITySxJua8ofYGMqrwKGfNA3zQqBihlO807y2Hag=s64",
      "userId": "07943946620482264891"
     },
     "user_tz": -420
    },
    "id": "k1POwf4uzmY3"
   },
   "outputs": [],
   "source": [
    "y_testhat = pipe_line_lg.predict(X_test)"
   ]
  },
  {
   "cell_type": "code",
   "execution_count": 70,
   "metadata": {
    "colab": {
     "base_uri": "https://localhost:8080/"
    },
    "executionInfo": {
     "elapsed": 11,
     "status": "ok",
     "timestamp": 1636564859577,
     "user": {
      "displayName": "Chau Lu",
      "photoUrl": "https://lh3.googleusercontent.com/a-/AOh14GgITySxJua8ofYGMqrwKGfNA3zQqBihlO807y2Hag=s64",
      "userId": "07943946620482264891"
     },
     "user_tz": -420
    },
    "id": "yV3ficw_zoXf",
    "outputId": "0b80acb4-8987-436a-9fb6-fc82301d7379"
   },
   "outputs": [
    {
     "name": "stdout",
     "output_type": "stream",
     "text": [
      "[[ 416  874   19]\n",
      " [ 261 4177  392]\n",
      " [  10  722 1418]]\n",
      "              precision    recall  f1-score   support\n",
      "\n",
      "           0       0.61      0.32      0.42      1309\n",
      "           1       0.72      0.86      0.79      4830\n",
      "           2       0.78      0.66      0.71      2150\n",
      "\n",
      "    accuracy                           0.73      8289\n",
      "   macro avg       0.70      0.61      0.64      8289\n",
      "weighted avg       0.72      0.73      0.71      8289\n",
      "\n"
     ]
    }
   ],
   "source": [
    "# Xem kết quả thống kê\n",
    "print(confusion_matrix(y_test, y_testhat))\n",
    "print(classification_report(y_test,y_testhat))"
   ]
  },
  {
   "cell_type": "code",
   "execution_count": 71,
   "metadata": {
    "executionInfo": {
     "elapsed": 656,
     "status": "ok",
     "timestamp": 1636564860229,
     "user": {
      "displayName": "Chau Lu",
      "photoUrl": "https://lh3.googleusercontent.com/a-/AOh14GgITySxJua8ofYGMqrwKGfNA3zQqBihlO807y2Hag=s64",
      "userId": "07943946620482264891"
     },
     "user_tz": -420
    },
    "id": "wNc279k5Xiz8"
   },
   "outputs": [],
   "source": [
    "entries.append(['Logistic Regression', pipe_line_lg.score(X_train, y_train), \n",
    "                    pipe_line_lg.score(X_test, y_test), abs(pipe_line_lg.score(X_train, y_train)-pipe_line_lg.score(X_test, y_test)), \n",
    "                    train_time_lg])"
   ]
  },
  {
   "cell_type": "markdown",
   "metadata": {
    "id": "Ygnnfe6jzwGG"
   },
   "source": [
    "####**SVM**"
   ]
  },
  {
   "cell_type": "code",
   "execution_count": 90,
   "metadata": {
    "colab": {
     "base_uri": "https://localhost:8080/"
    },
    "executionInfo": {
     "elapsed": 227587,
     "status": "ok",
     "timestamp": 1636568192565,
     "user": {
      "displayName": "Chau Lu",
      "photoUrl": "https://lh3.googleusercontent.com/a-/AOh14GgITySxJua8ofYGMqrwKGfNA3zQqBihlO807y2Hag=s64",
      "userId": "07943946620482264891"
     },
     "user_tz": -420
    },
    "id": "HuRd_9Sxz0Vj",
    "outputId": "dac43ab1-cedc-48c7-a41c-8efffb072bf5"
   },
   "outputs": [
    {
     "name": "stdout",
     "output_type": "stream",
     "text": [
      "SVM in 227.17259907722473 seconds\n"
     ]
    }
   ],
   "source": [
    "start_time = time.time()\n",
    "pipe_line_sv = Pipeline([('vect', CountVectorizer(ngram_range=(1,1),\n",
    "                                             max_df=0.8,\n",
    "                                             max_features=None)), \n",
    "                     ('tfidf', TfidfTransformer()),\n",
    "                     ('clf', SVC(gamma='scale'))\n",
    "                    ])\n",
    "pipe_line_sv.fit(X_train, y_train)\n",
    " \n",
    "train_time_sv = time.time() - start_time\n",
    "print('SVM in', train_time_sv, 'seconds')"
   ]
  },
  {
   "cell_type": "code",
   "execution_count": 91,
   "metadata": {
    "colab": {
     "base_uri": "https://localhost:8080/"
    },
    "executionInfo": {
     "elapsed": 78985,
     "status": "ok",
     "timestamp": 1636568271546,
     "user": {
      "displayName": "Chau Lu",
      "photoUrl": "https://lh3.googleusercontent.com/a-/AOh14GgITySxJua8ofYGMqrwKGfNA3zQqBihlO807y2Hag=s64",
      "userId": "07943946620482264891"
     },
     "user_tz": -420
    },
    "id": "6DNxBJ3bz_4S",
    "outputId": "44b89a01-27e8-4a4e-aa5d-2b2928140e45"
   },
   "outputs": [
    {
     "data": {
      "text/plain": [
       "0.8748265669300839"
      ]
     },
     "execution_count": 91,
     "metadata": {},
     "output_type": "execute_result"
    }
   ],
   "source": [
    "pipe_line_sv.score(X_train, y_train)"
   ]
  },
  {
   "cell_type": "code",
   "execution_count": 92,
   "metadata": {
    "colab": {
     "base_uri": "https://localhost:8080/"
    },
    "executionInfo": {
     "elapsed": 20258,
     "status": "ok",
     "timestamp": 1636568291792,
     "user": {
      "displayName": "Chau Lu",
      "photoUrl": "https://lh3.googleusercontent.com/a-/AOh14GgITySxJua8ofYGMqrwKGfNA3zQqBihlO807y2Hag=s64",
      "userId": "07943946620482264891"
     },
     "user_tz": -420
    },
    "id": "zxc5crcc0J2u",
    "outputId": "c6206cc5-e420-4685-e4e1-1ffe6a41241b"
   },
   "outputs": [
    {
     "data": {
      "text/plain": [
       "0.7266256484497526"
      ]
     },
     "execution_count": 92,
     "metadata": {},
     "output_type": "execute_result"
    }
   ],
   "source": [
    "pipe_line_sv.score(X_test, y_test)"
   ]
  },
  {
   "cell_type": "code",
   "execution_count": 93,
   "metadata": {
    "executionInfo": {
     "elapsed": 18723,
     "status": "ok",
     "timestamp": 1636568310509,
     "user": {
      "displayName": "Chau Lu",
      "photoUrl": "https://lh3.googleusercontent.com/a-/AOh14GgITySxJua8ofYGMqrwKGfNA3zQqBihlO807y2Hag=s64",
      "userId": "07943946620482264891"
     },
     "user_tz": -420
    },
    "id": "nlSHOmX20Lm9"
   },
   "outputs": [],
   "source": [
    "y_testhat = pipe_line_sv.predict(X_test)"
   ]
  },
  {
   "cell_type": "code",
   "execution_count": 94,
   "metadata": {
    "colab": {
     "base_uri": "https://localhost:8080/"
    },
    "executionInfo": {
     "elapsed": 14,
     "status": "ok",
     "timestamp": 1636568310510,
     "user": {
      "displayName": "Chau Lu",
      "photoUrl": "https://lh3.googleusercontent.com/a-/AOh14GgITySxJua8ofYGMqrwKGfNA3zQqBihlO807y2Hag=s64",
      "userId": "07943946620482264891"
     },
     "user_tz": -420
    },
    "id": "BRtulwdq0NhO",
    "outputId": "5b8a0ff8-f6be-412b-9aa6-5a57c304abdf"
   },
   "outputs": [
    {
     "name": "stdout",
     "output_type": "stream",
     "text": [
      "[[ 326  969   14]\n",
      " [ 167 4301  362]\n",
      " [   6  748 1396]]\n",
      "              precision    recall  f1-score   support\n",
      "\n",
      "           0       0.65      0.25      0.36      1309\n",
      "           1       0.71      0.89      0.79      4830\n",
      "           2       0.79      0.65      0.71      2150\n",
      "\n",
      "    accuracy                           0.73      8289\n",
      "   macro avg       0.72      0.60      0.62      8289\n",
      "weighted avg       0.72      0.73      0.70      8289\n",
      "\n"
     ]
    }
   ],
   "source": [
    "# Xem kết quả thống kê\n",
    "print(confusion_matrix(y_test, y_testhat))\n",
    "print(classification_report(y_test,y_testhat))"
   ]
  },
  {
   "cell_type": "code",
   "execution_count": 95,
   "metadata": {
    "executionInfo": {
     "elapsed": 197792,
     "status": "ok",
     "timestamp": 1636568508292,
     "user": {
      "displayName": "Chau Lu",
      "photoUrl": "https://lh3.googleusercontent.com/a-/AOh14GgITySxJua8ofYGMqrwKGfNA3zQqBihlO807y2Hag=s64",
      "userId": "07943946620482264891"
     },
     "user_tz": -420
    },
    "id": "Kk_Sg7Zq8sW0"
   },
   "outputs": [],
   "source": [
    "entries.append(['SVM', pipe_line_sv.score(X_train, y_train), \n",
    "                    pipe_line_sv.score(X_test, y_test), abs(pipe_line_sv.score(X_train, y_train)-pipe_line_sv.score(X_test, y_test)), \n",
    "                    train_time_sv])"
   ]
  },
  {
   "cell_type": "markdown",
   "metadata": {
    "id": "gEYs_3n0gj_i"
   },
   "source": [
    "####**Decision Tree**"
   ]
  },
  {
   "cell_type": "code",
   "execution_count": 96,
   "metadata": {
    "colab": {
     "base_uri": "https://localhost:8080/"
    },
    "executionInfo": {
     "elapsed": 8281,
     "status": "ok",
     "timestamp": 1636568516561,
     "user": {
      "displayName": "Chau Lu",
      "photoUrl": "https://lh3.googleusercontent.com/a-/AOh14GgITySxJua8ofYGMqrwKGfNA3zQqBihlO807y2Hag=s64",
      "userId": "07943946620482264891"
     },
     "user_tz": -420
    },
    "id": "Bl3pCBhDd3bj",
    "outputId": "05585530-3638-40f2-c311-9f0d8c0c7102"
   },
   "outputs": [
    {
     "name": "stdout",
     "output_type": "stream",
     "text": [
      "Decision Tree in 8.30949592590332 seconds\n"
     ]
    }
   ],
   "source": [
    "start_time = time.time()\n",
    "pipe_line_dt = Pipeline([('vect', CountVectorizer(ngram_range=(1,1),\n",
    "                                             max_df=0.8,\n",
    "                                             max_features=None)), \n",
    "                     ('tfidf', TfidfTransformer()),\n",
    "                     ('clf', DecisionTreeClassifier())\n",
    "                    ])\n",
    "pipe_line_dt.fit(X_train, y_train)\n",
    " \n",
    "train_time_dt = time.time() - start_time\n",
    "print('Decision Tree in', train_time_dt, 'seconds')"
   ]
  },
  {
   "cell_type": "code",
   "execution_count": 97,
   "metadata": {
    "colab": {
     "base_uri": "https://localhost:8080/"
    },
    "executionInfo": {
     "elapsed": 30,
     "status": "ok",
     "timestamp": 1636568516562,
     "user": {
      "displayName": "Chau Lu",
      "photoUrl": "https://lh3.googleusercontent.com/a-/AOh14GgITySxJua8ofYGMqrwKGfNA3zQqBihlO807y2Hag=s64",
      "userId": "07943946620482264891"
     },
     "user_tz": -420
    },
    "id": "7R6PDeFLd-Di",
    "outputId": "b9ae03ad-bf00-48fb-e88e-8f8545eb3e92"
   },
   "outputs": [
    {
     "data": {
      "text/plain": [
       "0.9882668757917596"
      ]
     },
     "execution_count": 97,
     "metadata": {},
     "output_type": "execute_result"
    }
   ],
   "source": [
    "pipe_line_dt.score(X_train, y_train)"
   ]
  },
  {
   "cell_type": "code",
   "execution_count": 98,
   "metadata": {
    "colab": {
     "base_uri": "https://localhost:8080/"
    },
    "executionInfo": {
     "elapsed": 659,
     "status": "ok",
     "timestamp": 1636568517199,
     "user": {
      "displayName": "Chau Lu",
      "photoUrl": "https://lh3.googleusercontent.com/a-/AOh14GgITySxJua8ofYGMqrwKGfNA3zQqBihlO807y2Hag=s64",
      "userId": "07943946620482264891"
     },
     "user_tz": -420
    },
    "id": "N2ueU2k4gXwD",
    "outputId": "d6a46cb8-adbb-40a1-807f-c0104e721696"
   },
   "outputs": [
    {
     "data": {
      "text/plain": [
       "0.6186512245144167"
      ]
     },
     "execution_count": 98,
     "metadata": {},
     "output_type": "execute_result"
    }
   ],
   "source": [
    "pipe_line_dt.score(X_test, y_test)"
   ]
  },
  {
   "cell_type": "code",
   "execution_count": 99,
   "metadata": {
    "executionInfo": {
     "elapsed": 6,
     "status": "ok",
     "timestamp": 1636568517200,
     "user": {
      "displayName": "Chau Lu",
      "photoUrl": "https://lh3.googleusercontent.com/a-/AOh14GgITySxJua8ofYGMqrwKGfNA3zQqBihlO807y2Hag=s64",
      "userId": "07943946620482264891"
     },
     "user_tz": -420
    },
    "id": "1AwhfMrym6W7"
   },
   "outputs": [],
   "source": [
    "y_testhat = pipe_line_dt.predict(X_test)"
   ]
  },
  {
   "cell_type": "code",
   "execution_count": 100,
   "metadata": {
    "colab": {
     "base_uri": "https://localhost:8080/"
    },
    "executionInfo": {
     "elapsed": 6,
     "status": "ok",
     "timestamp": 1636568517201,
     "user": {
      "displayName": "Chau Lu",
      "photoUrl": "https://lh3.googleusercontent.com/a-/AOh14GgITySxJua8ofYGMqrwKGfNA3zQqBihlO807y2Hag=s64",
      "userId": "07943946620482264891"
     },
     "user_tz": -420
    },
    "id": "sST8irCPgafg",
    "outputId": "90109f19-d551-44f6-f9fe-912e21793b06"
   },
   "outputs": [
    {
     "name": "stdout",
     "output_type": "stream",
     "text": [
      "[[ 452  802   55]\n",
      " [ 618 3499  713]\n",
      " [  68  905 1177]]\n",
      "              precision    recall  f1-score   support\n",
      "\n",
      "           0       0.40      0.35      0.37      1309\n",
      "           1       0.67      0.72      0.70      4830\n",
      "           2       0.61      0.55      0.57      2150\n",
      "\n",
      "    accuracy                           0.62      8289\n",
      "   macro avg       0.56      0.54      0.55      8289\n",
      "weighted avg       0.61      0.62      0.61      8289\n",
      "\n"
     ]
    }
   ],
   "source": [
    "# Xem kết quả thống kê\n",
    "print(confusion_matrix(y_test, y_testhat))\n",
    "print(classification_report(y_test,y_testhat))"
   ]
  },
  {
   "cell_type": "code",
   "execution_count": 101,
   "metadata": {
    "executionInfo": {
     "elapsed": 474,
     "status": "ok",
     "timestamp": 1636568517672,
     "user": {
      "displayName": "Chau Lu",
      "photoUrl": "https://lh3.googleusercontent.com/a-/AOh14GgITySxJua8ofYGMqrwKGfNA3zQqBihlO807y2Hag=s64",
      "userId": "07943946620482264891"
     },
     "user_tz": -420
    },
    "id": "DVTeCStaXCki"
   },
   "outputs": [],
   "source": [
    "entries.append(['Decision Tree', pipe_line_dt.score(X_train, y_train), \n",
    "                    pipe_line_dt.score(X_test, y_test), abs(pipe_line_dt.score(X_train, y_train)-pipe_line_dt.score(X_test, y_test)), \n",
    "                    train_time_dt])"
   ]
  },
  {
   "cell_type": "markdown",
   "metadata": {
    "id": "JABNjl3BYs8I"
   },
   "source": [
    "####**Random Forest**"
   ]
  },
  {
   "cell_type": "code",
   "execution_count": 102,
   "metadata": {
    "colab": {
     "base_uri": "https://localhost:8080/"
    },
    "executionInfo": {
     "elapsed": 743191,
     "status": "ok",
     "timestamp": 1636569260859,
     "user": {
      "displayName": "Chau Lu",
      "photoUrl": "https://lh3.googleusercontent.com/a-/AOh14GgITySxJua8ofYGMqrwKGfNA3zQqBihlO807y2Hag=s64",
      "userId": "07943946620482264891"
     },
     "user_tz": -420
    },
    "id": "WHSSbw4ghEoc",
    "outputId": "c19f53c8-adb3-40b7-c319-a9632de8df08"
   },
   "outputs": [
    {
     "name": "stdout",
     "output_type": "stream",
     "text": [
      "Random Forest in 742.7480254173279 seconds\n"
     ]
    }
   ],
   "source": [
    "start_time = time.time()\n",
    "pipe_line_rf = Pipeline([('vect', CountVectorizer(ngram_range=(1,1),\n",
    "                                             max_df=0.8,\n",
    "                                             max_features=None)), \n",
    "                     ('tfidf', TfidfTransformer()),\n",
    "                     ('clf', RandomForestClassifier(n_estimators=1000, random_state=0))\n",
    "                    ])\n",
    "pipe_line_rf.fit(X_train, y_train)\n",
    " \n",
    "train_time_rf = time.time() - start_time\n",
    "print('Random Forest in', train_time_rf, 'seconds')"
   ]
  },
  {
   "cell_type": "code",
   "execution_count": 103,
   "metadata": {
    "colab": {
     "base_uri": "https://localhost:8080/"
    },
    "executionInfo": {
     "elapsed": 29608,
     "status": "ok",
     "timestamp": 1636569290463,
     "user": {
      "displayName": "Chau Lu",
      "photoUrl": "https://lh3.googleusercontent.com/a-/AOh14GgITySxJua8ofYGMqrwKGfNA3zQqBihlO807y2Hag=s64",
      "userId": "07943946620482264891"
     },
     "user_tz": -420
    },
    "id": "dQGneKziYY8R",
    "outputId": "d655d8ce-e62a-44ee-ca67-c25cae58a4db"
   },
   "outputs": [
    {
     "data": {
      "text/plain": [
       "0.9882668757917596"
      ]
     },
     "execution_count": 103,
     "metadata": {},
     "output_type": "execute_result"
    }
   ],
   "source": [
    "pipe_line_rf.score(X_train, y_train)"
   ]
  },
  {
   "cell_type": "code",
   "execution_count": 104,
   "metadata": {
    "colab": {
     "base_uri": "https://localhost:8080/"
    },
    "executionInfo": {
     "elapsed": 8186,
     "status": "ok",
     "timestamp": 1636569298639,
     "user": {
      "displayName": "Chau Lu",
      "photoUrl": "https://lh3.googleusercontent.com/a-/AOh14GgITySxJua8ofYGMqrwKGfNA3zQqBihlO807y2Hag=s64",
      "userId": "07943946620482264891"
     },
     "user_tz": -420
    },
    "id": "62z2w2q-a3ym",
    "outputId": "721538e9-f847-4563-9722-d07444ec6a4d"
   },
   "outputs": [
    {
     "data": {
      "text/plain": [
       "0.703341778260345"
      ]
     },
     "execution_count": 104,
     "metadata": {},
     "output_type": "execute_result"
    }
   ],
   "source": [
    "pipe_line_rf.score(X_test, y_test)"
   ]
  },
  {
   "cell_type": "code",
   "execution_count": 105,
   "metadata": {
    "executionInfo": {
     "elapsed": 7868,
     "status": "ok",
     "timestamp": 1636569306497,
     "user": {
      "displayName": "Chau Lu",
      "photoUrl": "https://lh3.googleusercontent.com/a-/AOh14GgITySxJua8ofYGMqrwKGfNA3zQqBihlO807y2Hag=s64",
      "userId": "07943946620482264891"
     },
     "user_tz": -420
    },
    "id": "xdJ0mwWya6sC"
   },
   "outputs": [],
   "source": [
    "y_testhat = pipe_line_rf.predict(X_test)"
   ]
  },
  {
   "cell_type": "code",
   "execution_count": 106,
   "metadata": {
    "colab": {
     "base_uri": "https://localhost:8080/"
    },
    "executionInfo": {
     "elapsed": 15,
     "status": "ok",
     "timestamp": 1636569306498,
     "user": {
      "displayName": "Chau Lu",
      "photoUrl": "https://lh3.googleusercontent.com/a-/AOh14GgITySxJua8ofYGMqrwKGfNA3zQqBihlO807y2Hag=s64",
      "userId": "07943946620482264891"
     },
     "user_tz": -420
    },
    "id": "EUc4Dci8a9Jd",
    "outputId": "05f7de2c-cdca-461b-b0b7-e6d50e3ba310"
   },
   "outputs": [
    {
     "name": "stdout",
     "output_type": "stream",
     "text": [
      "[[ 277 1019   13]\n",
      " [ 166 4329  335]\n",
      " [  10  916 1224]]\n",
      "              precision    recall  f1-score   support\n",
      "\n",
      "           0       0.61      0.21      0.31      1309\n",
      "           1       0.69      0.90      0.78      4830\n",
      "           2       0.78      0.57      0.66      2150\n",
      "\n",
      "    accuracy                           0.70      8289\n",
      "   macro avg       0.69      0.56      0.58      8289\n",
      "weighted avg       0.70      0.70      0.68      8289\n",
      "\n"
     ]
    }
   ],
   "source": [
    "# Xem kết quả thống kê\n",
    "print(confusion_matrix(y_test, y_testhat))\n",
    "print(classification_report(y_test,y_testhat))"
   ]
  },
  {
   "cell_type": "code",
   "execution_count": 107,
   "metadata": {
    "executionInfo": {
     "elapsed": 75613,
     "status": "ok",
     "timestamp": 1636569382101,
     "user": {
      "displayName": "Chau Lu",
      "photoUrl": "https://lh3.googleusercontent.com/a-/AOh14GgITySxJua8ofYGMqrwKGfNA3zQqBihlO807y2Hag=s64",
      "userId": "07943946620482264891"
     },
     "user_tz": -420
    },
    "id": "cRwksHlpWlZj"
   },
   "outputs": [],
   "source": [
    "\n",
    "entries.append(['Random Forest', pipe_line_rf.score(X_train, y_train), \n",
    "                    pipe_line_rf.score(X_test, y_test), abs(pipe_line_rf.score(X_train, y_train)-pipe_line_rf.score(X_test, y_test)), \n",
    "                    train_time_rf])"
   ]
  },
  {
   "cell_type": "markdown",
   "metadata": {
    "id": "hzGDhUVSfJj5"
   },
   "source": [
    "####**SGDClassifier**"
   ]
  },
  {
   "cell_type": "code",
   "execution_count": 108,
   "metadata": {
    "colab": {
     "base_uri": "https://localhost:8080/"
    },
    "executionInfo": {
     "elapsed": 880,
     "status": "ok",
     "timestamp": 1636569382955,
     "user": {
      "displayName": "Chau Lu",
      "photoUrl": "https://lh3.googleusercontent.com/a-/AOh14GgITySxJua8ofYGMqrwKGfNA3zQqBihlO807y2Hag=s64",
      "userId": "07943946620482264891"
     },
     "user_tz": -420
    },
    "id": "_KXojL_Uei9_",
    "outputId": "90e4302a-5e88-4593-9f50-f954e91eb25f"
   },
   "outputs": [
    {
     "name": "stdout",
     "output_type": "stream",
     "text": [
      "SGDClassifier in 0.5557162761688232 seconds\n"
     ]
    }
   ],
   "source": [
    "start_time = time.time()\n",
    "pipe_line_sg = Pipeline([('vect', CountVectorizer(ngram_range=(1,1),\n",
    "                                             max_df=0.8,\n",
    "                                             max_features=None)), \n",
    "                     ('tfidf', TfidfTransformer()),\n",
    "                     ('clf', SGDClassifier())\n",
    "                    ])\n",
    "pipe_line_sg.fit(X_train, y_train)\n",
    " \n",
    "train_time_sg = time.time() - start_time\n",
    "print('SGDClassifier in', train_time_sg, 'seconds')"
   ]
  },
  {
   "cell_type": "code",
   "execution_count": 109,
   "metadata": {
    "colab": {
     "base_uri": "https://localhost:8080/"
    },
    "executionInfo": {
     "elapsed": 18,
     "status": "ok",
     "timestamp": 1636569382956,
     "user": {
      "displayName": "Chau Lu",
      "photoUrl": "https://lh3.googleusercontent.com/a-/AOh14GgITySxJua8ofYGMqrwKGfNA3zQqBihlO807y2Hag=s64",
      "userId": "07943946620482264891"
     },
     "user_tz": -420
    },
    "id": "AnsMFoFaeqvA",
    "outputId": "99aea108-c8b5-450b-c047-c4b5e794b6ce"
   },
   "outputs": [
    {
     "data": {
      "text/plain": [
       "0.7308922000361947"
      ]
     },
     "execution_count": 109,
     "metadata": {},
     "output_type": "execute_result"
    }
   ],
   "source": [
    "pipe_line_sg.score(X_train, y_train)"
   ]
  },
  {
   "cell_type": "code",
   "execution_count": 110,
   "metadata": {
    "colab": {
     "base_uri": "https://localhost:8080/"
    },
    "executionInfo": {
     "elapsed": 15,
     "status": "ok",
     "timestamp": 1636569382957,
     "user": {
      "displayName": "Chau Lu",
      "photoUrl": "https://lh3.googleusercontent.com/a-/AOh14GgITySxJua8ofYGMqrwKGfNA3zQqBihlO807y2Hag=s64",
      "userId": "07943946620482264891"
     },
     "user_tz": -420
    },
    "id": "GLFyxYdSetsB",
    "outputId": "57611e83-7d8d-4340-af55-b755659b7905"
   },
   "outputs": [
    {
     "data": {
      "text/plain": [
       "0.7145614670044638"
      ]
     },
     "execution_count": 110,
     "metadata": {},
     "output_type": "execute_result"
    }
   ],
   "source": [
    "pipe_line_sg.score(X_test, y_test)"
   ]
  },
  {
   "cell_type": "code",
   "execution_count": 111,
   "metadata": {
    "executionInfo": {
     "elapsed": 9,
     "status": "ok",
     "timestamp": 1636569382957,
     "user": {
      "displayName": "Chau Lu",
      "photoUrl": "https://lh3.googleusercontent.com/a-/AOh14GgITySxJua8ofYGMqrwKGfNA3zQqBihlO807y2Hag=s64",
      "userId": "07943946620482264891"
     },
     "user_tz": -420
    },
    "id": "FD2eMTK4ewYx"
   },
   "outputs": [],
   "source": [
    "y_testhat = pipe_line_sg.predict(X_test)"
   ]
  },
  {
   "cell_type": "code",
   "execution_count": 112,
   "metadata": {
    "colab": {
     "base_uri": "https://localhost:8080/"
    },
    "executionInfo": {
     "elapsed": 9,
     "status": "ok",
     "timestamp": 1636569382958,
     "user": {
      "displayName": "Chau Lu",
      "photoUrl": "https://lh3.googleusercontent.com/a-/AOh14GgITySxJua8ofYGMqrwKGfNA3zQqBihlO807y2Hag=s64",
      "userId": "07943946620482264891"
     },
     "user_tz": -420
    },
    "id": "avBQ_9yLe0Fp",
    "outputId": "bdec2241-246c-4f0b-8ac9-12c317351305"
   },
   "outputs": [
    {
     "name": "stdout",
     "output_type": "stream",
     "text": [
      "[[ 246 1052   11]\n",
      " [ 120 4382  328]\n",
      " [   8  847 1295]]\n",
      "              precision    recall  f1-score   support\n",
      "\n",
      "           0       0.66      0.19      0.29      1309\n",
      "           1       0.70      0.91      0.79      4830\n",
      "           2       0.79      0.60      0.68      2150\n",
      "\n",
      "    accuracy                           0.71      8289\n",
      "   macro avg       0.72      0.57      0.59      8289\n",
      "weighted avg       0.72      0.71      0.68      8289\n",
      "\n"
     ]
    }
   ],
   "source": [
    "# Xem kết quả thống kê\n",
    "print(confusion_matrix(y_test, y_testhat))\n",
    "print(classification_report(y_test,y_testhat))"
   ]
  },
  {
   "cell_type": "code",
   "execution_count": 113,
   "metadata": {
    "executionInfo": {
     "elapsed": 990,
     "status": "ok",
     "timestamp": 1636569383943,
     "user": {
      "displayName": "Chau Lu",
      "photoUrl": "https://lh3.googleusercontent.com/a-/AOh14GgITySxJua8ofYGMqrwKGfNA3zQqBihlO807y2Hag=s64",
      "userId": "07943946620482264891"
     },
     "user_tz": -420
    },
    "id": "AGwCUkoHVK2S"
   },
   "outputs": [],
   "source": [
    "entries.append(['SGDClassifier', pipe_line_sg.score(X_train, y_train), \n",
    "                    pipe_line_sg.score(X_test, y_test), abs(pipe_line_sg.score(X_train, y_train)-pipe_line_sg.score(X_test, y_test)), \n",
    "                    train_time_sg])"
   ]
  },
  {
   "cell_type": "code",
   "execution_count": 114,
   "metadata": {
    "executionInfo": {
     "elapsed": 26,
     "status": "ok",
     "timestamp": 1636569383944,
     "user": {
      "displayName": "Chau Lu",
      "photoUrl": "https://lh3.googleusercontent.com/a-/AOh14GgITySxJua8ofYGMqrwKGfNA3zQqBihlO807y2Hag=s64",
      "userId": "07943946620482264891"
     },
     "user_tz": -420
    },
    "id": "qLr9p0r9VD0Y"
   },
   "outputs": [],
   "source": [
    "cv_df = pd.DataFrame(entries, \n",
    "                     columns=['model_name', 'score_train_mean', \n",
    "                              'score_test_mean', 'abs|score|', 'time_mean'])"
   ]
  },
  {
   "cell_type": "code",
   "execution_count": 115,
   "metadata": {
    "colab": {
     "base_uri": "https://localhost:8080/",
     "height": 234
    },
    "executionInfo": {
     "elapsed": 24,
     "status": "ok",
     "timestamp": 1636569383944,
     "user": {
      "displayName": "Chau Lu",
      "photoUrl": "https://lh3.googleusercontent.com/a-/AOh14GgITySxJua8ofYGMqrwKGfNA3zQqBihlO807y2Hag=s64",
      "userId": "07943946620482264891"
     },
     "user_tz": -420
    },
    "id": "6ZfhxnY3g3Hr",
    "outputId": "a87af782-cdde-4cc1-f254-17ee7dec0beb"
   },
   "outputs": [
    {
     "data": {
      "text/html": [
       "<div>\n",
       "<style scoped>\n",
       "    .dataframe tbody tr th:only-of-type {\n",
       "        vertical-align: middle;\n",
       "    }\n",
       "\n",
       "    .dataframe tbody tr th {\n",
       "        vertical-align: top;\n",
       "    }\n",
       "\n",
       "    .dataframe thead th {\n",
       "        text-align: right;\n",
       "    }\n",
       "</style>\n",
       "<table border=\"1\" class=\"dataframe\">\n",
       "  <thead>\n",
       "    <tr style=\"text-align: right;\">\n",
       "      <th></th>\n",
       "      <th>model_name</th>\n",
       "      <th>score_train_mean</th>\n",
       "      <th>score_test_mean</th>\n",
       "      <th>abs|score|</th>\n",
       "      <th>time_mean</th>\n",
       "    </tr>\n",
       "  </thead>\n",
       "  <tbody>\n",
       "    <tr>\n",
       "      <th>0</th>\n",
       "      <td>Naive Bayes</td>\n",
       "      <td>0.725614</td>\n",
       "      <td>0.681144</td>\n",
       "      <td>0.044470</td>\n",
       "      <td>0.423981</td>\n",
       "    </tr>\n",
       "    <tr>\n",
       "      <th>1</th>\n",
       "      <td>Logistic Regression</td>\n",
       "      <td>0.772003</td>\n",
       "      <td>0.725178</td>\n",
       "      <td>0.046825</td>\n",
       "      <td>9.419081</td>\n",
       "    </tr>\n",
       "    <tr>\n",
       "      <th>2</th>\n",
       "      <td>SVM</td>\n",
       "      <td>0.874827</td>\n",
       "      <td>0.726626</td>\n",
       "      <td>0.148201</td>\n",
       "      <td>227.172599</td>\n",
       "    </tr>\n",
       "    <tr>\n",
       "      <th>3</th>\n",
       "      <td>Decision Tree</td>\n",
       "      <td>0.988267</td>\n",
       "      <td>0.618651</td>\n",
       "      <td>0.369616</td>\n",
       "      <td>8.309496</td>\n",
       "    </tr>\n",
       "    <tr>\n",
       "      <th>4</th>\n",
       "      <td>Random Forest</td>\n",
       "      <td>0.988267</td>\n",
       "      <td>0.703342</td>\n",
       "      <td>0.284925</td>\n",
       "      <td>742.748025</td>\n",
       "    </tr>\n",
       "    <tr>\n",
       "      <th>5</th>\n",
       "      <td>SGDClassifier</td>\n",
       "      <td>0.730892</td>\n",
       "      <td>0.714561</td>\n",
       "      <td>0.016331</td>\n",
       "      <td>0.555716</td>\n",
       "    </tr>\n",
       "  </tbody>\n",
       "</table>\n",
       "</div>"
      ],
      "text/plain": [
       "            model_name  score_train_mean  ...  abs|score|   time_mean\n",
       "0          Naive Bayes          0.725614  ...    0.044470    0.423981\n",
       "1  Logistic Regression          0.772003  ...    0.046825    9.419081\n",
       "2                  SVM          0.874827  ...    0.148201  227.172599\n",
       "3        Decision Tree          0.988267  ...    0.369616    8.309496\n",
       "4        Random Forest          0.988267  ...    0.284925  742.748025\n",
       "5        SGDClassifier          0.730892  ...    0.016331    0.555716\n",
       "\n",
       "[6 rows x 5 columns]"
      ]
     },
     "execution_count": 115,
     "metadata": {},
     "output_type": "execute_result"
    }
   ],
   "source": [
    "cv_df"
   ]
  },
  {
   "cell_type": "code",
   "execution_count": 116,
   "metadata": {
    "colab": {
     "base_uri": "https://localhost:8080/",
     "height": 382
    },
    "executionInfo": {
     "elapsed": 692,
     "status": "ok",
     "timestamp": 1636569384619,
     "user": {
      "displayName": "Chau Lu",
      "photoUrl": "https://lh3.googleusercontent.com/a-/AOh14GgITySxJua8ofYGMqrwKGfNA3zQqBihlO807y2Hag=s64",
      "userId": "07943946620482264891"
     },
     "user_tz": -420
    },
    "id": "JzgDPKPMUc0p",
    "outputId": "3d6c13d7-4d0d-4a39-bdf6-488065b2c0b0"
   },
   "outputs": [
    {
     "data": {
      "image/png": "[encoded data removed]",
      "text/plain": [
       "<Figure size 1440x288 with 4 Axes>"
      ]
     },
     "metadata": {
      "needs_background": "light"
     },
     "output_type": "display_data"
    }
   ],
   "source": [
    "plt.figure(figsize=(20, 4))\n",
    "plt.subplot(1, 4, 1)\n",
    "plt.bar(cv_df['model_name'],cv_df['score_train_mean'])\n",
    "plt.xlabel('model_name')\n",
    "plt.ylabel('Score train')\n",
    "plt.xticks(rotation='vertical')\n",
    "plt.title(\"Score train\")\n",
    "\n",
    "plt.subplot(1, 4, 2)\n",
    "plt.bar(cv_df['model_name'],cv_df['score_test_mean'])\n",
    "plt.xlabel('model_name')\n",
    "plt.ylabel('Score test')\n",
    "plt.xticks(rotation='vertical')\n",
    "plt.title(\"Score test\")\n",
    "\n",
    "plt.subplot(1, 4, 3)\n",
    "plt.bar(cv_df['model_name'],cv_df['abs|score|'])\n",
    "plt.xlabel('model_name')\n",
    "plt.ylabel('abs|score|')\n",
    "plt.xticks(rotation='vertical')\n",
    "plt.title(\"abs|score|\")\n",
    "\n",
    "plt.subplot(1, 4, 4)\n",
    "plt.bar(cv_df['model_name'],cv_df['time_mean'])\n",
    "plt.xlabel('model_name')\n",
    "plt.ylabel('time_mean')\n",
    "plt.xticks(rotation='vertical')\n",
    "plt.title(\"time_mean\")\n",
    "\n",
    "plt.show()"
   ]
  },
  {
   "cell_type": "markdown",
   "metadata": {
    "id": "3gyGf1WmKT6V"
   },
   "source": [
    "- Dựa vào bảng so sánh, ta thấy score train cao nhất ở Decision Tree và Random Forest nhưng 2 model này cũng có chênh lệch score train và score test nhiều nhất => không chọn 2 model này.\n",
    "- SVM có score test cao nhất, nhưng phần chênh lệch với các model khác là không nhiều ~1% và có thời gian train tương đối cao, gấp hơn 20 lần so với các model khác => không chọn SVM\n",
    "- Naive Bayes có thời gian train thấp nhất nhưng lại có score train và score test thấp => không chọn NB\n",
    "- Logistic Regression có score train và score test cao hơn SGDClassifier. Tuy nhiên phần chênh lệch giữa 2 chỉ số này của Logistic Regression là ~5% và có thời gian train dài gấp 15 lần so với SGDClassifier => Chọn SGDClassifier cho đề tài này."
   ]
  },
  {
   "cell_type": "markdown",
   "metadata": {
    "id": "FjLcAE5eZ7p0"
   },
   "source": [
    "##**5. ACTIVE_LEARNING**"
   ]
  },
  {
   "cell_type": "code",
   "execution_count": 117,
   "metadata": {
    "colab": {
     "base_uri": "https://localhost:8080/",
     "height": 203
    },
    "executionInfo": {
     "elapsed": 3227,
     "status": "ok",
     "timestamp": 1636569387842,
     "user": {
      "displayName": "Chau Lu",
      "photoUrl": "https://lh3.googleusercontent.com/a-/AOh14GgITySxJua8ofYGMqrwKGfNA3zQqBihlO807y2Hag=s64",
      "userId": "07943946620482264891"
     },
     "user_tz": -420
    },
    "id": "Xzntb6GEe2ih",
    "outputId": "896d5f3d-106d-4b10-954c-ceffaa768f3c"
   },
   "outputs": [
    {
     "data": {
      "text/html": [
       "<div>\n",
       "<style scoped>\n",
       "    .dataframe tbody tr th:only-of-type {\n",
       "        vertical-align: middle;\n",
       "    }\n",
       "\n",
       "    .dataframe tbody tr th {\n",
       "        vertical-align: top;\n",
       "    }\n",
       "\n",
       "    .dataframe thead th {\n",
       "        text-align: right;\n",
       "    }\n",
       "</style>\n",
       "<table border=\"1\" class=\"dataframe\">\n",
       "  <thead>\n",
       "    <tr style=\"text-align: right;\">\n",
       "      <th></th>\n",
       "      <th>content</th>\n",
       "      <th>rating</th>\n",
       "      <th>text</th>\n",
       "    </tr>\n",
       "  </thead>\n",
       "  <tbody>\n",
       "    <tr>\n",
       "      <th>0</th>\n",
       "      <td>Form xấu, không như hình , sai màu, đặt xnah đ...</td>\n",
       "      <td>1</td>\n",
       "      <td>xấu không_như sai đậm hỏi không_đúng không_trả...</td>\n",
       "    </tr>\n",
       "    <tr>\n",
       "      <th>1</th>\n",
       "      <td>Đặt jean màu xanh giao màu thì bạc bạc k giống...</td>\n",
       "      <td>1</td>\n",
       "      <td>không_giống chật</td>\n",
       "    </tr>\n",
       "    <tr>\n",
       "      <th>2</th>\n",
       "      <td>Ko giống hình form ống quần quá to \\nĐòi đổi s...</td>\n",
       "      <td>1</td>\n",
       "      <td>không_giống to đòi đổi_shop đúng</td>\n",
       "    </tr>\n",
       "    <tr>\n",
       "      <th>3</th>\n",
       "      <td>Đặt xám xanh mà gửi về màu bạc ăn dau buoi à s...</td>\n",
       "      <td>1</td>\n",
       "      <td>ăn dau</td>\n",
       "    </tr>\n",
       "    <tr>\n",
       "      <th>4</th>\n",
       "      <td>Mọi người đừng mua đặt 2 cái giao 1 cái thái đ...</td>\n",
       "      <td>1</td>\n",
       "      <td>đừng không_lịch_sự</td>\n",
       "    </tr>\n",
       "  </tbody>\n",
       "</table>\n",
       "</div>"
      ],
      "text/plain": [
       "                                             content  ...                                               text\n",
       "0  Form xấu, không như hình , sai màu, đặt xnah đ...  ...  xấu không_như sai đậm hỏi không_đúng không_trả...\n",
       "1  Đặt jean màu xanh giao màu thì bạc bạc k giống...  ...                                   không_giống chật\n",
       "2  Ko giống hình form ống quần quá to \\nĐòi đổi s...  ...                   không_giống to đòi đổi_shop đúng\n",
       "3  Đặt xám xanh mà gửi về màu bạc ăn dau buoi à s...  ...                                             ăn dau\n",
       "4  Mọi người đừng mua đặt 2 cái giao 1 cái thái đ...  ...                                 đừng không_lịch_sự\n",
       "\n",
       "[5 rows x 3 columns]"
      ]
     },
     "execution_count": 117,
     "metadata": {},
     "output_type": "execute_result"
    }
   ],
   "source": [
    "df_org = pd.read_excel('shopee_com_clean.xlsx')\n",
    "df_org.head()"
   ]
  },
  {
   "cell_type": "code",
   "execution_count": 118,
   "metadata": {
    "colab": {
     "base_uri": "https://localhost:8080/",
     "height": 203
    },
    "executionInfo": {
     "elapsed": 23,
     "status": "ok",
     "timestamp": 1636569387843,
     "user": {
      "displayName": "Chau Lu",
      "photoUrl": "https://lh3.googleusercontent.com/a-/AOh14GgITySxJua8ofYGMqrwKGfNA3zQqBihlO807y2Hag=s64",
      "userId": "07943946620482264891"
     },
     "user_tz": -420
    },
    "id": "D6whcQL7aNj2",
    "outputId": "49f5387d-aa2d-4356-9510-d1784566233d"
   },
   "outputs": [
    {
     "data": {
      "text/html": [
       "<div>\n",
       "<style scoped>\n",
       "    .dataframe tbody tr th:only-of-type {\n",
       "        vertical-align: middle;\n",
       "    }\n",
       "\n",
       "    .dataframe tbody tr th {\n",
       "        vertical-align: top;\n",
       "    }\n",
       "\n",
       "    .dataframe thead th {\n",
       "        text-align: right;\n",
       "    }\n",
       "</style>\n",
       "<table border=\"1\" class=\"dataframe\">\n",
       "  <thead>\n",
       "    <tr style=\"text-align: right;\">\n",
       "      <th></th>\n",
       "      <th>content</th>\n",
       "      <th>label</th>\n",
       "    </tr>\n",
       "  </thead>\n",
       "  <tbody>\n",
       "    <tr>\n",
       "      <th>0</th>\n",
       "      <td>Form xấu, không như hình , sai màu, đặt xnah đ...</td>\n",
       "      <td>0</td>\n",
       "    </tr>\n",
       "    <tr>\n",
       "      <th>1</th>\n",
       "      <td>Đặt jean màu xanh giao màu thì bạc bạc k giống...</td>\n",
       "      <td>0</td>\n",
       "    </tr>\n",
       "    <tr>\n",
       "      <th>2</th>\n",
       "      <td>Ko giống hình form ống quần quá to \\nĐòi đổi s...</td>\n",
       "      <td>0</td>\n",
       "    </tr>\n",
       "    <tr>\n",
       "      <th>3</th>\n",
       "      <td>Đặt xám xanh mà gửi về màu bạc ăn dau buoi à s...</td>\n",
       "      <td>0</td>\n",
       "    </tr>\n",
       "    <tr>\n",
       "      <th>4</th>\n",
       "      <td>Mọi người đừng mua đặt 2 cái giao 1 cái thái đ...</td>\n",
       "      <td>0</td>\n",
       "    </tr>\n",
       "  </tbody>\n",
       "</table>\n",
       "</div>"
      ],
      "text/plain": [
       "                                             content  label\n",
       "0  Form xấu, không như hình , sai màu, đặt xnah đ...      0\n",
       "1  Đặt jean màu xanh giao màu thì bạc bạc k giống...      0\n",
       "2  Ko giống hình form ống quần quá to \\nĐòi đổi s...      0\n",
       "3  Đặt xám xanh mà gửi về màu bạc ăn dau buoi à s...      0\n",
       "4  Mọi người đừng mua đặt 2 cái giao 1 cái thái đ...      0"
      ]
     },
     "execution_count": 118,
     "metadata": {},
     "output_type": "execute_result"
    }
   ],
   "source": [
    "df_labeled = pd.read_excel('labeled_data.xlsx')\n",
    "df_labeled.head()"
   ]
  },
  {
   "cell_type": "code",
   "execution_count": 119,
   "metadata": {
    "colab": {
     "base_uri": "https://localhost:8080/"
    },
    "executionInfo": {
     "elapsed": 21,
     "status": "ok",
     "timestamp": 1636569387843,
     "user": {
      "displayName": "Chau Lu",
      "photoUrl": "https://lh3.googleusercontent.com/a-/AOh14GgITySxJua8ofYGMqrwKGfNA3zQqBihlO807y2Hag=s64",
      "userId": "07943946620482264891"
     },
     "user_tz": -420
    },
    "id": "wDmBGkm_aPVa",
    "outputId": "428bdbe6-2c9a-4da0-ed78-54ece93e2314"
   },
   "outputs": [
    {
     "data": {
      "text/plain": [
       "(995, 2)"
      ]
     },
     "execution_count": 119,
     "metadata": {},
     "output_type": "execute_result"
    }
   ],
   "source": [
    "df_labeled.shape"
   ]
  },
  {
   "cell_type": "code",
   "execution_count": 120,
   "metadata": {
    "colab": {
     "base_uri": "https://localhost:8080/",
     "height": 203
    },
    "executionInfo": {
     "elapsed": 17,
     "status": "ok",
     "timestamp": 1636569387844,
     "user": {
      "displayName": "Chau Lu",
      "photoUrl": "https://lh3.googleusercontent.com/a-/AOh14GgITySxJua8ofYGMqrwKGfNA3zQqBihlO807y2Hag=s64",
      "userId": "07943946620482264891"
     },
     "user_tz": -420
    },
    "id": "NeYXKR-bagXI",
    "outputId": "1354b92b-c0f3-400f-b8b0-434ae9061c17"
   },
   "outputs": [
    {
     "data": {
      "text/html": [
       "<div>\n",
       "<style scoped>\n",
       "    .dataframe tbody tr th:only-of-type {\n",
       "        vertical-align: middle;\n",
       "    }\n",
       "\n",
       "    .dataframe tbody tr th {\n",
       "        vertical-align: top;\n",
       "    }\n",
       "\n",
       "    .dataframe thead th {\n",
       "        text-align: right;\n",
       "    }\n",
       "</style>\n",
       "<table border=\"1\" class=\"dataframe\">\n",
       "  <thead>\n",
       "    <tr style=\"text-align: right;\">\n",
       "      <th></th>\n",
       "      <th>content</th>\n",
       "      <th>rating</th>\n",
       "      <th>text</th>\n",
       "    </tr>\n",
       "  </thead>\n",
       "  <tbody>\n",
       "    <tr>\n",
       "      <th>0</th>\n",
       "      <td>Form xấu, không như hình , sai màu, đặt xnah đ...</td>\n",
       "      <td>1</td>\n",
       "      <td>xấu không_như sai đậm hỏi không_đúng không_trả...</td>\n",
       "    </tr>\n",
       "    <tr>\n",
       "      <th>1</th>\n",
       "      <td>Đặt jean màu xanh giao màu thì bạc bạc k giống...</td>\n",
       "      <td>1</td>\n",
       "      <td>không_giống chật</td>\n",
       "    </tr>\n",
       "    <tr>\n",
       "      <th>2</th>\n",
       "      <td>Ko giống hình form ống quần quá to \\nĐòi đổi s...</td>\n",
       "      <td>1</td>\n",
       "      <td>không_giống to đòi đổi_shop đúng</td>\n",
       "    </tr>\n",
       "    <tr>\n",
       "      <th>3</th>\n",
       "      <td>Đặt xám xanh mà gửi về màu bạc ăn dau buoi à s...</td>\n",
       "      <td>1</td>\n",
       "      <td>ăn dau</td>\n",
       "    </tr>\n",
       "    <tr>\n",
       "      <th>4</th>\n",
       "      <td>Mọi người đừng mua đặt 2 cái giao 1 cái thái đ...</td>\n",
       "      <td>1</td>\n",
       "      <td>đừng không_lịch_sự</td>\n",
       "    </tr>\n",
       "  </tbody>\n",
       "</table>\n",
       "</div>"
      ],
      "text/plain": [
       "                                             content  ...                                               text\n",
       "0  Form xấu, không như hình , sai màu, đặt xnah đ...  ...  xấu không_như sai đậm hỏi không_đúng không_trả...\n",
       "1  Đặt jean màu xanh giao màu thì bạc bạc k giống...  ...                                   không_giống chật\n",
       "2  Ko giống hình form ống quần quá to \\nĐòi đổi s...  ...                   không_giống to đòi đổi_shop đúng\n",
       "3  Đặt xám xanh mà gửi về màu bạc ăn dau buoi à s...  ...                                             ăn dau\n",
       "4  Mọi người đừng mua đặt 2 cái giao 1 cái thái đ...  ...                                 đừng không_lịch_sự\n",
       "\n",
       "[5 rows x 3 columns]"
      ]
     },
     "execution_count": 120,
     "metadata": {},
     "output_type": "execute_result"
    }
   ],
   "source": [
    "df_org = df_org.dropna().drop_duplicates(subset='content')\n",
    "df_org.head()"
   ]
  },
  {
   "cell_type": "code",
   "execution_count": 121,
   "metadata": {
    "colab": {
     "base_uri": "https://localhost:8080/"
    },
    "executionInfo": {
     "elapsed": 16,
     "status": "ok",
     "timestamp": 1636569387844,
     "user": {
      "displayName": "Chau Lu",
      "photoUrl": "https://lh3.googleusercontent.com/a-/AOh14GgITySxJua8ofYGMqrwKGfNA3zQqBihlO807y2Hag=s64",
      "userId": "07943946620482264891"
     },
     "user_tz": -420
    },
    "id": "FKOO7wHLay69",
    "outputId": "246c2279-c5b8-406a-fdc4-120348ef74a1"
   },
   "outputs": [
    {
     "data": {
      "text/plain": [
       "(43052, 3)"
      ]
     },
     "execution_count": 121,
     "metadata": {},
     "output_type": "execute_result"
    }
   ],
   "source": [
    "df_not_labeled = df_org[~df_org.content.isin(df_labeled.content.to_list())]\n",
    "df_not_labeled.shape"
   ]
  },
  {
   "cell_type": "code",
   "execution_count": 122,
   "metadata": {
    "colab": {
     "base_uri": "https://localhost:8080/",
     "height": 203
    },
    "executionInfo": {
     "elapsed": 14,
     "status": "ok",
     "timestamp": 1636569387845,
     "user": {
      "displayName": "Chau Lu",
      "photoUrl": "https://lh3.googleusercontent.com/a-/AOh14GgITySxJua8ofYGMqrwKGfNA3zQqBihlO807y2Hag=s64",
      "userId": "07943946620482264891"
     },
     "user_tz": -420
    },
    "id": "CqkrgaHqa0nK",
    "outputId": "09f3738d-76f7-472c-e1a3-6f296715d055"
   },
   "outputs": [
    {
     "data": {
      "text/html": [
       "<div>\n",
       "<style scoped>\n",
       "    .dataframe tbody tr th:only-of-type {\n",
       "        vertical-align: middle;\n",
       "    }\n",
       "\n",
       "    .dataframe tbody tr th {\n",
       "        vertical-align: top;\n",
       "    }\n",
       "\n",
       "    .dataframe thead th {\n",
       "        text-align: right;\n",
       "    }\n",
       "</style>\n",
       "<table border=\"1\" class=\"dataframe\">\n",
       "  <thead>\n",
       "    <tr style=\"text-align: right;\">\n",
       "      <th></th>\n",
       "      <th>content</th>\n",
       "      <th>label</th>\n",
       "    </tr>\n",
       "  </thead>\n",
       "  <tbody>\n",
       "    <tr>\n",
       "      <th>0</th>\n",
       "      <td>Form xấu, không như hình , sai màu, đặt xnah đ...</td>\n",
       "      <td>0.0</td>\n",
       "    </tr>\n",
       "    <tr>\n",
       "      <th>1</th>\n",
       "      <td>Đặt jean màu xanh giao màu thì bạc bạc k giống...</td>\n",
       "      <td>0.0</td>\n",
       "    </tr>\n",
       "    <tr>\n",
       "      <th>2</th>\n",
       "      <td>Ko giống hình form ống quần quá to \\nĐòi đổi s...</td>\n",
       "      <td>0.0</td>\n",
       "    </tr>\n",
       "    <tr>\n",
       "      <th>3</th>\n",
       "      <td>Đặt xám xanh mà gửi về màu bạc ăn dau buoi à s...</td>\n",
       "      <td>0.0</td>\n",
       "    </tr>\n",
       "    <tr>\n",
       "      <th>4</th>\n",
       "      <td>Mọi người đừng mua đặt 2 cái giao 1 cái thái đ...</td>\n",
       "      <td>0.0</td>\n",
       "    </tr>\n",
       "  </tbody>\n",
       "</table>\n",
       "</div>"
      ],
      "text/plain": [
       "                                             content  label\n",
       "0  Form xấu, không như hình , sai màu, đặt xnah đ...    0.0\n",
       "1  Đặt jean màu xanh giao màu thì bạc bạc k giống...    0.0\n",
       "2  Ko giống hình form ống quần quá to \\nĐòi đổi s...    0.0\n",
       "3  Đặt xám xanh mà gửi về màu bạc ăn dau buoi à s...    0.0\n",
       "4  Mọi người đừng mua đặt 2 cái giao 1 cái thái đ...    0.0"
      ]
     },
     "execution_count": 122,
     "metadata": {},
     "output_type": "execute_result"
    }
   ],
   "source": [
    "df_final = df_labeled.append(df_not_labeled[['content']])\n",
    "df_final.head()"
   ]
  },
  {
   "cell_type": "code",
   "execution_count": 123,
   "metadata": {
    "colab": {
     "base_uri": "https://localhost:8080/"
    },
    "executionInfo": {
     "elapsed": 13,
     "status": "ok",
     "timestamp": 1636569387845,
     "user": {
      "displayName": "Chau Lu",
      "photoUrl": "https://lh3.googleusercontent.com/a-/AOh14GgITySxJua8ofYGMqrwKGfNA3zQqBihlO807y2Hag=s64",
      "userId": "07943946620482264891"
     },
     "user_tz": -420
    },
    "id": "UdhVK0AYa2GV",
    "outputId": "50fe47fa-0b60-4a6c-f3ab-eeb36f4f1e95"
   },
   "outputs": [
    {
     "data": {
      "text/plain": [
       "(44047, 2)"
      ]
     },
     "execution_count": 123,
     "metadata": {},
     "output_type": "execute_result"
    }
   ],
   "source": [
    "df_final.shape"
   ]
  },
  {
   "cell_type": "code",
   "execution_count": 124,
   "metadata": {
    "executionInfo": {
     "elapsed": 419995,
     "status": "ok",
     "timestamp": 1636569807830,
     "user": {
      "displayName": "Chau Lu",
      "photoUrl": "https://lh3.googleusercontent.com/a-/AOh14GgITySxJua8ofYGMqrwKGfNA3zQqBihlO807y2Hag=s64",
      "userId": "07943946620482264891"
     },
     "user_tz": -420
    },
    "id": "8Ktdx2J8a5Mv"
   },
   "outputs": [],
   "source": [
    "#Chuẩn hóa data:\n",
    "tx = [process_text(i , emoji_dict, teen_dict, wrong_lst) for i in df_final['content']]\n",
    "tx = [covert_unicode(i) for i in tx]\n",
    "tx = [process_postag_thesea(i) for i in tx]\n",
    "tx = [remove_stopword(i, stopwords_lst) for i in tx]\n",
    "df_final['content'] = tx"
   ]
  },
  {
   "cell_type": "code",
   "execution_count": 125,
   "metadata": {
    "colab": {
     "base_uri": "https://localhost:8080/"
    },
    "executionInfo": {
     "elapsed": 30,
     "status": "ok",
     "timestamp": 1636569807830,
     "user": {
      "displayName": "Chau Lu",
      "photoUrl": "https://lh3.googleusercontent.com/a-/AOh14GgITySxJua8ofYGMqrwKGfNA3zQqBihlO807y2Hag=s64",
      "userId": "07943946620482264891"
     },
     "user_tz": -420
    },
    "id": "JfPix6__bmNm",
    "outputId": "7354c58e-c6d2-4e78-bda0-1ea69b5ea543"
   },
   "outputs": [
    {
     "data": {
      "text/plain": [
       "(44047, 2)"
      ]
     },
     "execution_count": 125,
     "metadata": {},
     "output_type": "execute_result"
    }
   ],
   "source": [
    "df_final.shape"
   ]
  },
  {
   "cell_type": "code",
   "execution_count": 126,
   "metadata": {
    "colab": {
     "base_uri": "https://localhost:8080/",
     "height": 203
    },
    "executionInfo": {
     "elapsed": 22,
     "status": "ok",
     "timestamp": 1636569807831,
     "user": {
      "displayName": "Chau Lu",
      "photoUrl": "https://lh3.googleusercontent.com/a-/AOh14GgITySxJua8ofYGMqrwKGfNA3zQqBihlO807y2Hag=s64",
      "userId": "07943946620482264891"
     },
     "user_tz": -420
    },
    "id": "rIWh19_LfayX",
    "outputId": "3caa5ea6-cedb-4d72-a94e-9e9ebb2da025"
   },
   "outputs": [
    {
     "data": {
      "text/html": [
       "<div>\n",
       "<style scoped>\n",
       "    .dataframe tbody tr th:only-of-type {\n",
       "        vertical-align: middle;\n",
       "    }\n",
       "\n",
       "    .dataframe tbody tr th {\n",
       "        vertical-align: top;\n",
       "    }\n",
       "\n",
       "    .dataframe thead th {\n",
       "        text-align: right;\n",
       "    }\n",
       "</style>\n",
       "<table border=\"1\" class=\"dataframe\">\n",
       "  <thead>\n",
       "    <tr style=\"text-align: right;\">\n",
       "      <th></th>\n",
       "      <th>content</th>\n",
       "      <th>label</th>\n",
       "    </tr>\n",
       "  </thead>\n",
       "  <tbody>\n",
       "    <tr>\n",
       "      <th>44781</th>\n",
       "      <td>rẻ không_đòi_hỏi cao đen chật lên đẹp mới quất...</td>\n",
       "      <td>-1.0</td>\n",
       "    </tr>\n",
       "    <tr>\n",
       "      <th>44782</th>\n",
       "      <td>phải rẻ được đẹp</td>\n",
       "      <td>-1.0</td>\n",
       "    </tr>\n",
       "    <tr>\n",
       "      <th>44783</th>\n",
       "      <td>đẹp lớn ok ưng</td>\n",
       "      <td>-1.0</td>\n",
       "    </tr>\n",
       "    <tr>\n",
       "      <th>44784</th>\n",
       "      <td>mới biết á thất_vọng cảm_ơn</td>\n",
       "      <td>-1.0</td>\n",
       "    </tr>\n",
       "    <tr>\n",
       "      <th>44785</th>\n",
       "      <td>không_biết ổn nhanh</td>\n",
       "      <td>-1.0</td>\n",
       "    </tr>\n",
       "  </tbody>\n",
       "</table>\n",
       "</div>"
      ],
      "text/plain": [
       "                                                 content  label\n",
       "44781  rẻ không_đòi_hỏi cao đen chật lên đẹp mới quất...   -1.0\n",
       "44782                                   phải rẻ được đẹp   -1.0\n",
       "44783                                     đẹp lớn ok ưng   -1.0\n",
       "44784                        mới biết á thất_vọng cảm_ơn   -1.0\n",
       "44785                                không_biết ổn nhanh   -1.0"
      ]
     },
     "execution_count": 126,
     "metadata": {},
     "output_type": "execute_result"
    }
   ],
   "source": [
    "df_final.fillna(-1, inplace=True)\n",
    "df_final.tail()"
   ]
  },
  {
   "cell_type": "code",
   "execution_count": 127,
   "metadata": {
    "executionInfo": {
     "elapsed": 21,
     "status": "ok",
     "timestamp": 1636569807831,
     "user": {
      "displayName": "Chau Lu",
      "photoUrl": "https://lh3.googleusercontent.com/a-/AOh14GgITySxJua8ofYGMqrwKGfNA3zQqBihlO807y2Hag=s64",
      "userId": "07943946620482264891"
     },
     "user_tz": -420
    },
    "id": "kUjLrDeGflDc"
   },
   "outputs": [],
   "source": [
    "from sklearn.preprocessing import FunctionTransformer\n",
    "from sklearn.semi_supervised import SelfTrainingClassifier\n",
    "from sklearn.semi_supervised import LabelSpreading\n",
    "from sklearn.metrics import f1_score\n",
    "import os"
   ]
  },
  {
   "cell_type": "code",
   "execution_count": 128,
   "metadata": {
    "executionInfo": {
     "elapsed": 22,
     "status": "ok",
     "timestamp": 1636569807832,
     "user": {
      "displayName": "Chau Lu",
      "photoUrl": "https://lh3.googleusercontent.com/a-/AOh14GgITySxJua8ofYGMqrwKGfNA3zQqBihlO807y2Hag=s64",
      "userId": "07943946620482264891"
     },
     "user_tz": -420
    },
    "id": "NGPolkcjf1ih"
   },
   "outputs": [],
   "source": [
    "# Parameters\n",
    "sdg_params = dict(alpha=1e-5, penalty=\"l2\", loss=\"log\")\n",
    "vectorizer_params = dict(ngram_range=(1, 2), min_df=5, max_df=0.8)\n",
    "# Supervised Pipeline\n",
    "pipeline = Pipeline(\n",
    "    [\n",
    "        (\"vect\", CountVectorizer(**vectorizer_params)),\n",
    "        (\"tfidf\", TfidfTransformer()),\n",
    "        (\"clf\", SGDClassifier(**sdg_params)),\n",
    "    ]\n",
    ")\n",
    "# SelfTraining Pipeline\n",
    "st_pipeline = Pipeline(\n",
    "    [\n",
    "        (\"vect\", CountVectorizer(**vectorizer_params)),\n",
    "        (\"tfidf\", TfidfTransformer()),\n",
    "        (\"clf\", SelfTrainingClassifier(SGDClassifier(**sdg_params), verbose=True)),\n",
    "    ]\n",
    ")\n",
    "# LabelSpreading Pipeline\n",
    "ls_pipeline = Pipeline(\n",
    "    [\n",
    "        (\"vect\", CountVectorizer(**vectorizer_params)),\n",
    "        (\"tfidf\", TfidfTransformer()),\n",
    "        # LabelSpreading does not support dense matrices\n",
    "        (\"todense\", FunctionTransformer(lambda x: x.todense())),\n",
    "        (\"clf\", LabelSpreading()),\n",
    "    ]\n",
    ")"
   ]
  },
  {
   "cell_type": "code",
   "execution_count": 129,
   "metadata": {
    "executionInfo": {
     "elapsed": 21,
     "status": "ok",
     "timestamp": 1636569807832,
     "user": {
      "displayName": "Chau Lu",
      "photoUrl": "https://lh3.googleusercontent.com/a-/AOh14GgITySxJua8ofYGMqrwKGfNA3zQqBihlO807y2Hag=s64",
      "userId": "07943946620482264891"
     },
     "user_tz": -420
    },
    "id": "5qao-TBFgCLm"
   },
   "outputs": [],
   "source": [
    "def eval_and_print_metrics(clf, X_train, y_train, X_test, y_test):\n",
    "    print(\"Number of training samples:\", len(X_train))\n",
    "    print(\"Unlabeled samples in training set:\", sum(1 for x in y_train if x == -1))\n",
    "    clf.fit(X_train, y_train)\n",
    "    y_pred = clf.predict(X_test)\n",
    "    print(\n",
    "        \"Micro-averaged F1 score on test set: %0.3f\"\n",
    "        % f1_score(y_test, y_pred, average=\"micro\")\n",
    "    )\n",
    "    print(\"-\" * 10)\n",
    "    print()"
   ]
  },
  {
   "cell_type": "code",
   "execution_count": 130,
   "metadata": {
    "executionInfo": {
     "elapsed": 22,
     "status": "ok",
     "timestamp": 1636569807833,
     "user": {
      "displayName": "Chau Lu",
      "photoUrl": "https://lh3.googleusercontent.com/a-/AOh14GgITySxJua8ofYGMqrwKGfNA3zQqBihlO807y2Hag=s64",
      "userId": "07943946620482264891"
     },
     "user_tz": -420
    },
    "id": "oJQbryhrgGJv"
   },
   "outputs": [],
   "source": [
    "df_train = df_final[df_final.label >= 0]\n",
    "df_test = df_final[df_final.label < 0]"
   ]
  },
  {
   "cell_type": "code",
   "execution_count": 131,
   "metadata": {
    "executionInfo": {
     "elapsed": 22,
     "status": "ok",
     "timestamp": 1636569807833,
     "user": {
      "displayName": "Chau Lu",
      "photoUrl": "https://lh3.googleusercontent.com/a-/AOh14GgITySxJua8ofYGMqrwKGfNA3zQqBihlO807y2Hag=s64",
      "userId": "07943946620482264891"
     },
     "user_tz": -420
    },
    "id": "vQwqevVkgLYH"
   },
   "outputs": [],
   "source": [
    "X_train, X_test, y_train, y_test = train_test_split(df_train['content'], df_train['label'])"
   ]
  },
  {
   "cell_type": "code",
   "execution_count": 132,
   "metadata": {
    "executionInfo": {
     "elapsed": 23,
     "status": "ok",
     "timestamp": 1636569807834,
     "user": {
      "displayName": "Chau Lu",
      "photoUrl": "https://lh3.googleusercontent.com/a-/AOh14GgITySxJua8ofYGMqrwKGfNA3zQqBihlO807y2Hag=s64",
      "userId": "07943946620482264891"
     },
     "user_tz": -420
    },
    "id": "VbbO_bQSsHzp"
   },
   "outputs": [],
   "source": [
    "df_train = df_final[df_final.label >= 0]\n",
    "df_test = df_final[df_final.label < 0]"
   ]
  },
  {
   "cell_type": "code",
   "execution_count": 133,
   "metadata": {
    "executionInfo": {
     "elapsed": 23,
     "status": "ok",
     "timestamp": 1636569807835,
     "user": {
      "displayName": "Chau Lu",
      "photoUrl": "https://lh3.googleusercontent.com/a-/AOh14GgITySxJua8ofYGMqrwKGfNA3zQqBihlO807y2Hag=s64",
      "userId": "07943946620482264891"
     },
     "user_tz": -420
    },
    "id": "ioRS3cGCsJ-g"
   },
   "outputs": [],
   "source": [
    "X_train, X_test, y_train, y_test = train_test_split(df_train['content'], df_train['label'])"
   ]
  },
  {
   "cell_type": "code",
   "execution_count": 134,
   "metadata": {
    "colab": {
     "base_uri": "https://localhost:8080/"
    },
    "executionInfo": {
     "elapsed": 23,
     "status": "ok",
     "timestamp": 1636569807835,
     "user": {
      "displayName": "Chau Lu",
      "photoUrl": "https://lh3.googleusercontent.com/a-/AOh14GgITySxJua8ofYGMqrwKGfNA3zQqBihlO807y2Hag=s64",
      "userId": "07943946620482264891"
     },
     "user_tz": -420
    },
    "id": "6ZQNRTarsLzx",
    "outputId": "a60c9679-b38d-4757-997a-b8b5ceff1ec1"
   },
   "outputs": [
    {
     "name": "stdout",
     "output_type": "stream",
     "text": [
      "Supervised SGDClassifier on 20% of the training data:\n",
      "Number of training samples: 746\n",
      "Unlabeled samples in training set: 0\n",
      "Micro-averaged F1 score on test set: 0.699\n",
      "----------\n",
      "\n",
      "SelfTrainingClassifier on 20% of the training data (rest is unlabeled):\n",
      "Number of training samples: 746\n",
      "Unlabeled samples in training set: 0\n",
      "Micro-averaged F1 score on test set: 0.727\n",
      "----------\n",
      "\n",
      "LabelSpreading on 20% of the data (rest is unlabeled):\n",
      "Number of training samples: 746\n",
      "Unlabeled samples in training set: 0\n",
      "Micro-averaged F1 score on test set: 0.598\n",
      "----------\n",
      "\n"
     ]
    },
    {
     "name": "stderr",
     "output_type": "stream",
     "text": [
      "/usr/local/lib/python3.7/dist-packages/sklearn/semi_supervised/_self_training.py:210: UserWarning: y contains no unlabeled samples\n",
      "  warnings.warn(\"y contains no unlabeled samples\", UserWarning)\n",
      "/usr/local/lib/python3.7/dist-packages/sklearn/utils/validation.py:590: FutureWarning: np.matrix usage is deprecated in 1.0 and will raise a TypeError in 1.2. Please convert to a numpy array with np.asarray. For more information see: https://numpy.org/doc/stable/reference/generated/numpy.matrix.html\n",
      "  FutureWarning,\n",
      "/usr/local/lib/python3.7/dist-packages/sklearn/utils/validation.py:590: FutureWarning: np.matrix usage is deprecated in 1.0 and will raise a TypeError in 1.2. Please convert to a numpy array with np.asarray. For more information see: https://numpy.org/doc/stable/reference/generated/numpy.matrix.html\n",
      "  FutureWarning,\n"
     ]
    }
   ],
   "source": [
    "print(\"Supervised SGDClassifier on 20% of the training data:\")\n",
    "eval_and_print_metrics(pipeline, X_train, y_train, X_test, y_test)\n",
    "\n",
    "# set the non-masked subset to be unlabeled\n",
    "print(\"SelfTrainingClassifier on 20% of the training data (rest is unlabeled):\")\n",
    "eval_and_print_metrics(st_pipeline, X_train, y_train, X_test, y_test)\n",
    "\n",
    "if \"CI\" not in os.environ:\n",
    "    # LabelSpreading takes too long to run in the online documentation\n",
    "    print(\"LabelSpreading on 20% of the data (rest is unlabeled):\")\n",
    "    eval_and_print_metrics(ls_pipeline, X_train, y_train, X_test, y_test)"
   ]
  },
  {
   "cell_type": "code",
   "execution_count": 135,
   "metadata": {
    "colab": {
     "base_uri": "https://localhost:8080/"
    },
    "executionInfo": {
     "elapsed": 596,
     "status": "ok",
     "timestamp": 1636569808413,
     "user": {
      "displayName": "Chau Lu",
      "photoUrl": "https://lh3.googleusercontent.com/a-/AOh14GgITySxJua8ofYGMqrwKGfNA3zQqBihlO807y2Hag=s64",
      "userId": "07943946620482264891"
     },
     "user_tz": -420
    },
    "id": "k1wWN8gKsPUP",
    "outputId": "4abc6520-3c84-49dd-a599-45509ffe2fa6"
   },
   "outputs": [
    {
     "name": "stderr",
     "output_type": "stream",
     "text": [
      "/usr/local/lib/python3.7/dist-packages/sklearn/semi_supervised/_self_training.py:210: UserWarning: y contains no unlabeled samples\n",
      "  warnings.warn(\"y contains no unlabeled samples\", UserWarning)\n"
     ]
    }
   ],
   "source": [
    "model = st_pipeline.fit(X_train, y_train)"
   ]
  },
  {
   "cell_type": "code",
   "execution_count": 136,
   "metadata": {
    "executionInfo": {
     "elapsed": 520,
     "status": "ok",
     "timestamp": 1636569808931,
     "user": {
      "displayName": "Chau Lu",
      "photoUrl": "https://lh3.googleusercontent.com/a-/AOh14GgITySxJua8ofYGMqrwKGfNA3zQqBihlO807y2Hag=s64",
      "userId": "07943946620482264891"
     },
     "user_tz": -420
    },
    "id": "uBqYpqALsQ4G"
   },
   "outputs": [],
   "source": [
    "y_pred = model.predict(df_test['content'])"
   ]
  },
  {
   "cell_type": "code",
   "execution_count": 137,
   "metadata": {
    "colab": {
     "base_uri": "https://localhost:8080/"
    },
    "executionInfo": {
     "elapsed": 10,
     "status": "ok",
     "timestamp": 1636569808932,
     "user": {
      "displayName": "Chau Lu",
      "photoUrl": "https://lh3.googleusercontent.com/a-/AOh14GgITySxJua8ofYGMqrwKGfNA3zQqBihlO807y2Hag=s64",
      "userId": "07943946620482264891"
     },
     "user_tz": -420
    },
    "id": "l24lpJqAsSYl",
    "outputId": "e21d69c7-586b-4866-9b92-4581cf920fd4"
   },
   "outputs": [
    {
     "name": "stderr",
     "output_type": "stream",
     "text": [
      "/usr/local/lib/python3.7/dist-packages/ipykernel_launcher.py:1: SettingWithCopyWarning: \n",
      "A value is trying to be set on a copy of a slice from a DataFrame.\n",
      "Try using .loc[row_indexer,col_indexer] = value instead\n",
      "\n",
      "See the caveats in the documentation: https://pandas.pydata.org/pandas-docs/stable/user_guide/indexing.html#returning-a-view-versus-a-copy\n",
      "  \"\"\"Entry point for launching an IPython kernel.\n"
     ]
    }
   ],
   "source": [
    "df_test['label'] = y_pred"
   ]
  },
  {
   "cell_type": "code",
   "execution_count": 138,
   "metadata": {
    "executionInfo": {
     "elapsed": 3123,
     "status": "ok",
     "timestamp": 1636569812049,
     "user": {
      "displayName": "Chau Lu",
      "photoUrl": "https://lh3.googleusercontent.com/a-/AOh14GgITySxJua8ofYGMqrwKGfNA3zQqBihlO807y2Hag=s64",
      "userId": "07943946620482264891"
     },
     "user_tz": -420
    },
    "id": "jvCZcEU2sT0g"
   },
   "outputs": [],
   "source": [
    "df_test.to_excel('labeled_data_from_model.xlsx', index=False)"
   ]
  },
  {
   "cell_type": "code",
   "execution_count": 139,
   "metadata": {
    "colab": {
     "base_uri": "https://localhost:8080/",
     "height": 203
    },
    "executionInfo": {
     "elapsed": 16,
     "status": "ok",
     "timestamp": 1636569812053,
     "user": {
      "displayName": "Chau Lu",
      "photoUrl": "https://lh3.googleusercontent.com/a-/AOh14GgITySxJua8ofYGMqrwKGfNA3zQqBihlO807y2Hag=s64",
      "userId": "07943946620482264891"
     },
     "user_tz": -420
    },
    "id": "B4RqCF7-sW93",
    "outputId": "ff81ab19-d180-4afe-d13e-8ff5994ee17c"
   },
   "outputs": [
    {
     "data": {
      "text/html": [
       "<div>\n",
       "<style scoped>\n",
       "    .dataframe tbody tr th:only-of-type {\n",
       "        vertical-align: middle;\n",
       "    }\n",
       "\n",
       "    .dataframe tbody tr th {\n",
       "        vertical-align: top;\n",
       "    }\n",
       "\n",
       "    .dataframe thead th {\n",
       "        text-align: right;\n",
       "    }\n",
       "</style>\n",
       "<table border=\"1\" class=\"dataframe\">\n",
       "  <thead>\n",
       "    <tr style=\"text-align: right;\">\n",
       "      <th></th>\n",
       "      <th>content</th>\n",
       "      <th>label</th>\n",
       "    </tr>\n",
       "  </thead>\n",
       "  <tbody>\n",
       "    <tr>\n",
       "      <th>0</th>\n",
       "      <td>xấu không_như sai đậm hỏi không_đúng không_trả...</td>\n",
       "      <td>0.0</td>\n",
       "    </tr>\n",
       "    <tr>\n",
       "      <th>1</th>\n",
       "      <td>không_giống chật</td>\n",
       "      <td>0.0</td>\n",
       "    </tr>\n",
       "    <tr>\n",
       "      <th>2</th>\n",
       "      <td>không_giống to đòi đổi_shop đúng</td>\n",
       "      <td>0.0</td>\n",
       "    </tr>\n",
       "    <tr>\n",
       "      <th>3</th>\n",
       "      <td>ăn dau</td>\n",
       "      <td>0.0</td>\n",
       "    </tr>\n",
       "    <tr>\n",
       "      <th>4</th>\n",
       "      <td>đừng không_lịch_sự</td>\n",
       "      <td>0.0</td>\n",
       "    </tr>\n",
       "  </tbody>\n",
       "</table>\n",
       "</div>"
      ],
      "text/plain": [
       "                                             content  label\n",
       "0  xấu không_như sai đậm hỏi không_đúng không_trả...    0.0\n",
       "1                                   không_giống chật    0.0\n",
       "2                   không_giống to đòi đổi_shop đúng    0.0\n",
       "3                                             ăn dau    0.0\n",
       "4                                 đừng không_lịch_sự    0.0"
      ]
     },
     "execution_count": 139,
     "metadata": {},
     "output_type": "execute_result"
    }
   ],
   "source": [
    "df_new = df_train.append(df_test[['content', 'label']])\n",
    "df_new.head()"
   ]
  },
  {
   "cell_type": "code",
   "execution_count": 140,
   "metadata": {
    "colab": {
     "base_uri": "https://localhost:8080/",
     "height": 203
    },
    "executionInfo": {
     "elapsed": 13,
     "status": "ok",
     "timestamp": 1636569812054,
     "user": {
      "displayName": "Chau Lu",
      "photoUrl": "https://lh3.googleusercontent.com/a-/AOh14GgITySxJua8ofYGMqrwKGfNA3zQqBihlO807y2Hag=s64",
      "userId": "07943946620482264891"
     },
     "user_tz": -420
    },
    "id": "J6ZpcFUPsZRL",
    "outputId": "e357cafa-d65c-4e55-9930-174828a2a640"
   },
   "outputs": [
    {
     "data": {
      "text/html": [
       "<div>\n",
       "<style scoped>\n",
       "    .dataframe tbody tr th:only-of-type {\n",
       "        vertical-align: middle;\n",
       "    }\n",
       "\n",
       "    .dataframe tbody tr th {\n",
       "        vertical-align: top;\n",
       "    }\n",
       "\n",
       "    .dataframe thead th {\n",
       "        text-align: right;\n",
       "    }\n",
       "</style>\n",
       "<table border=\"1\" class=\"dataframe\">\n",
       "  <thead>\n",
       "    <tr style=\"text-align: right;\">\n",
       "      <th></th>\n",
       "      <th>content</th>\n",
       "      <th>label</th>\n",
       "    </tr>\n",
       "  </thead>\n",
       "  <tbody>\n",
       "    <tr>\n",
       "      <th>44781</th>\n",
       "      <td>rẻ không_đòi_hỏi cao đen chật lên đẹp mới quất...</td>\n",
       "      <td>1.0</td>\n",
       "    </tr>\n",
       "    <tr>\n",
       "      <th>44782</th>\n",
       "      <td>phải rẻ được đẹp</td>\n",
       "      <td>2.0</td>\n",
       "    </tr>\n",
       "    <tr>\n",
       "      <th>44783</th>\n",
       "      <td>đẹp lớn ok ưng</td>\n",
       "      <td>2.0</td>\n",
       "    </tr>\n",
       "    <tr>\n",
       "      <th>44784</th>\n",
       "      <td>mới biết á thất_vọng cảm_ơn</td>\n",
       "      <td>0.0</td>\n",
       "    </tr>\n",
       "    <tr>\n",
       "      <th>44785</th>\n",
       "      <td>không_biết ổn nhanh</td>\n",
       "      <td>1.0</td>\n",
       "    </tr>\n",
       "  </tbody>\n",
       "</table>\n",
       "</div>"
      ],
      "text/plain": [
       "                                                 content  label\n",
       "44781  rẻ không_đòi_hỏi cao đen chật lên đẹp mới quất...    1.0\n",
       "44782                                   phải rẻ được đẹp    2.0\n",
       "44783                                     đẹp lớn ok ưng    2.0\n",
       "44784                        mới biết á thất_vọng cảm_ơn    0.0\n",
       "44785                                không_biết ổn nhanh    1.0"
      ]
     },
     "execution_count": 140,
     "metadata": {},
     "output_type": "execute_result"
    }
   ],
   "source": [
    "df_new.tail()"
   ]
  },
  {
   "cell_type": "code",
   "execution_count": 141,
   "metadata": {
    "executionInfo": {
     "elapsed": 12,
     "status": "ok",
     "timestamp": 1636569812055,
     "user": {
      "displayName": "Chau Lu",
      "photoUrl": "https://lh3.googleusercontent.com/a-/AOh14GgITySxJua8ofYGMqrwKGfNA3zQqBihlO807y2Hag=s64",
      "userId": "07943946620482264891"
     },
     "user_tz": -420
    },
    "id": "5Kx2uo8zsbzF"
   },
   "outputs": [],
   "source": [
    "X_train, X_test, y_train, y_test = train_test_split(df_new['content'], df_new['label'], test_size=0.2)"
   ]
  },
  {
   "cell_type": "code",
   "execution_count": 142,
   "metadata": {
    "colab": {
     "base_uri": "https://localhost:8080/"
    },
    "executionInfo": {
     "elapsed": 1493,
     "status": "ok",
     "timestamp": 1636569813536,
     "user": {
      "displayName": "Chau Lu",
      "photoUrl": "https://lh3.googleusercontent.com/a-/AOh14GgITySxJua8ofYGMqrwKGfNA3zQqBihlO807y2Hag=s64",
      "userId": "07943946620482264891"
     },
     "user_tz": -420
    },
    "id": "5IYtf9Gxsd7D",
    "outputId": "152da5b8-7c70-4c09-df52-d594a6bed280"
   },
   "outputs": [
    {
     "name": "stdout",
     "output_type": "stream",
     "text": [
      "Micro-averaged F1 score on test set: 0.916\n"
     ]
    }
   ],
   "source": [
    "model = pipeline.fit(X_train, y_train)\n",
    "y_pred = model.predict(X_test)\n",
    "print(\n",
    "    \"Micro-averaged F1 score on test set: %0.3f\"\n",
    "    % f1_score(y_test, y_pred, average=\"micro\")\n",
    ")"
   ]
  },
  {
   "cell_type": "code",
   "execution_count": 143,
   "metadata": {
    "colab": {
     "base_uri": "https://localhost:8080/"
    },
    "executionInfo": {
     "elapsed": 14,
     "status": "ok",
     "timestamp": 1636569813537,
     "user": {
      "displayName": "Chau Lu",
      "photoUrl": "https://lh3.googleusercontent.com/a-/AOh14GgITySxJua8ofYGMqrwKGfNA3zQqBihlO807y2Hag=s64",
      "userId": "07943946620482264891"
     },
     "user_tz": -420
    },
    "id": "HQGWY3k2sgO0",
    "outputId": "e460c109-8f6a-486e-c93c-43a14ac0eac1"
   },
   "outputs": [
    {
     "name": "stdout",
     "output_type": "stream",
     "text": [
      "Confusion matrix: \n",
      " [[3125  112   24]\n",
      " [ 279 3025  107]\n",
      " [  62  154 1922]]\n",
      "Classification report: \n",
      "               precision    recall  f1-score   support\n",
      "\n",
      "         0.0       0.90      0.96      0.93      3261\n",
      "         1.0       0.92      0.89      0.90      3411\n",
      "         2.0       0.94      0.90      0.92      2138\n",
      "\n",
      "    accuracy                           0.92      8810\n",
      "   macro avg       0.92      0.91      0.92      8810\n",
      "weighted avg       0.92      0.92      0.92      8810\n",
      "\n"
     ]
    }
   ],
   "source": [
    "from sklearn.metrics import confusion_matrix, classification_report\n",
    "print('Confusion matrix: \\n', confusion_matrix(y_test, y_pred))\n",
    "print('Classification report: \\n', classification_report(y_test, y_pred))"
   ]
  },
  {
   "cell_type": "markdown",
   "metadata": {
    "id": "2qTN-aiFU4u0"
   },
   "source": [
    "- precision, recall, f1-score của phương pháp áp dụng label bằng active learning đều cao hơn so với sử dụng label dựa vào rating => áp dụng model này để dự đoán các comment mới"
   ]
  },
  {
   "cell_type": "markdown",
   "metadata": {
    "id": "0TLtd9DxUE8Z"
   },
   "source": [
    "##**6. PREDICT NEW COMMENTS**"
   ]
  },
  {
   "cell_type": "code",
   "execution_count": 145,
   "metadata": {
    "colab": {
     "base_uri": "https://localhost:8080/"
    },
    "executionInfo": {
     "elapsed": 466,
     "status": "ok",
     "timestamp": 1636576828384,
     "user": {
      "displayName": "Chau Lu",
      "photoUrl": "https://lh3.googleusercontent.com/a-/AOh14GgITySxJua8ofYGMqrwKGfNA3zQqBihlO807y2Hag=s64",
      "userId": "07943946620482264891"
     },
     "user_tz": -420
    },
    "id": "dMC4AtraslaC",
    "outputId": "0a9e8d02-15c6-4681-fe92-f5c3959b20e8"
   },
   "outputs": [
    {
     "name": "stdout",
     "output_type": "stream",
     "text": [
      "Mặc xấu, vải kém chất lượng - negative\n",
      "Tạm được, không quá xấu - neutral\n",
      "Giao hàng nhanh chóng, rất hài lòng - positive\n"
     ]
    }
   ],
   "source": [
    "text_new = ['Mặc xấu, vải kém chất lượng','Tạm được, không quá xấu', 'Giao hàng nhanh chóng, rất hài lòng']\n",
    "for text_1 in text_new:\n",
    "  text_2 = process_text(text_1 , emoji_dict, teen_dict, wrong_lst)\n",
    "  text_2 = covert_unicode(text_2)\n",
    "  text_2 = process_postag_thesea(text_2)\n",
    "  text_2 = remove_stopword(text_2, stopwords_lst)\n",
    "  yhat = model.predict([text_2])\n",
    "  if yhat==0:\n",
    "    label = \"negative\"\n",
    "  elif yhat==1:\n",
    "    label = \"neutral\"\n",
    "  else:\n",
    "    label = \"positive\"\n",
    "  print(text_1,\"-\", label)"
   ]
  },
  {
   "cell_type": "code",
   "execution_count": 144,
   "metadata": {
    "executionInfo": {
     "elapsed": 7,
     "status": "ok",
     "timestamp": 1636569813537,
     "user": {
      "displayName": "Chau Lu",
      "photoUrl": "https://lh3.googleusercontent.com/a-/AOh14GgITySxJua8ofYGMqrwKGfNA3zQqBihlO807y2Hag=s64",
      "userId": "07943946620482264891"
     },
     "user_tz": -420
    },
    "id": "YlvggVscxTeC"
   },
   "outputs": [],
   "source": []
  }
 ],
 "metadata": {
  "colab": {
   "collapsed_sections": [],
   "name": "Shopee_Sentiments_Step3.ipynb",
   "provenance": []
  },
  "kernelspec": {
   "display_name": "Python 3",
   "language": "python",
   "name": "python3"
  },
  "language_info": {
   "codemirror_mode": {
    "name": "ipython",
    "version": 3
   },
   "file_extension": ".py",
   "mimetype": "text/x-python",
   "name": "python",
   "nbconvert_exporter": "python",
   "pygments_lexer": "ipython3",
   "version": "3.6.8"
  }
 },
 "nbformat": 4,
 "nbformat_minor": 1
}
