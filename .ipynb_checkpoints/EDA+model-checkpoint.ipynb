{
 "cells": [
  {
   "cell_type": "code",
   "execution_count": 1,
   "id": "f236b46c",
   "metadata": {},
   "outputs": [],
   "source": [
    "import numpy as np\n",
    "import pandas as pd\n",
    "import matplotlib.pyplot as plt\n",
    "import seaborn as sb\n",
    "import re\n",
    "import warnings\n",
    "warnings.filterwarnings('ignore')\n",
    "sb.set_style(\"darkgrid\")"
   ]
  },
  {
   "cell_type": "code",
   "execution_count": 2,
   "id": "139602f9",
   "metadata": {},
   "outputs": [],
   "source": [
    "df1 = pd.read_csv('data/van_xuoi.csv')\n",
    "df2 = pd.read_csv('data/phi_hu_cau_va_binh_chon_nhieu_nhat.csv')\n",
    "df3 = pd.read_csv('data/bo_sung.csv')\n",
    "df4 = pd.read_csv('data/bo_sung_1.csv')\n",
    "df5 = pd.read_csv('data/crawling_tiki.csv')"
   ]
  },
  {
   "cell_type": "code",
   "execution_count": 3,
   "id": "f7262473",
   "metadata": {},
   "outputs": [],
   "source": [
    "df3 = df3.loc[df3.rating < 4]\n",
    "df4 = df4.loc[df4.rating < 4]"
   ]
  },
  {
   "cell_type": "code",
   "execution_count": 4,
   "id": "2e5758c7",
   "metadata": {},
   "outputs": [
    {
     "data": {
      "text/html": [
       "<div>\n",
       "<style scoped>\n",
       "    .dataframe tbody tr th:only-of-type {\n",
       "        vertical-align: middle;\n",
       "    }\n",
       "\n",
       "    .dataframe tbody tr th {\n",
       "        vertical-align: top;\n",
       "    }\n",
       "\n",
       "    .dataframe thead th {\n",
       "        text-align: right;\n",
       "    }\n",
       "</style>\n",
       "<table border=\"1\" class=\"dataframe\">\n",
       "  <thead>\n",
       "    <tr style=\"text-align: right;\">\n",
       "      <th></th>\n",
       "      <th>Unnamed: 0</th>\n",
       "      <th>text</th>\n",
       "      <th>rating</th>\n",
       "    </tr>\n",
       "  </thead>\n",
       "  <tbody>\n",
       "    <tr>\n",
       "      <th>0</th>\n",
       "      <td>0</td>\n",
       "      <td>[Có thể đòi hỏi gì thêm ở Dế mèn phiêu lưu ký ...</td>\n",
       "      <td>5</td>\n",
       "    </tr>\n",
       "    <tr>\n",
       "      <th>1</th>\n",
       "      <td>1</td>\n",
       "      <td>Dế Mèn Phiêu Lưu Ký, nó giống như Chúa Nhẫn vậ...</td>\n",
       "      <td>5</td>\n",
       "    </tr>\n",
       "    <tr>\n",
       "      <th>2</th>\n",
       "      <td>2</td>\n",
       "      <td>bạn nào rate thấp cho cuốn này thì có lẽ là do...</td>\n",
       "      <td>5</td>\n",
       "    </tr>\n",
       "    <tr>\n",
       "      <th>3</th>\n",
       "      <td>3</td>\n",
       "      <td>Ghét cái cuốn này. Ghét cay ghét đắng. Nhưng m...</td>\n",
       "      <td>1</td>\n",
       "    </tr>\n",
       "    <tr>\n",
       "      <th>4</th>\n",
       "      <td>4</td>\n",
       "      <td>Dế Mèn đúng là hình ảnh của các bé trai tuổi 6...</td>\n",
       "      <td>0</td>\n",
       "    </tr>\n",
       "  </tbody>\n",
       "</table>\n",
       "</div>"
      ],
      "text/plain": [
       "   Unnamed: 0                                               text  rating\n",
       "0           0  [Có thể đòi hỏi gì thêm ở Dế mèn phiêu lưu ký ...       5\n",
       "1           1  Dế Mèn Phiêu Lưu Ký, nó giống như Chúa Nhẫn vậ...       5\n",
       "2           2  bạn nào rate thấp cho cuốn này thì có lẽ là do...       5\n",
       "3           3  Ghét cái cuốn này. Ghét cay ghét đắng. Nhưng m...       1\n",
       "4           4  Dế Mèn đúng là hình ảnh của các bé trai tuổi 6...       0"
      ]
     },
     "execution_count": 4,
     "metadata": {},
     "output_type": "execute_result"
    }
   ],
   "source": [
    "data = pd.concat([df1, df2, df3, df4, df5])\n",
    "data.head()"
   ]
  },
  {
   "cell_type": "code",
   "execution_count": 5,
   "id": "684ade6e",
   "metadata": {},
   "outputs": [],
   "source": [
    "data = data.reset_index()\n",
    "data = data.drop(columns = ['index', 'Unnamed: 0'])"
   ]
  },
  {
   "cell_type": "code",
   "execution_count": 6,
   "id": "37bf6f28",
   "metadata": {},
   "outputs": [
    {
     "name": "stdout",
     "output_type": "stream",
     "text": [
      "<class 'pandas.core.frame.DataFrame'>\n",
      "RangeIndex: 11142 entries, 0 to 11141\n",
      "Data columns (total 2 columns):\n",
      " #   Column  Non-Null Count  Dtype \n",
      "---  ------  --------------  ----- \n",
      " 0   text    11142 non-null  object\n",
      " 1   rating  11142 non-null  int64 \n",
      "dtypes: int64(1), object(1)\n",
      "memory usage: 174.2+ KB\n"
     ]
    }
   ],
   "source": [
    "data.info()"
   ]
  },
  {
   "cell_type": "code",
   "execution_count": 7,
   "id": "40c1412e",
   "metadata": {},
   "outputs": [
    {
     "data": {
      "text/plain": [
       "(11142, 2)"
      ]
     },
     "execution_count": 7,
     "metadata": {},
     "output_type": "execute_result"
    }
   ],
   "source": [
    "data.shape"
   ]
  },
  {
   "cell_type": "code",
   "execution_count": 8,
   "id": "3e536d6d",
   "metadata": {},
   "outputs": [
    {
     "data": {
      "text/plain": [
       "(9594, 2)"
      ]
     },
     "execution_count": 8,
     "metadata": {},
     "output_type": "execute_result"
    }
   ],
   "source": [
    "data = data.drop_duplicates()\n",
    "data.shape"
   ]
  },
  {
   "cell_type": "code",
   "execution_count": 9,
   "id": "a695bc81",
   "metadata": {},
   "outputs": [],
   "source": [
    "data = data.reset_index()\n",
    "data = data.drop(columns = ['index'])"
   ]
  },
  {
   "cell_type": "code",
   "execution_count": 10,
   "id": "22ee0c8e",
   "metadata": {},
   "outputs": [],
   "source": [
    "data = data.loc[data['text'] != 'This review has been hidden because it contains spoilers. To view it, click here.']"
   ]
  },
  {
   "cell_type": "code",
   "execution_count": 11,
   "id": "f39f8870",
   "metadata": {},
   "outputs": [
    {
     "data": {
      "text/plain": [
       "(9588, 2)"
      ]
     },
     "execution_count": 11,
     "metadata": {},
     "output_type": "execute_result"
    }
   ],
   "source": [
    "data = data.reset_index()\n",
    "data = data.drop(columns = ['index'])\n",
    "data.shape"
   ]
  },
  {
   "cell_type": "code",
   "execution_count": 12,
   "id": "bab47373",
   "metadata": {},
   "outputs": [
    {
     "data": {
      "text/plain": [
       "(9208, 2)"
      ]
     },
     "execution_count": 12,
     "metadata": {},
     "output_type": "execute_result"
    }
   ],
   "source": [
    "data = data.loc[data['rating'] != 0]\n",
    "data = data.reset_index()\n",
    "data = data.drop(columns = ['index'])\n",
    "data.shape"
   ]
  },
  {
   "cell_type": "code",
   "execution_count": 13,
   "id": "9ab71f21",
   "metadata": {},
   "outputs": [
    {
     "data": {
      "image/png": "[encoded data removed]",
      "text/plain": [
       "<Figure size 864x504 with 1 Axes>"
      ]
     },
     "metadata": {},
     "output_type": "display_data"
    }
   ],
   "source": [
    "plt.figure(figsize = (12,7))\n",
    "sb.barplot(x = data.rating.value_counts().index, y = data.rating.value_counts().values)\n",
    "plt.xticks(fontsize = 14)\n",
    "plt.yticks(fontsize = 14)\n",
    "plt.show()"
   ]
  },
  {
   "cell_type": "markdown",
   "id": "22fee410",
   "metadata": {},
   "source": [
    "**Nhận xét**:\n",
    " - Nhìn vào biểu đồ có thể thấy số lượng bình luận từ 3 đến 5 sao chiếm đa số. Tuy nhiên số lượng bình luận 1 và 2 sao thì rất ít dẫn đến việc mất cân bằng dữ liệu"
   ]
  },
  {
   "cell_type": "code",
   "execution_count": 14,
   "id": "9dcc6c95",
   "metadata": {},
   "outputs": [],
   "source": [
    "def evaluate(x,y):\n",
    "    for i in range(len(data.rating)):\n",
    "        if x[i] == 4 or x[i] == 5:\n",
    "            y[i] = 'tích cực'\n",
    "        elif data.rating[i] == 3:\n",
    "            y[i] = 'trung tính'\n",
    "        else:\n",
    "            y[i] = 'tiêu cực'\n",
    "    return y"
   ]
  },
  {
   "cell_type": "code",
   "execution_count": 15,
   "id": "892bd81b",
   "metadata": {},
   "outputs": [
    {
     "data": {
      "text/html": [
       "<div>\n",
       "<style scoped>\n",
       "    .dataframe tbody tr th:only-of-type {\n",
       "        vertical-align: middle;\n",
       "    }\n",
       "\n",
       "    .dataframe tbody tr th {\n",
       "        vertical-align: top;\n",
       "    }\n",
       "\n",
       "    .dataframe thead th {\n",
       "        text-align: right;\n",
       "    }\n",
       "</style>\n",
       "<table border=\"1\" class=\"dataframe\">\n",
       "  <thead>\n",
       "    <tr style=\"text-align: right;\">\n",
       "      <th></th>\n",
       "      <th>text</th>\n",
       "      <th>rating</th>\n",
       "      <th>evaluate</th>\n",
       "    </tr>\n",
       "  </thead>\n",
       "  <tbody>\n",
       "    <tr>\n",
       "      <th>0</th>\n",
       "      <td>[Có thể đòi hỏi gì thêm ở Dế mèn phiêu lưu ký ...</td>\n",
       "      <td>5</td>\n",
       "      <td>tích cực</td>\n",
       "    </tr>\n",
       "    <tr>\n",
       "      <th>1</th>\n",
       "      <td>Dế Mèn Phiêu Lưu Ký, nó giống như Chúa Nhẫn vậ...</td>\n",
       "      <td>5</td>\n",
       "      <td>tích cực</td>\n",
       "    </tr>\n",
       "    <tr>\n",
       "      <th>2</th>\n",
       "      <td>bạn nào rate thấp cho cuốn này thì có lẽ là do...</td>\n",
       "      <td>5</td>\n",
       "      <td>tích cực</td>\n",
       "    </tr>\n",
       "    <tr>\n",
       "      <th>3</th>\n",
       "      <td>Ghét cái cuốn này. Ghét cay ghét đắng. Nhưng m...</td>\n",
       "      <td>1</td>\n",
       "      <td>tiêu cực</td>\n",
       "    </tr>\n",
       "    <tr>\n",
       "      <th>4</th>\n",
       "      <td>Đọc lại hai lần vẫn thích và ấn tượng nhất đoạ...</td>\n",
       "      <td>4</td>\n",
       "      <td>tích cực</td>\n",
       "    </tr>\n",
       "  </tbody>\n",
       "</table>\n",
       "</div>"
      ],
      "text/plain": [
       "                                                text  rating  evaluate\n",
       "0  [Có thể đòi hỏi gì thêm ở Dế mèn phiêu lưu ký ...       5  tích cực\n",
       "1  Dế Mèn Phiêu Lưu Ký, nó giống như Chúa Nhẫn vậ...       5  tích cực\n",
       "2  bạn nào rate thấp cho cuốn này thì có lẽ là do...       5  tích cực\n",
       "3  Ghét cái cuốn này. Ghét cay ghét đắng. Nhưng m...       1  tiêu cực\n",
       "4  Đọc lại hai lần vẫn thích và ấn tượng nhất đoạ...       4  tích cực"
      ]
     },
     "execution_count": 15,
     "metadata": {},
     "output_type": "execute_result"
    }
   ],
   "source": [
    "data.evaluate = ' '\n",
    "data = data.assign(evaluate = ' ')\n",
    "data.evaluate = evaluate(data.rating, data.evaluate)\n",
    "data.head()"
   ]
  },
  {
   "cell_type": "code",
   "execution_count": 16,
   "id": "f7c3d608",
   "metadata": {},
   "outputs": [
    {
     "data": {
      "image/png": "[encoded data removed]",
      "text/plain": [
       "<Figure size 864x504 with 1 Axes>"
      ]
     },
     "metadata": {},
     "output_type": "display_data"
    }
   ],
   "source": [
    "plt.figure(figsize = (12,7))\n",
    "sb.barplot(x = data.evaluate.value_counts().index, y = data.evaluate.value_counts().values)\n",
    "plt.xticks(fontsize = 14)\n",
    "plt.yticks(fontsize = 14)\n",
    "plt.show()"
   ]
  },
  {
   "cell_type": "markdown",
   "id": "346aca3f",
   "metadata": {},
   "source": [
    "**Nhận xét**:\n",
    " - Tích cực chiếm số lượng nhiều nhất với trên 5000 lượt đánh giá\n",
    " - Tiêu cực chiếm số lượng ít nhất với chỉ khoảng 900 lượt đánh giá, với số lượng đánh giá tiêu cực ít như vậy có thể sẽ phải sử dụng oversampling"
   ]
  },
  {
   "cell_type": "code",
   "execution_count": 17,
   "id": "fe617e24",
   "metadata": {},
   "outputs": [],
   "source": [
    "from langdetect import detect"
   ]
  },
  {
   "cell_type": "code",
   "execution_count": 18,
   "id": "0e7ee72d",
   "metadata": {},
   "outputs": [],
   "source": [
    "data['detect_lang'] = ' '\n",
    "data = data.assign(detect_lang = ' ')\n",
    "for i in range(data.shape[0]):\n",
    "    try:\n",
    "        data['detect_lang'][i] = detect(data.text[i])\n",
    "    except:\n",
    "        continue"
   ]
  },
  {
   "cell_type": "code",
   "execution_count": 19,
   "id": "f5a0f301",
   "metadata": {},
   "outputs": [
    {
     "data": {
      "text/plain": [
       "(1585, 4)"
      ]
     },
     "execution_count": 19,
     "metadata": {},
     "output_type": "execute_result"
    }
   ],
   "source": [
    "# Comments bằng tiếng Anh\n",
    "data_en = data.loc[data.detect_lang == 'en']\n",
    "data_en.shape"
   ]
  },
  {
   "cell_type": "code",
   "execution_count": 20,
   "id": "376335f4",
   "metadata": {},
   "outputs": [
    {
     "data": {
      "text/plain": [
       "(7448, 4)"
      ]
     },
     "execution_count": 20,
     "metadata": {},
     "output_type": "execute_result"
    }
   ],
   "source": [
    "# Comments bằng tiếng Việt\n",
    "data_vn = data.loc[data.detect_lang == 'vi']\n",
    "data_vn = data_vn.reset_index()\n",
    "data_vn = data_vn.drop(columns = ['index'])\n",
    "data_vn.shape"
   ]
  },
  {
   "cell_type": "code",
   "execution_count": 21,
   "id": "ece4856a",
   "metadata": {},
   "outputs": [
    {
     "data": {
      "text/html": [
       "<div>\n",
       "<style scoped>\n",
       "    .dataframe tbody tr th:only-of-type {\n",
       "        vertical-align: middle;\n",
       "    }\n",
       "\n",
       "    .dataframe tbody tr th {\n",
       "        vertical-align: top;\n",
       "    }\n",
       "\n",
       "    .dataframe thead th {\n",
       "        text-align: right;\n",
       "    }\n",
       "</style>\n",
       "<table border=\"1\" class=\"dataframe\">\n",
       "  <thead>\n",
       "    <tr style=\"text-align: right;\">\n",
       "      <th></th>\n",
       "      <th>text</th>\n",
       "      <th>rating</th>\n",
       "      <th>evaluate</th>\n",
       "      <th>detect_lang</th>\n",
       "    </tr>\n",
       "  </thead>\n",
       "  <tbody>\n",
       "    <tr>\n",
       "      <th>0</th>\n",
       "      <td>[Có thể đòi hỏi gì thêm ở Dế mèn phiêu lưu ký ...</td>\n",
       "      <td>5</td>\n",
       "      <td>tích cực</td>\n",
       "      <td>vi</td>\n",
       "    </tr>\n",
       "    <tr>\n",
       "      <th>1</th>\n",
       "      <td>Dế Mèn Phiêu Lưu Ký, nó giống như Chúa Nhẫn vậ...</td>\n",
       "      <td>5</td>\n",
       "      <td>tích cực</td>\n",
       "      <td>vi</td>\n",
       "    </tr>\n",
       "    <tr>\n",
       "      <th>2</th>\n",
       "      <td>bạn nào rate thấp cho cuốn này thì có lẽ là do...</td>\n",
       "      <td>5</td>\n",
       "      <td>tích cực</td>\n",
       "      <td>vi</td>\n",
       "    </tr>\n",
       "    <tr>\n",
       "      <th>3</th>\n",
       "      <td>Ghét cái cuốn này. Ghét cay ghét đắng. Nhưng m...</td>\n",
       "      <td>1</td>\n",
       "      <td>tiêu cực</td>\n",
       "      <td>vi</td>\n",
       "    </tr>\n",
       "    <tr>\n",
       "      <th>4</th>\n",
       "      <td>Đọc lại hai lần vẫn thích và ấn tượng nhất đoạ...</td>\n",
       "      <td>4</td>\n",
       "      <td>tích cực</td>\n",
       "      <td>vi</td>\n",
       "    </tr>\n",
       "  </tbody>\n",
       "</table>\n",
       "</div>"
      ],
      "text/plain": [
       "                                                text  rating  evaluate  \\\n",
       "0  [Có thể đòi hỏi gì thêm ở Dế mèn phiêu lưu ký ...       5  tích cực   \n",
       "1  Dế Mèn Phiêu Lưu Ký, nó giống như Chúa Nhẫn vậ...       5  tích cực   \n",
       "2  bạn nào rate thấp cho cuốn này thì có lẽ là do...       5  tích cực   \n",
       "3  Ghét cái cuốn này. Ghét cay ghét đắng. Nhưng m...       1  tiêu cực   \n",
       "4  Đọc lại hai lần vẫn thích và ấn tượng nhất đoạ...       4  tích cực   \n",
       "\n",
       "  detect_lang  \n",
       "0          vi  \n",
       "1          vi  \n",
       "2          vi  \n",
       "3          vi  \n",
       "4          vi  "
      ]
     },
     "execution_count": 21,
     "metadata": {},
     "output_type": "execute_result"
    }
   ],
   "source": [
    "data_vn.head()"
   ]
  },
  {
   "cell_type": "code",
   "execution_count": 22,
   "id": "ebe2fd42",
   "metadata": {},
   "outputs": [
    {
     "data": {
      "image/png": "[encoded data removed]",
      "text/plain": [
       "<Figure size 864x504 with 1 Axes>"
      ]
     },
     "metadata": {},
     "output_type": "display_data"
    }
   ],
   "source": [
    "plt.figure(figsize = (12,7))\n",
    "sb.barplot(x = data_vn.evaluate.value_counts().index, y = data_vn.evaluate.value_counts().values)\n",
    "plt.xticks(fontsize = 14)\n",
    "plt.yticks(fontsize = 14)\n",
    "plt.show()"
   ]
  },
  {
   "cell_type": "markdown",
   "id": "ccedd322",
   "metadata": {},
   "source": [
    "**Nhận xét**\n",
    "- Số bình luận tích cực của phần dữ liệu tiếng Việt chiếm nhiều nhất, gấp đôi số bình luận trung tính. Còn bình luận tiêu cực là ít nhất"
   ]
  },
  {
   "cell_type": "code",
   "execution_count": 23,
   "id": "407ce111",
   "metadata": {},
   "outputs": [],
   "source": [
    "## data_vn.to_excel(\"gán_lại_nhãn.xlsx\")"
   ]
  },
  {
   "cell_type": "code",
   "execution_count": 24,
   "id": "7239786b",
   "metadata": {},
   "outputs": [
    {
     "data": {
      "text/plain": [
       "7426"
      ]
     },
     "execution_count": 24,
     "metadata": {},
     "output_type": "execute_result"
    }
   ],
   "source": [
    "data_vn = pd.read_excel('gán_lại_nhãn.xlsx',index_col = 0).reset_index().drop(columns= ['index'])\n",
    "data_vn.shape[0]"
   ]
  },
  {
   "cell_type": "markdown",
   "id": "c53eeefc",
   "metadata": {},
   "source": [
    "<span style = 'color : red; font-size :35px'>**Xử lý text**</span>"
   ]
  },
  {
   "cell_type": "code",
   "execution_count": 25,
   "id": "990bbd5a",
   "metadata": {},
   "outputs": [],
   "source": [
    "from underthesea import word_tokenize, pos_tag, sent_tokenize # sent_tokenize tách ra từ 1 văn bản thành nhiều câu\n",
    "import regex\n",
    "import demoji\n",
    "from pyvi import ViPosTagger, ViTokenizer\n",
    "import string"
   ]
  },
  {
   "cell_type": "code",
   "execution_count": 26,
   "id": "a5da313c",
   "metadata": {},
   "outputs": [],
   "source": [
    "##LOAD EMOJICON\n",
    "file = open('data/Cung cap HV/files/emojicon.txt', 'r', encoding=\"utf8\")\n",
    "emoji_lst = file.read().split('\\n')\n",
    "emoji_dict = {}\n",
    "for line in emoji_lst:\n",
    "    key, value = line.split('\\t')\n",
    "    emoji_dict[key] = str(value)\n",
    "file.close()\n",
    "#################\n",
    "#LOAD TEENCODE\n",
    "file = open('data/Cung cap HV/files/teencode.txt', 'r', encoding=\"utf8\")\n",
    "teen_lst = file.read().split('\\n')\n",
    "teen_dict = {}\n",
    "for line in teen_lst:\n",
    "    key, value = line.split('\\t')\n",
    "    teen_dict[key] = str(value)\n",
    "file.close()\n",
    "###############\n",
    "#LOAD TRANSLATE ENGLISH -> VNMESE\n",
    "file = open('data/Cung cap HV/files/english-vnmese.txt', 'r', encoding=\"utf8\")\n",
    "english_lst = file.read().split('\\n')\n",
    "english_dict = {}\n",
    "for line in english_lst:\n",
    "    key, value = line.split('\\t')\n",
    "    english_dict[key] = str(value)\n",
    "file.close()\n",
    "################\n",
    "#LOAD wrong words\n",
    "file = open('data/Cung cap HV/files/wrong-word.txt', 'r', encoding=\"utf8\")\n",
    "wrong_lst = file.read().split('\\n')\n",
    "file.close()\n",
    "#################\n",
    "#LOAD STOPWORDS\n",
    "file = open('data/Cung cap HV/files/vietnamese-stopwords.txt', 'r', encoding=\"utf8\")\n",
    "stopwords_lst = file.read().split('\\n')\n",
    "file.close()"
   ]
  },
  {
   "cell_type": "code",
   "execution_count": 27,
   "id": "84e00cb6",
   "metadata": {},
   "outputs": [],
   "source": [
    "def process_text(text, emoji_dict, teen_dict, wrong_lst):\n",
    "    document = text.lower()\n",
    "    document = document.replace(\"’\",'')\n",
    "    document = regex.sub(r'\\.+', \".\", document)\n",
    "    new_sentence =''\n",
    "    for sentence in sent_tokenize(document):\n",
    "        # if not(sentence.isascii()):\n",
    "        ###### CONVERT EMOJICON\n",
    "        sentence = ''.join(emoji_dict[word]+'  ' if word in emoji_dict else word for word in list(sentence))\n",
    "        ###### CONVERT TEENCODE\n",
    "        sentence = ' '.join(teen_dict[word] if word in teen_dict else word for word in sentence.split())\n",
    "        ###### DEL Punctuation & Numbers\n",
    "        pattern = r'(?i)\\b[a-záàảãạăắằẳẵặâấầẩẫậéèẻẽẹêếềểễệóòỏõọôốồổỗộơớờởỡợíìỉĩịúùủũụưứừửữựýỳỷỹỵđ]+\\b'\n",
    "        sentence = ' '.join(regex.findall(pattern,sentence))\n",
    "        ###### DEL wrong words   \n",
    "        sentence = ' '.join('' if word in wrong_lst else word for word in sentence.split())\n",
    "        new_sentence = new_sentence+ sentence + '. '                    \n",
    "    document = new_sentence  \n",
    "    #print(document)\n",
    "    ###### DEL excess blank space\n",
    "    document = regex.sub(r'\\s+', ' ', document).strip()\n",
    "    return document"
   ]
  },
  {
   "cell_type": "code",
   "execution_count": 29,
   "id": "45d5c8fe",
   "metadata": {},
   "outputs": [],
   "source": [
    "# Chuẩn hóa unicode tiếng việt\n",
    "def loaddicchar():\n",
    "    uniChars = \"àáảãạâầấẩẫậăằắẳẵặèéẻẽẹêềếểễệđìíỉĩịòóỏõọôồốổỗộơờớởỡợùúủũụưừứửữựỳýỷỹỵÀÁẢÃẠÂẦẤẨẪẬĂẰẮẲẴẶÈÉẺẼẸÊỀẾỂỄỆĐÌÍỈĨỊÒÓỎÕỌÔỒỐỔỖỘƠỜỚỞỠỢÙÚỦŨỤƯỪỨỬỮỰỲÝỶỸỴÂĂĐÔƠƯ\"\n",
    "    unsignChars = \"aaaaaaaaaaaaaaaaaeeeeeeeeeeediiiiiooooooooooooooooouuuuuuuuuuuyyyyyAAAAAAAAAAAAAAAAAEEEEEEEEEEEDIIIOOOOOOOOOOOOOOOOOOOUUUUUUUUUUUYYYYYAADOOU\"\n",
    "\n",
    "    dic = {}\n",
    "    char1252 = 'à|á|ả|ã|ạ|ầ|ấ|ẩ|ẫ|ậ|ằ|ắ|ẳ|ẵ|ặ|è|é|ẻ|ẽ|ẹ|ề|ế|ể|ễ|ệ|ì|í|ỉ|ĩ|ị|ò|ó|ỏ|õ|ọ|ồ|ố|ổ|ỗ|ộ|ờ|ớ|ở|ỡ|ợ|ù|ú|ủ|ũ|ụ|ừ|ứ|ử|ữ|ự|ỳ|ý|ỷ|ỹ|ỵ|À|Á|Ả|Ã|Ạ|Ầ|Ấ|Ẩ|Ẫ|Ậ|Ằ|Ắ|Ẳ|Ẵ|Ặ|È|É|Ẻ|Ẽ|Ẹ|Ề|Ế|Ể|Ễ|Ệ|Ì|Í|Ỉ|Ĩ|Ị|Ò|Ó|Ỏ|Õ|Ọ|Ồ|Ố|Ổ|Ỗ|Ộ|Ờ|Ớ|Ở|Ỡ|Ợ|Ù|Ú|Ủ|Ũ|Ụ|Ừ|Ứ|Ử|Ữ|Ự|Ỳ|Ý|Ỷ|Ỹ|Ỵ'.split(\n",
    "        '|')\n",
    "    charutf8 = \"à|á|ả|ã|ạ|ầ|ấ|ẩ|ẫ|ậ|ằ|ắ|ẳ|ẵ|ặ|è|é|ẻ|ẽ|ẹ|ề|ế|ể|ễ|ệ|ì|í|ỉ|ĩ|ị|ò|ó|ỏ|õ|ọ|ồ|ố|ổ|ỗ|ộ|ờ|ớ|ở|ỡ|ợ|ù|ú|ủ|ũ|ụ|ừ|ứ|ử|ữ|ự|ỳ|ý|ỷ|ỹ|ỵ|À|Á|Ả|Ã|Ạ|Ầ|Ấ|Ẩ|Ẫ|Ậ|Ằ|Ắ|Ẳ|Ẵ|Ặ|È|É|Ẻ|Ẽ|Ẹ|Ề|Ế|Ể|Ễ|Ệ|Ì|Í|Ỉ|Ĩ|Ị|Ò|Ó|Ỏ|Õ|Ọ|Ồ|Ố|Ổ|Ỗ|Ộ|Ờ|Ớ|Ở|Ỡ|Ợ|Ù|Ú|Ủ|Ũ|Ụ|Ừ|Ứ|Ử|Ữ|Ự|Ỳ|Ý|Ỷ|Ỹ|Ỵ\".split(\n",
    "        '|')\n",
    "    for i in range(len(char1252)):\n",
    "        dic[char1252[i]] = charutf8[i]\n",
    "    return dic\n",
    " \n",
    "# Đưa toàn bộ dữ liệu qua hàm này để chuẩn hóa lại\n",
    "def convert_unicode(txt):\n",
    "    dicchar = loaddicchar()\n",
    "    return regex.sub(\n",
    "        r'à|á|ả|ã|ạ|ầ|ấ|ẩ|ẫ|ậ|ằ|ắ|ẳ|ẵ|ặ|è|é|ẻ|ẽ|ẹ|ề|ế|ể|ễ|ệ|ì|í|ỉ|ĩ|ị|ò|ó|ỏ|õ|ọ|ồ|ố|ổ|ỗ|ộ|ờ|ớ|ở|ỡ|ợ|ù|ú|ủ|ũ|ụ|ừ|ứ|ử|ữ|ự|ỳ|ý|ỷ|ỹ|ỵ|À|Á|Ả|Ã|Ạ|Ầ|Ấ|Ẩ|Ẫ|Ậ|Ằ|Ắ|Ẳ|Ẵ|Ặ|È|É|Ẻ|Ẽ|Ẹ|Ề|Ế|Ể|Ễ|Ệ|Ì|Í|Ỉ|Ĩ|Ị|Ò|Ó|Ỏ|Õ|Ọ|Ồ|Ố|Ổ|Ỗ|Ộ|Ờ|Ớ|Ở|Ỡ|Ợ|Ù|Ú|Ủ|Ũ|Ụ|Ừ|Ứ|Ử|Ữ|Ự|Ỳ|Ý|Ỷ|Ỹ|Ỵ',\n",
    "        lambda x: dicchar[x.group()], txt)"
   ]
  },
  {
   "cell_type": "code",
   "execution_count": 30,
   "id": "fb130101",
   "metadata": {},
   "outputs": [],
   "source": [
    "# có thể bổ sung thêm các từ: chẳng, chả...\n",
    "def process_special_word(text):\n",
    "    new_text = ''\n",
    "    text_lst = text.split()\n",
    "    i= 0\n",
    "    if 'không' in text_lst or 'hơi' in text_lst or 'khá' in text_lst:\n",
    "        while i <= len(text_lst) - 1:\n",
    "            word = text_lst[i]\n",
    "            #print(word)\n",
    "            #print(i)\n",
    "            if  word == 'không' or  word == 'hơi' or word == 'khá':\n",
    "                next_idx = i+1\n",
    "                if next_idx <= len(text_lst) -1:\n",
    "                    word = word +'_'+ text_lst[next_idx]\n",
    "                i= next_idx + 1\n",
    "            else:\n",
    "                i = i+1\n",
    "            new_text = new_text + word + ' '\n",
    "    else:\n",
    "        new_text = text\n",
    "    return new_text.strip()"
   ]
  },
  {
   "cell_type": "code",
   "execution_count": 31,
   "id": "d2d2c9e6",
   "metadata": {},
   "outputs": [],
   "source": [
    "def process_postag_thesea(text):\n",
    "    new_document = ''\n",
    "    for sentence in sent_tokenize(text):\n",
    "        sentence = sentence.replace('.','')\n",
    "        ###### POS tag\n",
    "        lst_word_type = ['A','AB','V','VB','VY','R' , 'M']\n",
    "        sentence = ' '.join( word[0] if word[1].upper() in lst_word_type else '' for word in pos_tag(process_special_word(word_tokenize(sentence, format=\"text\"))))\n",
    "        new_document = new_document + sentence + ' '\n",
    "    ###### DEL excess blank space\n",
    "    new_document = regex.sub(r'\\s+', ' ', new_document).strip()\n",
    "    return new_document"
   ]
  },
  {
   "cell_type": "code",
   "execution_count": 33,
   "id": "59e44c4c",
   "metadata": {},
   "outputs": [],
   "source": [
    "def remove_stopword(text, stopwords):\n",
    "    ###### REMOVE stop words\n",
    "    document = ' '.join('' if word in stopwords else word for word in text.split())\n",
    "    #print(document)\n",
    "    ###### DEL excess blank space\n",
    "    document = regex.sub(r'\\s+', ' ', document).strip()\n",
    "    return document"
   ]
  },
  {
   "cell_type": "code",
   "execution_count": 34,
   "id": "20b50b64",
   "metadata": {},
   "outputs": [],
   "source": [
    "data_vn['text_clean'] = data_vn.text\n",
    "data_vn['text_clean'] = data_vn['text_clean'].apply(lambda x: x.lower().replace('(less)', ''))\n",
    "data_vn['text_clean'] = data_vn['text_clean'].apply(lambda x: x.replace('cliche', 'rập khuôn'))\n",
    "data_vn['text_clean'] = data_vn['text_clean'].apply(lambda x: x.replace('cute', 'dễ thương'))\n",
    "data_vn['text_clean'] = data_vn['text_clean'].apply(lambda x: x.replace('underwhelming', 'không ấn tượng'))\n",
    "data_vn['text_clean'] = data_vn['text_clean'].apply(lambda x: x.replace('dmplk', 'dế mèn phiêu lưu ký'))\n",
    "data_vn['text_clean'] = data_vn['text_clean'].apply(lambda x: x.replace('trươca', 'trước'))\n",
    "data_vn['text_clean'] = data_vn['text_clean'].apply(lambda x: x.replace('qđ', 'quyết định'))\n",
    "data_vn['text_clean'] = data_vn['text_clean'].apply(lambda x: x.replace('goodread', ''))\n",
    "data_vn['text_clean'] = data_vn['text_clean'].apply(lambda x: x.replace('đc', 'được'))\n",
    "data_vn['text_clean'] = data_vn['text_clean'].apply(lambda x: x.replace('dếmèn', ''))\n",
    "data_vn['text_clean'] = data_vn['text_clean'].apply(lambda x: x.replace('dếchoắt', ''))\n",
    "data_vn['text_clean'] = data_vn['text_clean'].apply(lambda x: x.replace('dấu ấn rồng thiên', ''))\n",
    "data_vn['text_clean'] = data_vn['text_clean'].apply(lambda x: x.replace('sgk', ''))\n",
    "data_vn['text_clean'] = data_vn['text_clean'].apply(lambda x: x.replace('nbct', ''))\n",
    "data_vn['text_clean'] = data_vn['text_clean'].apply(lambda x: x.replace('dragon ball', ''))\n",
    "data_vn['text_clean'] = data_vn['text_clean'].apply(lambda x: x.replace('tri chi vi tri chi, bất tri vi bất tri, thị tri dã', ''))\n",
    "data_vn['text_clean'] = data_vn['text_clean'].apply(lambda x: x.replace('ndc', ''))\n",
    "data_vn['text_clean'] = data_vn['text_clean'].apply(lambda x: x.replace('choux', ''))\n",
    "data_vn['text_clean'] = data_vn['text_clean'].apply(lambda x: x.replace('muôn kiếp nhân sinh', '').replace('mkns', ''))\n",
    "data_vn['text_clean'] = data_vn['text_clean'].apply(lambda x: x.replace('hành trình về phương đông', '').replace('htvpđ', ''))\n",
    "data_vn['text_clean'] = data_vn['text_clean'].apply(lambda x: x.replace('haizzz', ''))\n",
    "data_vn['text_clean'] = data_vn['text_clean'].apply(lambda x: x.replace('nhéeee', ''))\n",
    "data_vn['text_clean'] = data_vn['text_clean'].apply(lambda x: x.replace('nhée', ''))\n",
    "data_vn['text_clean'] = data_vn['text_clean'].apply(lambda x: x.replace('nháa', ''))\n",
    "data_vn['text_clean'] = data_vn['text_clean'].apply(lambda x: x.replace('fluential', ''))\n",
    "data_vn['text_clean'] = data_vn['text_clean'].apply(lambda x: x.replace('havg', ''))\n",
    "data_vn['text_clean'] = data_vn['text_clean'].apply(lambda x: x.replace('bủnet', ''))\n",
    "data_vn['text_clean'] = data_vn['text_clean'].apply(lambda x: x.replace('chips', ''))\n",
    "data_vn['text_clean'] = data_vn['text_clean'].apply(lambda x: x.replace('vũ trọng phụng', ''))\n",
    "data_vn['text_clean'] = data_vn['text_clean'].apply(lambda x: x.replace('nam cao', ''))\n",
    "data_vn['text_clean'] = data_vn['text_clean'].apply(lambda x: x.replace('lôi mễ', ''))\n",
    "data_vn['text_clean'] = data_vn['text_clean'].apply(lambda x: x.replace('nguyễn duy cần', ''))\n",
    "data_vn['text_clean'] = data_vn['text_clean'].apply(lambda x: x.replace('rosie nguyễn', ''))\n",
    "data_vn['text_clean'] = data_vn['text_clean'].apply(lambda x: x.replace('roise nguyễn', ''))\n",
    "data_vn['text_clean'] = data_vn['text_clean'].apply(lambda x: x.replace('trang hạ', ''))\n",
    "data_vn['text_clean'] = data_vn['text_clean'].apply(lambda x: x.replace('anh khang', ''))\n",
    "data_vn['text_clean'] = data_vn['text_clean'].apply(lambda x: x.replace('nguyễn ngọc thạch', ''))\n",
    "data_vn['text_clean'] = data_vn['text_clean'].apply(lambda x: x.replace('vãn tình', ''))\n",
    "data_vn['text_clean'] = data_vn['text_clean'].apply(lambda x: x.replace('trác nhã', ''))\n",
    "data_vn['text_clean'] = data_vn['text_clean'].apply(lambda x: x.replace('midori', ''))\n",
    "data_vn['text_clean'] = data_vn['text_clean'].apply(lambda x: x.replace('rosie', ''))\n",
    "data_vn['text_clean'] = data_vn['text_clean'].apply(lambda x: x.replace('bok', ''))\n",
    "data_vn['text_clean'] = data_vn['text_clean'].apply(lambda x: x.replace('lê hồng phong', ''))\n",
    "data_vn['text_clean'] = data_vn['text_clean'].apply(lambda x: x.replace('lê văn nghĩa', ''))\n",
    "data_vn['text_clean'] = data_vn['text_clean'].apply(lambda x: x.replace('việ ', 'việc'))\n",
    "data_vn['text_clean'] = data_vn['text_clean'].apply(lambda x: x.replace('tìn ', ''))\n",
    "data_vn['text_clean'] = data_vn['text_clean'].apply(lambda x: x.replace('thíc ', 'thích '))\n",
    "\n",
    "data_vn['text_clean'] = data_vn['text_clean'].apply(lambda x: x.replace('ndung', 'nội dung'))\n",
    "data_vn['text_clean'] = data_vn['text_clean'].apply(lambda x: x.replace('áp dung duoc', 'áp dụng được'))\n",
    "data_vn['text_clean'] = data_vn['text_clean'].apply(lambda x: x.replace('thục tế', 'thực tế'))\n",
    "data_vn['text_clean'] = data_vn['text_clean'].apply(lambda x: x.replace('phu hợp', 'phù hợp'))\n",
    "\n",
    "data_vn['text_clean'] = data_vn['text_clean'].apply(lambda x: x.replace('qá', 'quá'))\n",
    "data_vn['text_clean'] = data_vn['text_clean'].apply(lambda x: x.replace('nham chán', 'nhàm chán'))\n",
    "data_vn['text_clean'] = data_vn['text_clean'].apply(lambda x: x.replace('hông', 'không'))\n",
    "data_vn['text_clean'] = data_vn['text_clean'].apply(lambda x: x.replace('tkhông', 'thông'))\n",
    "data_vn['text_clean'] = data_vn['text_clean'].apply(lambda x: x.replace('thuơg', 'thương'))\n",
    "data_vn['text_clean'] = data_vn['text_clean'].apply(lambda x: x.replace('không búet', 'không biết'))\n",
    "data_vn['text_clean'] = data_vn['text_clean'].apply(lambda x: x.replace('không biét', 'không biết'))\n",
    "data_vn['text_clean'] = data_vn['text_clean'].apply(lambda x: x.replace('hok rõ', 'không rõ'))\n",
    "data_vn['text_clean'] = data_vn['text_clean'].apply(lambda x: x.replace('thuwcstinhr', 'thức tỉnh'))\n",
    "data_vn['text_clean'] = data_vn['text_clean'].apply(lambda x: x.replace('binô', ''))\n",
    "data_vn['text_clean'] = data_vn['text_clean'].apply(lambda x: x.replace('bêtô', ''))\n",
    "data_vn['text_clean'] = data_vn['text_clean'].apply(lambda x: x.replace('bêto', ''))\n",
    "data_vn['text_clean'] = data_vn['text_clean'].apply(lambda x: x.replace('bvnsơn', ''))\n",
    "data_vn['text_clean'] = data_vn['text_clean'].apply(lambda x: x.replace('zị', 'vậy'))\n",
    "data_vn['text_clean'] = data_vn['text_clean'].apply(lambda x: x.replace('đỉm', 'điểm'))\n",
    "data_vn['text_clean'] = data_vn['text_clean'].apply(lambda x: x.replace('tcn', ''))\n",
    "data_vn['text_clean'] = data_vn['text_clean'].apply(lambda x: x.replace('nguyễn bính', ''))\n",
    "data_vn['text_clean'] = data_vn['text_clean'].apply(lambda x: x.replace('xuân diệu', ''))\n",
    "data_vn['text_clean'] = data_vn['text_clean'].apply(lambda x: x.replace('rùi', 'rồi'))\n",
    "data_vn['text_clean'] = data_vn['text_clean'].apply(lambda x: x.replace('dễ thưn zữ z tr', 'dễ thương dữ vậy trời'))\n",
    "data_vn['text_clean'] = data_vn['text_clean'].apply(lambda x: x.replace('chờy ơy pùn wa', 'trời ơi buồn quá'))\n",
    "data_vn['text_clean'] = data_vn['text_clean'].apply(lambda x: x.replace('hok cóa', 'không có'))\n",
    "data_vn['text_clean'] = data_vn['text_clean'].apply(lambda x: x.replace('nọy', ''))\n",
    "data_vn['text_clean'] = data_vn['text_clean'].apply(lambda x: x.replace('nhín', ''))\n",
    "data_vn['text_clean'] = data_vn['text_clean'].apply(lambda x: x.replace(' child ', ' '))\n",
    "  \n",
    "                                                                    \n",
    "data_vn['text_clean'] = data_vn['text_clean'].apply(lambda x: x.replace('đx', 'đối xử'))\n",
    "data_vn['text_clean'] = data_vn['text_clean'].apply(lambda x: x.replace(' k care', ' không quan tâm'))\n",
    "data_vn['text_clean'] = data_vn['text_clean'].apply(lambda x: x.replace(' hông ', ' không '))\n",
    "data_vn['text_clean'] = data_vn['text_clean'].apply(lambda x: x.replace(' hong ', ' không '))\n",
    "data_vn['text_clean'] = data_vn['text_clean'].apply(lambda x: x.replace(' chả ', ' không '))\n",
    "data_vn['text_clean'] = data_vn['text_clean'].apply(lambda x: x.replace(' chẳng ', ' không '))\n",
    "data_vn['text_clean'] = data_vn['text_clean'].apply(lambda x: x.replace(' ko ', ' không '))\n",
    "data_vn['text_clean'] = data_vn['text_clean'].apply(lambda x: x.replace(' k ', ' không '))\n",
    "data_vn['text_clean'] = data_vn['text_clean'].apply(lambda x: x.replace(' khôg ', ' không '))\n",
    "data_vn['text_clean'] = data_vn['text_clean'].apply(lambda x: x.replace(' khôgn ', ' không '))\n",
    "data_vn['text_clean'] = data_vn['text_clean'].apply(lambda x: x.replace(' bth ', ' bình thường '))\n",
    "data_vn['text_clean'] = data_vn['text_clean'].apply(lambda x: x.replace(' bthg ', ' bình thường '))\n",
    "\n",
    "data_vn['text_clean'] = data_vn['text_clean'].apply(lambda x: x.replace('kh nhiều', 'không nhiều'))\n",
    "data_vn['text_clean'] = data_vn['text_clean'].apply(lambda x: x.replace('kh liên quan', 'không liên quan'))\n",
    "data_vn['text_clean'] = data_vn['text_clean'].apply(lambda x: x.replace('kh lấy được', 'không lấy được'))\n",
    "data_vn['text_clean'] = data_vn['text_clean'].apply(lambda x: x.replace(' kp ', ' không phải '))\n",
    "\n",
    "data_vn['text_clean'] = data_vn['text_clean'].apply(lambda x: x.replace(' nh ', ' '))\n",
    "data_vn['text_clean'] = data_vn['text_clean'].apply(lambda x: x.replace('vềmột', 'về một'))\n",
    "data_vn['text_clean'] = data_vn['text_clean'].apply(lambda x: x.replace('cũngđã', 'cũng đã'))\n",
    "data_vn['text_clean'] = data_vn['text_clean'].apply(lambda x: x.replace('ồnbị', 'ồn bị'))                                                                                                \n",
    "data_vn['text_clean'] = data_vn['text_clean'].apply(lambda x: x.replace('lđếnà', 'là')) \n",
    "data_vn['text_clean'] = data_vn['text_clean'].apply(lambda x: x.replace('nhưngnhà', ''))\n",
    "data_vn['text_clean'] = data_vn['text_clean'].apply(lambda x: x.replace('buồ ', 'buồn '))\n",
    "data_vn['text_clean'] = data_vn['text_clean'].apply(lambda x: x.replace('hậutuổithơ', ''))\n",
    "data_vn['text_clean'] = data_vn['text_clean'].apply(lambda x: x.replace('cx', 'cũng'))\n",
    "data_vn['text_clean'] = data_vn['text_clean'].apply(lambda x: x.replace('canhr', ''))\n",
    "\n",
    "data_vn['text_clean'] = data_vn['text_clean'].apply(lambda x: x.replace('nguyễn văn mãi', ''))\n",
    "data_vn['text_clean'] = data_vn['text_clean'].apply(lambda x: x.replace('trọng hứa', ''))\n",
    "data_vn['text_clean'] = data_vn['text_clean'].apply(lambda x: x.replace('nghiêm bình', ''))\n",
    "data_vn['text_clean'] = data_vn['text_clean'].apply(lambda x: x.replace('thằng đắc', ''))\n",
    "data_vn['text_clean'] = data_vn['text_clean'].apply(lambda x: x.replace('tô sang', ''))\n",
    "data_vn['text_clean'] = data_vn['text_clean'].apply(lambda x: x.replace('lão hiến', ''))\n",
    "data_vn['text_clean'] = data_vn['text_clean'].apply(lambda x: x.replace('lão hiếng', ''))\n",
    "data_vn['text_clean'] = data_vn['text_clean'].apply(lambda x: x.replace('trần đăng khoa', ''))\n",
    "data_vn['text_clean'] = data_vn['text_clean'].apply(lambda x: x.replace('bê tô', ''))\n",
    "data_vn['text_clean'] = data_vn['text_clean'].apply(lambda x: x.replace('chị ni', ''))\n",
    "data_vn['text_clean'] = data_vn['text_clean'].apply(lambda x: x.replace('dế', ''))\n",
    "data_vn['text_clean'] = data_vn['text_clean'].apply(lambda x: x.replace('dế mèn', ''))\n",
    "data_vn['text_clean'] = data_vn['text_clean'].apply(lambda x: x.replace('dế choắt', ''))\n",
    "data_vn['text_clean'] = data_vn['text_clean'].apply(lambda x: x.replace('xiến tóc', ''))\n",
    "data_vn['text_clean'] = data_vn['text_clean'].apply(lambda x: x.replace('châu chấu voi', ''))\n",
    "data_vn['text_clean'] = data_vn['text_clean'].apply(lambda x: x.replace('bọ ngựa', ''))\n",
    "data_vn['text_clean'] = data_vn['text_clean'].apply(lambda x: x.replace('cào cào', ''))\n",
    "data_vn['text_clean'] = data_vn['text_clean'].apply(lambda x: x.replace('chim trả', ''))\n",
    "data_vn['text_clean'] = data_vn['text_clean'].apply(lambda x: x.replace('chị nhà trò', ''))\n",
    "data_vn['text_clean'] = data_vn['text_clean'].apply(lambda x: x.replace('êmê', ''))\n",
    "data_vn['text_clean'] = data_vn['text_clean'].apply(lambda x: x.replace(' mèn ', ''))\n",
    "data_vn['text_clean'] = data_vn['text_clean'].apply(lambda x: x.replace(' trũi ', ''))\n",
    "data_vn['text_clean'] = data_vn['text_clean'].apply(lambda x: x.replace('chí phèo', ''))\n",
    "data_vn['text_clean'] = data_vn['text_clean'].apply(lambda x: x.replace('kông-hoa', ''))\n",
    "data_vn['text_clean'] = data_vn['text_clean'].apply(lambda x: x.replace(' c ', ' '))\n",
    "data_vn['text_clean'] = data_vn['text_clean'].apply(lambda x: x.replace(' g ', ' '))\n",
    "data_vn['text_clean'] = data_vn['text_clean'].apply(lambda x: x.replace(' n ', ' '))\n",
    "data_vn['text_clean'] = data_vn['text_clean'].apply(lambda x: x.replace(' h ', ' '))\n",
    "data_vn['text_clean'] = data_vn['text_clean'].apply(lambda x: x.replace(' t ', ' '))\n",
    "data_vn['text_clean'] = data_vn['text_clean'].apply(lambda x: x.replace(' r ', ' '))\n",
    "data_vn['text_clean'] = data_vn['text_clean'].apply(lambda x: x.replace(' th ', ' '))\n",
    "data_vn['text_clean'] = data_vn['text_clean'].apply(lambda x: x.replace(' ch ', ' '))\n",
    "\n",
    "data_vn['text_clean'] = data_vn['text_clean'].apply(lambda x: x.replace('bằn', 'bằng'))\n",
    "data_vn['text_clean'] = data_vn['text_clean'].apply(lambda x: x.replace('trắn ', 'trắng '))\n",
    "data_vn['text_clean'] = data_vn['text_clean'].apply(lambda x: x.replace('quyể ', 'quyển '))\n",
    "\n",
    "# data_vn['text_clean'] = data_vn['text_clean'].apply(lambda x: x.replace('không hay', 'khônghay'))\n",
    "# data_vn['text_clean'] = data_vn['text_clean'].apply(lambda x: x.replace('khá hay', 'kháhay'))\n",
    "# data_vn['text_clean'] = data_vn['text_clean'].apply(lambda x: x.replace('quá hay', 'quáhay'))\n",
    "# data_vn['text_clean'] = data_vn['text_clean'].apply(lambda x: x.replace('hay quá', 'hayquá'))\n",
    "# data_vn['text_clean'] = data_vn['text_clean'].apply(lambda x: x.replace('cực hay', 'cựchay'))\n",
    "# data_vn['text_clean'] = data_vn['text_clean'].apply(lambda x: x.replace('hay cực', 'haycực'))\n",
    "# data_vn['text_clean'] = data_vn['text_clean'].apply(lambda x: x.replace('thấy hay', 'thấyhay'))\n",
    "# data_vn['text_clean'] = data_vn['text_clean'].apply(lambda x: x.replace('hay ghê', 'hayghê'))\n",
    "# data_vn['text_clean'] = data_vn['text_clean'].apply(lambda x: x.replace('rất hay', 'rấthay'))\n",
    "# data_vn['text_clean'] = data_vn['text_clean'].apply(lambda x: x.replace(' highly recommend ', 'rấthay'))\n",
    "# data_vn['text_clean'] = data_vn['text_clean'].apply(lambda x: x.replace('highly recommended', 'rấthay'))\n",
    "data_vn['text_clean'] = data_vn['text_clean'].apply(lambda x: x.replace('không recommend', 'không thích'))\n",
    "data_vn['text_clean'] = data_vn['text_clean'].apply(lambda x: x.replace('không có gì', 'không'))\n",
    "data_vn['text_clean'] = data_vn['text_clean'].apply(lambda x: x.replace('khong thich', 'không thích'))\n",
    "data_vn['text_clean'] = data_vn['text_clean'].apply(lambda x: x.replace('khong biết', 'không biết'))\n",
    "data_vn['text_clean'] = data_vn['text_clean'].apply(lambda x: x.replace('khong hieu', 'không hiểu'))\n",
    "data_vn['text_clean'] = data_vn['text_clean'].apply(lambda x: x.replace('noi dung khong nhu mong doi', 'nội dung khônghay'))\n",
    "data_vn['text_clean'] = data_vn['text_clean'].apply(lambda x: x.replace('khong hay', 'khônghay'))\n",
    "data_vn['text_clean'] = data_vn['text_clean'].apply(lambda x: x.replace('khong thu vi', 'không thú vị'))\n",
    "data_vn['text_clean'] = data_vn['text_clean'].apply(lambda x: x.replace('noi dung khong phu hop voi thuc tien', 'nội dung không phù hợp với thực tiễn'))\n",
    "\n",
    "data_vn['text_clean'] = data_vn['text_clean'].apply(lambda x: re.sub(r'([a-z])\\1+', lambda y:y.group(1), x))"
   ]
  },
  {
   "cell_type": "code",
   "execution_count": 39,
   "id": "7e07d97d",
   "metadata": {},
   "outputs": [],
   "source": [
    "# def replace_word(text):\n",
    "#     text = text.apply(lambda x: x.replace('từng thích', 'từng_thích'))\n",
    "#     text = text.apply(lambda x: x.replace('thấy thích', 'thấy_thích'))\n",
    "#     text = text.apply(lambda x: x.replace('chỉ nên', 'chỉ_nên'))\n",
    "#     text = text.apply(lambda x: x.replace('không hay', 'không_hay'))\n",
    "#     text = text.apply(lambda x: x.replace('khá hay', 'khá_hay'))\n",
    "#     text = text.apply(lambda x: x.replace('quá hay', 'quá_hay'))\n",
    "#     text = text.apply(lambda x: x.replace('hay quá', 'hay_quá'))\n",
    "#     text = text.apply(lambda x: x.replace('cực hay', 'cực_hay'))\n",
    "#     text = text.apply(lambda x: x.replace('hay cực', 'hay_cực'))\n",
    "#     text = text.apply(lambda x: x.replace('thấy hay', 'thấy_hay'))\n",
    "#     text = text.apply(lambda x: x.replace('hay ghê', 'hay_ghê'))\n",
    "#     text = text.apply(lambda x: x.replace('rất hay', 'rất_hay'))\n",
    "#     text = text.apply(lambda x: x.replace('hay lắm', 'hay_lắm'))\n",
    "#     text = text.apply(lambda x: x.replace('siêu hay', 'siêu_hay'))\n",
    "#     text = text.apply(lambda x: x.replace(' highly recommend ', 'rất_hay'))\n",
    "#     text = text.apply(lambda x: x.replace('highly recommended', 'rất_hay'))\n",
    "    \n",
    "    \n",
    "#     text = text.apply(lambda x: x.replace('dễ hiểu', 'dễ_hiểu'))\n",
    "#     text = text.apply(lambda x: x.replace('dễ đọc', 'dễ_đọc'))\n",
    "#     text = text.apply(lambda x: x.replace('dễ nhớ', 'dễ_nhớ'))\n",
    "#     text = text.apply(lambda x: x.replace('dở dang', 'dở_dang'))\n",
    "#     text = text.apply(lambda x: x.replace('dang dở', 'dang_dở'))\n",
    "#     return text"
   ]
  },
  {
   "cell_type": "code",
   "execution_count": 42,
   "id": "e9c18914",
   "metadata": {},
   "outputs": [
    {
     "name": "stdout",
     "output_type": "stream",
     "text": [
      "một dễ đọc hãy cố_gắng tận_dụng đam_mê\n",
      "rất\n",
      "dở\n",
      "rất rất đẹp dễ đọc\n"
     ]
    }
   ],
   "source": [
    "text_new = pd.Series(['một cuốn sách nhẹ nhàng dễ đọc hãy cố gắng để tận dụng thời gian vào những niềm đam mê',\n",
    "                      'tác phẩm rất hay','dang dở', 'rất hay, rất đẹp và dễ đọc'])\n",
    "\n",
    "for text_1 in text_new:\n",
    "#     text_2 = replace_word(pd.Series(text_1)).values[0]\n",
    "    text_2 = process_text(text_1 , emoji_dict, teen_dict, wrong_lst)\n",
    "    text_2 = convert_unicode(text_2)\n",
    "\n",
    "    text_2 = process_postag_thesea(text_2)\n",
    "    print(text_2)"
   ]
  },
  {
   "cell_type": "code",
   "execution_count": null,
   "id": "4b6dd394",
   "metadata": {},
   "outputs": [],
   "source": [
    "# Đọc file ten_tac_pham\n",
    "file = open('data/ten_tac_pham.txt', 'r', encoding=\"utf8\")\n",
    "name_of_books = file.read().split('\\n')\n",
    "file.close()"
   ]
  },
  {
   "cell_type": "code",
   "execution_count": null,
   "id": "727a88a3",
   "metadata": {},
   "outputs": [],
   "source": [
    "# Thay tên tác phẩm bằng khoảng trắng\n",
    "for name in name_of_books:\n",
    "    for i in range(data_vn.shape[0]):\n",
    "        if name in data_vn['text_clean'][i]:\n",
    "            data_vn['text_clean'][i] = data_vn['text_clean'][i].replace(name, '')\n",
    "        else:\n",
    "            continue"
   ]
  },
  {
   "cell_type": "code",
   "execution_count": null,
   "id": "62654dce",
   "metadata": {},
   "outputs": [],
   "source": [
    "# Đọc file ten_tac_gia\n",
    "file = open('data/ten_tac_gia.txt', 'r', encoding=\"utf8\")\n",
    "name_of_authors = file.read().split('\\n')\n",
    "file.close()"
   ]
  },
  {
   "cell_type": "code",
   "execution_count": null,
   "id": "856a3911",
   "metadata": {},
   "outputs": [],
   "source": [
    "# Thay tên tác giả bằng khoảng trắng\n",
    "for name in name_of_authors:\n",
    "    for i in range(data_vn.shape[0]):\n",
    "        if name in data_vn['text_clean'][i]:\n",
    "            data_vn['text_clean'][i] = data_vn['text_clean'][i].replace(name, '')\n",
    "        else:\n",
    "            continue"
   ]
  },
  {
   "cell_type": "code",
   "execution_count": null,
   "id": "f65e68d4",
   "metadata": {},
   "outputs": [],
   "source": [
    "# Bỏ các url\n",
    "for i in range(data_vn.shape[0]):\n",
    "    if 'https://' in data_vn['text_clean'][i]:\n",
    "        data_vn['text_clean'][i] = re.sub('http[s]?://(?:[a-zA-Z]|[0-9]|[$-_@.&+]|[!*\\(\\),]|(?:%[0-9a-fA-F][0-9a-fA-F]))+', '', data_vn['text_clean'][i], flags=re.MULTILINE)   \n",
    "    else:\n",
    "        continue\n",
    "        \n",
    "\n",
    "for i in range(data_vn.shape[0]):\n",
    "    if 'http://' in data_vn['text_clean'][i]:\n",
    "        data_vn['text_clean'][i] = re.sub('http://(?:[a-zA-Z]|[0-9]|[$-_@.&+]|[!*\\(\\),]|(?:%[0-9a-fA-F][0-9a-fA-F]))+', '', data_vn['text_clean'][i], flags=re.MULTILINE)   \n",
    "    else:\n",
    "        continue\n",
    "\n",
    "for i in range(data_vn.shape[0]):\n",
    "    if 'htps://' in data_vn['text_clean'][i]:\n",
    "        data_vn['text_clean'][i] = re.sub('htps://(?:[a-zA-Z]|[0-9]|[$-_@.&+]|[!*\\(\\),]|(?:%[0-9a-fA-F][0-9a-fA-F]))+', '', data_vn['text_clean'][i], flags=re.MULTILINE)   \n",
    "    else:\n",
    "        continue"
   ]
  },
  {
   "cell_type": "code",
   "execution_count": null,
   "id": "b17badce",
   "metadata": {},
   "outputs": [],
   "source": [
    "# Bỏ các trang web có đuôi .com, .vn hay .com.vn\n",
    "for text in data_vn['text_clean']:\n",
    "    if '.com' in text or '.vn' in text or '.com.vn' in text:\n",
    "        re.sub('([a-z]+\\.vn | [a-z]+\\.com\\.vn | [a-z]+\\.com)', '', text)\n",
    "    else:\n",
    "        continue"
   ]
  },
  {
   "cell_type": "code",
   "execution_count": null,
   "id": "339e9081",
   "metadata": {},
   "outputs": [],
   "source": [
    "# data_vn['text_clean'] = replace_word(data_vn['text_clean'])"
   ]
  },
  {
   "cell_type": "code",
   "execution_count": null,
   "id": "57c1c73c",
   "metadata": {},
   "outputs": [],
   "source": [
    "i = 0\n",
    "for comment in data_vn['text_clean']:\n",
    "    document = process_text(comment, emoji_dict, teen_dict, wrong_lst)\n",
    "    document = convert_unicode(document)\n",
    "    document = process_postag_thesea(document)\n",
    "    document = replace_word(pd.Series(document)).values[0]\n",
    "    document = remove_stopword(document,stopwords_lst)\n",
    "    data_vn['text_clean'][i] = document\n",
    "    i = i + 1"
   ]
  },
  {
   "cell_type": "code",
   "execution_count": null,
   "id": "d9923e55",
   "metadata": {},
   "outputs": [],
   "source": [
    "for i in range(data_vn['text_clean'].shape[0]):\n",
    "    for word in data_vn['text_clean'][i].split(' '):\n",
    "        if word == '':\n",
    "            continue\n",
    "        elif detect(word) == 'vi':\n",
    "            continue\n",
    "        else:\n",
    "            data_vn['text_clean'][i] = data_vn['text_clean'][i].replace(word, '')"
   ]
  },
  {
   "cell_type": "code",
   "execution_count": null,
   "id": "b9e48ff9",
   "metadata": {},
   "outputs": [],
   "source": [
    "wrong = re.findall('\\w+\\_\\s{1}', ' '.join(data_vn['text_clean']))\n",
    "unique = []\n",
    "for word in wrong:\n",
    "    if word not in unique:\n",
    "        unique.append(word)\n",
    "    else:\n",
    "        continue"
   ]
  },
  {
   "cell_type": "code",
   "execution_count": null,
   "id": "f39fcbe4",
   "metadata": {},
   "outputs": [],
   "source": [
    "wrong_1 = re.findall('\\s{1}\\_\\w+', ' '.join(data_vn['text_clean']))\n",
    "unique_1 = []\n",
    "for word in wrong_1:\n",
    "    if word not in unique_1:\n",
    "        unique_1.append(word)\n",
    "    else:\n",
    "        continue"
   ]
  },
  {
   "cell_type": "code",
   "execution_count": null,
   "id": "e9af9abf",
   "metadata": {},
   "outputs": [],
   "source": [
    "for word in unique:\n",
    "    data_vn['text_clean'] = data_vn['text_clean'].apply(lambda x: x.replace(word, ''))\n",
    "    \n",
    "for word in unique_1:\n",
    "    data_vn['text_clean'] = data_vn['text_clean'].apply(lambda x: x.replace(word, ''))"
   ]
  },
  {
   "cell_type": "code",
   "execution_count": null,
   "id": "47e01e67",
   "metadata": {},
   "outputs": [],
   "source": [
    "# Chuyển những từ ghép chưa đúng\n",
    "data_vn['text_clean'] = data_vn['text_clean'].apply(lambda x: x.replace(' c_giả', ''))\n",
    "data_vn['text_clean'] = data_vn['text_clean'].apply(lambda x: x.replace('củavàđối', ''))\n",
    "data_vn['text_clean'] = data_vn['text_clean'].apply(lambda x: x.replace('sáchay', ''))\n",
    "data_vn['text_clean'] = data_vn['text_clean'].apply(lambda x: x.replace('gp', ''))\n",
    "data_vn['text_clean'] = data_vn['text_clean'].apply(lambda x: x.replace('bok', ''))\n",
    "data_vn['text_clean'] = data_vn['text_clean'].apply(lambda x: x.replace('sasas tácgiảviệtnamhaynhất tìmìnhtrongthếgiới', ''))\n",
    "data_vn['text_clean'] = data_vn['text_clean'].apply(lambda x: x.replace('tr_tuệ', ''))\n",
    "data_vn['text_clean'] = data_vn['text_clean'].apply(lambda x: x.replace('nhật_k', ''))\n",
    "data_vn['text_clean'] = data_vn['text_clean'].apply(lambda x: x.replace('cổ_tch', ''))\n",
    "\n",
    "# data_vn['text_clean'] = data_vn['text_clean'].apply(lambda x: x.replace('khônghay', 'không_hay'))\n",
    "# data_vn['text_clean'] = data_vn['text_clean'].apply(lambda x: x.replace('kháhay', 'khá_hay'))\n",
    "# data_vn['text_clean'] = data_vn['text_clean'].apply(lambda x: x.replace('quáhay', 'quá_hay'))\n",
    "# data_vn['text_clean'] = data_vn['text_clean'].apply(lambda x: x.replace('hayquá', 'hay_quá'))\n",
    "# data_vn['text_clean'] = data_vn['text_clean'].apply(lambda x: x.replace('cựchay', 'cực_hay'))\n",
    "# data_vn['text_clean'] = data_vn['text_clean'].apply(lambda x: x.replace('haycực', 'hay_cực'))\n",
    "# data_vn['text_clean'] = data_vn['text_clean'].apply(lambda x: x.replace('thấyhay', 'thấy_hay'))\n",
    "# data_vn['text_clean'] = data_vn['text_clean'].apply(lambda x: x.replace('hayghê', 'hay_ghê'))\n",
    "# data_vn['text_clean'] = data_vn['text_clean'].apply(lambda x: x.replace('rấthay', 'rất_hay'))"
   ]
  },
  {
   "cell_type": "code",
   "execution_count": null,
   "id": "5c19ebed",
   "metadata": {},
   "outputs": [],
   "source": [
    "for i in range(data_vn['text_clean'].shape[0]):\n",
    "    data_vn['text_clean'][i] = re.sub(r'\\s+', ' ', data_vn['text_clean'][i])"
   ]
  },
  {
   "cell_type": "code",
   "execution_count": null,
   "id": "b74b0189",
   "metadata": {},
   "outputs": [],
   "source": [
    "def unique(x):\n",
    "    list_words = []\n",
    "    x = x.split(' ')\n",
    "    for word in x:\n",
    "        if word not in list_words:\n",
    "            list_words.append(word)\n",
    "    return list_words"
   ]
  },
  {
   "cell_type": "code",
   "execution_count": null,
   "id": "9a89bdf6",
   "metadata": {},
   "outputs": [],
   "source": [
    "unique_words = unique(' '.join(data_vn['text_clean']))\n",
    "len(unique_words)"
   ]
  },
  {
   "cell_type": "code",
   "execution_count": null,
   "id": "d0c846c9",
   "metadata": {},
   "outputs": [],
   "source": [
    "# Tạo dictionary chứa các từ duy nhất và số lượng của từ đó\n",
    "dic = {}\n",
    "for word in unique_words:\n",
    "    dic[word] = ' '.join(data_vn['text_clean']).count(word)"
   ]
  },
  {
   "cell_type": "code",
   "execution_count": null,
   "id": "1d9a25e0",
   "metadata": {},
   "outputs": [],
   "source": [
    "# Tạo dataframe \n",
    "dictionary = {'Word' : list(dic.keys()), 'Count': list(dic.values())}\n",
    "df_word = pd.DataFrame(dictionary).sort_values(by = ['Count'], ascending = False)\n",
    "df_word.head()"
   ]
  },
  {
   "cell_type": "code",
   "execution_count": null,
   "id": "60debe64",
   "metadata": {},
   "outputs": [],
   "source": [
    "# Tìm các từ xuất hiện nhiều hơn 80 lần\n",
    "df_word[(df_word.Count > 80)].Word.values[1:]"
   ]
  },
  {
   "cell_type": "code",
   "execution_count": null,
   "id": "d5da754e",
   "metadata": {
    "scrolled": true
   },
   "outputs": [],
   "source": [
    "## Tạo danh sách các từ ghép\n",
    "re.findall('\\w+\\_\\w+',' '.join(df_word[(df_word.Count > 80)].Word.values[1:].tolist()))"
   ]
  },
  {
   "cell_type": "code",
   "execution_count": null,
   "id": "f273aa6b",
   "metadata": {},
   "outputs": [],
   "source": [
    "lst_word_over_80 = df_word[(df_word.Count > 80) & (df_word.Word != 'không_thích') & (df_word.Word != 'không_quá')\n",
    "                           & (df_word.Word != 'không_hiểu') & (df_word.Word != 'hấp_dẫn') & (df_word.Word != 'thú_vị')\n",
    "                           & (df_word.Word != 'ý_nghĩa') & (df_word.Word != 'bình_thường') & (df_word.Word != 'dễ thương')\n",
    "                           & (df_word.Word != 'xuất_sắc') & (df_word.Word != 'thất_vọng') & (df_word.Word != 'rất_hay')\n",
    "                           & (df_word.Word != 'tuyệt_vời') & (df_word.Word != 'giản_dị') & (df_word.Word != 'không_quá')\n",
    "                           & (df_word.Word != 'không_hề') & (df_word.Word != 'cuốn_hút') & (df_word.Word != 'đồng_cảm')\n",
    "                           & (df_word.Word != 'dễ_đọc') & (df_word.Word != 'hài_hước') & (df_word.Word != 'không_hề')\n",
    "                           & (df_word.Word != 'chân_thực') & (df_word.Word != 'lôi_cuốn') & (df_word.Word != 'đau_đớn')\n",
    "                           & (df_word.Word != 'mới_mẻ') & (df_word.Word != 'khám_phá') & (df_word.Word != 'không_hay')\n",
    "                           & (df_word.Word != 'không_đọc') & (df_word.Word != 'không_hợp') & (df_word.Word != 'đặc_sắc')\n",
    "                           & (df_word.Word != 'thành_công') & (df_word.Word != 'chân_thật') & (df_word.Word != 'mộc_mạc')\n",
    "                           & (df_word.Word != 'tốt_đẹp') & (df_word.Word != 'khách_quan') & (df_word.Word != 'dễ_dàng')\n",
    "                           & (df_word.Word != 'đồng ý') & (df_word.Word != 'tổn_thương') & (df_word.Word != 'học_hỏi')\n",
    "                           & (df_word.Word != 'khó_chịu') & (df_word.Word != 'thuyết_phục') & (df_word.Word != 'dễ_hiểu')\n",
    "                           & (df_word.Word != 'lặp') & (df_word.Word != 'dở') & (df_word.Word != 'chán') & (df_word.Word != 'chê')\n",
    "                           & (df_word.Word != 'tạm') & (df_word.Word != 'phê') & (df_word.Word != 'hại') & (df_word.Word != 'tệ')\n",
    "                           & (df_word.Word != 'đỡ') & (df_word.Word != 'thèm') & (df_word.Word != 'oải')].Word.values[1:].tolist()"
   ]
  },
  {
   "cell_type": "code",
   "execution_count": null,
   "id": "2a0de12d",
   "metadata": {},
   "outputs": [],
   "source": [
    "stopwords_lst = stopwords_lst + lst_word_over_80"
   ]
  },
  {
   "cell_type": "code",
   "execution_count": null,
   "id": "2cd099c9",
   "metadata": {},
   "outputs": [],
   "source": [
    "from wordcloud import WordCloud, STOPWORDS"
   ]
  },
  {
   "cell_type": "markdown",
   "id": "740709b1",
   "metadata": {},
   "source": [
    "<span style = 'color : red'>**Tích cực**</span>"
   ]
  },
  {
   "cell_type": "code",
   "execution_count": null,
   "id": "3d250274",
   "metadata": {},
   "outputs": [],
   "source": [
    "tich_cuc = data_vn.loc[data_vn['evaluate'] == 'tích cực'].text_clean\n",
    "tich_cuc = ' '.join(tich_cuc)"
   ]
  },
  {
   "cell_type": "code",
   "execution_count": null,
   "id": "82c14377",
   "metadata": {},
   "outputs": [],
   "source": [
    "wc = WordCloud(\n",
    "    background_color='black',stopwords = stopwords_lst)\n",
    "wc.generate(tich_cuc)\n",
    "plt.figure(figsize=(15, 20))\n",
    "plt.imshow(wc, interpolation='bilinear')\n",
    "plt.axis('off')\n",
    "plt.show()"
   ]
  },
  {
   "cell_type": "markdown",
   "id": "a78dfe6d",
   "metadata": {},
   "source": [
    "<span style = 'color : red'>**Tiêu cực**</span>"
   ]
  },
  {
   "cell_type": "code",
   "execution_count": null,
   "id": "5b101417",
   "metadata": {},
   "outputs": [],
   "source": [
    "tieu_cuc = data_vn.loc[data_vn['evaluate'] == 'tiêu cực'].text_clean\n",
    "tieu_cuc = ' '.join(tieu_cuc)"
   ]
  },
  {
   "cell_type": "code",
   "execution_count": null,
   "id": "90b614b0",
   "metadata": {},
   "outputs": [],
   "source": [
    "wc = WordCloud(\n",
    "    background_color='black',stopwords = stopwords_lst)\n",
    "wc.generate(tieu_cuc)\n",
    "plt.figure(figsize=(15, 20))\n",
    "plt.imshow(wc, interpolation='bilinear')\n",
    "plt.axis('off')\n",
    "plt.show()"
   ]
  },
  {
   "cell_type": "markdown",
   "id": "7721c492",
   "metadata": {},
   "source": [
    "<span style = 'color : red'>**Bình thường**</span>"
   ]
  },
  {
   "cell_type": "code",
   "execution_count": null,
   "id": "d99d53a8",
   "metadata": {},
   "outputs": [],
   "source": [
    "binh_thuong = data_vn.loc[data_vn['evaluate'] == 'trung tính'].text_clean\n",
    "binh_thuong = ' '.join(binh_thuong)"
   ]
  },
  {
   "cell_type": "code",
   "execution_count": null,
   "id": "3f877d14",
   "metadata": {},
   "outputs": [],
   "source": [
    "wc = WordCloud(\n",
    "    background_color='black',stopwords = stopwords_lst)\n",
    "wc.generate(binh_thuong)\n",
    "plt.figure(figsize=(15, 20))\n",
    "plt.imshow(wc, interpolation='bilinear')\n",
    "plt.axis('off')\n",
    "plt.show()"
   ]
  },
  {
   "cell_type": "code",
   "execution_count": null,
   "id": "7acd1d14",
   "metadata": {},
   "outputs": [],
   "source": [
    "data_vn.shape"
   ]
  },
  {
   "cell_type": "code",
   "execution_count": null,
   "id": "e264fb58",
   "metadata": {},
   "outputs": [],
   "source": [
    "for i in range(data_vn.shape[0]):\n",
    "    if len(data_vn.text_clean[i])== 0:\n",
    "        data_vn = data_vn.drop(i)"
   ]
  },
  {
   "cell_type": "code",
   "execution_count": null,
   "id": "8e020b8e",
   "metadata": {},
   "outputs": [],
   "source": [
    "data_vn = data_vn.reset_index().drop(columns=['index'])\n",
    "data_vn.shape"
   ]
  },
  {
   "cell_type": "markdown",
   "id": "e64c504b",
   "metadata": {},
   "source": [
    "<span style = 'color : red; font-size : 35px'>**Xây dựng model**</span>"
   ]
  },
  {
   "cell_type": "code",
   "execution_count": null,
   "id": "d73dad1b",
   "metadata": {},
   "outputs": [],
   "source": [
    "from sklearn.feature_extraction.text import CountVectorizer, TfidfTransformer, TfidfVectorizer\n",
    "from sklearn import feature_selection\n",
    "from sklearn.model_selection import train_test_split"
   ]
  },
  {
   "cell_type": "code",
   "execution_count": null,
   "id": "e6c686e0",
   "metadata": {},
   "outputs": [],
   "source": [
    "tf = TfidfVectorizer(stop_words = stopwords_lst, min_df = 5, max_features =3000)\n",
    "tf_transformed = tf.fit_transform(data_vn['text_clean'])\n",
    "tf_data = pd.DataFrame(tf_transformed.toarray(), columns = tf.get_feature_names())\n",
    "data_new = pd.concat([tf_data, data_vn[['evaluate']]], axis = 1)"
   ]
  },
  {
   "cell_type": "code",
   "execution_count": null,
   "id": "c669b3b1",
   "metadata": {},
   "outputs": [],
   "source": [
    "data_new['evaluate'] = data_new['evaluate'].map(lambda x: 0  if x == 'tích cực'  else (1 if x == 'trung tính' else 2)) "
   ]
  },
  {
   "cell_type": "code",
   "execution_count": null,
   "id": "fccea49d",
   "metadata": {},
   "outputs": [],
   "source": [
    "X = data_new.drop(columns = ['evaluate'])\n",
    "Y = data_new['evaluate']"
   ]
  },
  {
   "cell_type": "code",
   "execution_count": null,
   "id": "3a727b03",
   "metadata": {},
   "outputs": [],
   "source": [
    "from sklearn.model_selection import train_test_split\n",
    "X_train, X_test, Y_train, Y_test = train_test_split(X, Y, random_state = 41)"
   ]
  },
  {
   "cell_type": "code",
   "execution_count": null,
   "id": "ca4b27ce",
   "metadata": {},
   "outputs": [],
   "source": [
    "from sklearn.linear_model import LogisticRegression, SGDClassifier\n",
    "from sklearn.naive_bayes import MultinomialNB,ComplementNB\n",
    "from sklearn.svm import SVC, LinearSVC\n",
    "from sklearn.tree import DecisionTreeClassifier\n",
    "from sklearn.ensemble import RandomForestClassifier\n",
    "from sklearn.neighbors import KNeighborsClassifier\n",
    "import datetime\n",
    "from sklearn.metrics import accuracy_score\n",
    "import math\n",
    "from sklearn.ensemble import AdaBoostClassifier\n",
    "from xgboost import XGBClassifier"
   ]
  },
  {
   "cell_type": "code",
   "execution_count": null,
   "id": "f4b75f74",
   "metadata": {},
   "outputs": [],
   "source": [
    "# # Choose k for KNN\n",
    "# list_k = []\n",
    "# list_acc = []\n",
    "\n",
    "# for K_value in range(2, 11):\n",
    "\n",
    "#     list_k.append(K_value)\n",
    "#     neigh = KNeighborsClassifier(n_neighbors = K_value)\n",
    "#     neigh.fit(X_train, Y_train)\n",
    "#     Y_pred = neigh.predict(X_test)\n",
    "#     acc = accuracy_score(Y_test, Y_pred)*100\n",
    "#     train_knn = neigh.score(X_train, Y_train)\n",
    "#     test_knn = neigh.score(X_test, Y_test)\n",
    "    \n",
    "#     list_acc.append(acc)\n",
    "#     print('Accuracy is', accuracy_score(Y_test, Y_pred)*100, \"% for K-Value\", K_value)\n",
    "#     print('Difference train vs test: ', abs(train_knn-test_knn),'\\n')\n",
    "\n",
    "# vi_tri = list_acc.index(max(list_acc))\n",
    "# k = list_k[vi_tri]"
   ]
  },
  {
   "cell_type": "code",
   "execution_count": null,
   "id": "89b78c42",
   "metadata": {},
   "outputs": [],
   "source": [
    "# def model_comparison(x_train, x_test, y_train, y_test):\n",
    "#     models = [LogisticRegression(),\n",
    "#              MultinomialNB(),\n",
    "#              SVC(kernel = 'linear'),\n",
    "#              LinearSVC(),\n",
    "#              KNeighborsClassifier(n_neighbors = 2), \n",
    "#              RandomForestClassifier(n_estimators=100),\n",
    "#              DecisionTreeClassifier(),\n",
    "#              SGDClassifier(),\n",
    "#              AdaBoostClassifier(),\n",
    "#              XGBClassifier()\n",
    "#              ]\n",
    "\n",
    "#     CV = 10\n",
    "#     entries = []\n",
    "#     i=0\n",
    "#     for model in models:\n",
    "#         scores_train = []\n",
    "#         scores_test = []\n",
    "#         acc_scores = []\n",
    "#         times = []\n",
    "#         abs_scores = []\n",
    "#         for j in range(CV):\n",
    "#             t1 = datetime.datetime.now()\n",
    "#             model_name = model.__class__.__name__\n",
    "#             model.fit(X_train,Y_train)\n",
    "#             t2 = datetime.datetime.now()    \n",
    "#             d = round((t2 - t1).microseconds/1000,1) # => miliseconds\n",
    "#             score_train = model.score(x_train,y_train)\n",
    "#             score_test = model.score(x_test,y_test)\n",
    "#             Y_pred = model.predict(x_test)\n",
    "#             abs_score = abs(score_train - score_test)\n",
    "#             acc_score = accuracy_score(Y_pred, y_test)\n",
    "\n",
    "#             scores_train.append(score_train)          \n",
    "#             scores_test.append(score_test)\n",
    "#             acc_scores.append(acc_score)\n",
    "#             abs_scores.append(abs_score)\n",
    "#             times.append(d) \n",
    "\n",
    "#         entries.append([model_name, np.array(scores_train).mean(), \n",
    "#                         np.array(scores_test).mean(), np.array(acc_scores).mean(), np.array(abs_scores).mean(), \n",
    "#                         np.array(times).mean()])\n",
    "#         i += 1\n",
    "#     cv_df = pd.DataFrame(entries, \n",
    "#                          columns=['model_name', 'score_train_mean', \n",
    "#                                   'score_test_mean', 'acc_score_mean','abs|score|', 'time_mean'])\n",
    "#     return cv_df"
   ]
  },
  {
   "cell_type": "markdown",
   "id": "9ed85e79",
   "metadata": {},
   "source": [
    " - Em chọn LogisticRegression do nó cho ra kết quả tốt nhất, thời gian cũng không quá lâu"
   ]
  },
  {
   "cell_type": "code",
   "execution_count": null,
   "id": "2d338352",
   "metadata": {},
   "outputs": [],
   "source": [
    "# model_comparison(X_train, X_test, Y_train, Y_test)"
   ]
  },
  {
   "cell_type": "markdown",
   "id": "151b56eb",
   "metadata": {},
   "source": [
    "**Nhận xét**: \n",
    " - MultinomialNB là ổn nhất. Độ chênh lệch giữa train là test là gần 9%, thời gian chạy thì là thấp nhất. Độ chính xác chỉ thua LogisticRegression, tuy vậy kết quả vẫn còn thấp. Chưa sử dụng được"
   ]
  },
  {
   "cell_type": "code",
   "execution_count": null,
   "id": "12e4856c",
   "metadata": {},
   "outputs": [],
   "source": [
    "# model = LogisticRegression()\n",
    "# model.fit(X_train, Y_train)"
   ]
  },
  {
   "cell_type": "code",
   "execution_count": null,
   "id": "42b907d2",
   "metadata": {},
   "outputs": [],
   "source": [
    "# Y_pred = model.predict(X_test)"
   ]
  },
  {
   "cell_type": "code",
   "execution_count": null,
   "id": "ad15e7b3",
   "metadata": {},
   "outputs": [],
   "source": [
    "# acc = accuracy_score(Y_pred, Y_test)\n",
    "# acc"
   ]
  },
  {
   "cell_type": "code",
   "execution_count": null,
   "id": "70fd44f1",
   "metadata": {},
   "outputs": [],
   "source": [
    "from sklearn.metrics import accuracy_score, confusion_matrix, classification_report"
   ]
  },
  {
   "cell_type": "code",
   "execution_count": null,
   "id": "221f453d",
   "metadata": {},
   "outputs": [],
   "source": [
    "# classes = np.unique(Y_test)\n",
    "# Y_test_array = pd.get_dummies(Y_test, drop_first=False).values\n",
    "    \n",
    "# ## Accuracy, Precision, Recall\n",
    "# accuracy = accuracy_score(Y_test,Y_pred)\n",
    "# # auc = roc_auc_score(Y_test, predicted_prob, \n",
    "# #                             multi_class=\"ovr\")\n",
    "# print(\"Accuracy:\",  round(accuracy,2))\n",
    "# # print(\"Auc:\", round(auc,2))\n",
    "# print(\"Detail:\")\n",
    "# print(classification_report(Y_test, Y_pred))\n",
    "    \n",
    "# ## Plot confusion matrix\n",
    "# cm = confusion_matrix(Y_test, Y_pred)\n",
    "# fig, ax = plt.subplots()\n",
    "# sb.heatmap(cm, annot=True, fmt='d', ax=ax, cmap=plt.cm.Blues, \n",
    "#             cbar=False)\n",
    "# ax.set(xlabel=\"Pred\", ylabel=\"True\", xticklabels=classes, \n",
    "#        yticklabels=classes, title=\"Confusion matrix\")\n",
    "# plt.yticks(rotation=0)\n",
    "# plt.show()"
   ]
  },
  {
   "cell_type": "markdown",
   "id": "13f62f1c",
   "metadata": {},
   "source": [
    "**Nhận xét**: \n",
    " - Nhìn vào confusion matrix em thấy model bị lệch đi nhiều, khi số Positive dự đoán đúng rất cao. \n",
    " - Số lượng Neutral và Negative được đoán đúng thấp, số lượng bị đoán nhầm rất nhiều. Độ chính xác thấp"
   ]
  },
  {
   "cell_type": "markdown",
   "id": "fd469929",
   "metadata": {},
   "source": [
    "## Oversampling"
   ]
  },
  {
   "cell_type": "code",
   "execution_count": null,
   "id": "7f25a854",
   "metadata": {},
   "outputs": [],
   "source": [
    "from collections import Counter\n",
    "from imblearn.over_sampling import SMOTE, ADASYN, RandomOverSampler\n",
    "from imblearn.pipeline import Pipeline"
   ]
  },
  {
   "cell_type": "code",
   "execution_count": null,
   "id": "0f5d7eb7",
   "metadata": {},
   "outputs": [],
   "source": [
    "# smote = SMOTE()\n",
    "# X_S_train, Y_S_train = smote.fit_resample(X_train, Y_train)\n",
    "# print(sorted(Counter(Y_S_train).items()))"
   ]
  },
  {
   "cell_type": "code",
   "execution_count": null,
   "id": "2c57ff31",
   "metadata": {},
   "outputs": [],
   "source": [
    "# model_comparison(X_S_train, X_test, Y_S_train, Y_test)"
   ]
  },
  {
   "cell_type": "markdown",
   "id": "edd0e918",
   "metadata": {},
   "source": [
    "**Nhận xét**:\n",
    " - Sau khi cân bằng mẫu thì em cũng tạo ra một bảng so sánh của các model sau 10 lần chạy thì em thấy LogisticRegression có độ chính xác cao nhất thời gian chạy cũng chỉ chậm hơn Multinomial và KNN. Dù độ chênh lệch giữa train và test là gần 12%. Nhưng do độ chính xác là lớn nhất nên em sẽ sử dụng Logistic Regression để xây dựng mô hình Semi-Supervised Learning"
   ]
  },
  {
   "cell_type": "code",
   "execution_count": null,
   "id": "8554a782",
   "metadata": {},
   "outputs": [],
   "source": [
    "# # model1 = LogisticRegression(multi_class='multinomial', solver='lbfgs', penalty='l2', C=1)\n",
    "# model1 = LogisticRegression()\n",
    "# model1.fit(X_S_train, Y_S_train)"
   ]
  },
  {
   "cell_type": "code",
   "execution_count": null,
   "id": "4a7df868",
   "metadata": {},
   "outputs": [],
   "source": [
    "# Y_pred_1 = model1.predict(X_test)"
   ]
  },
  {
   "cell_type": "code",
   "execution_count": null,
   "id": "a68d1319",
   "metadata": {},
   "outputs": [],
   "source": [
    "# classes = np.unique(Y_test)\n",
    "# Y_test_array = pd.get_dummies(Y_test, drop_first=False).values\n",
    "    \n",
    "# ## Accuracy, Precision, Recall\n",
    "# accuracy = accuracy_score(Y_test,Y_pred_1)\n",
    "# # auc = roc_auc_score(Y_test, predicted_prob, \n",
    "# #                             multi_class=\"ovr\")\n",
    "# print(\"Accuracy:\",  round(accuracy,2))\n",
    "# # print(\"Auc:\", round(auc,2))\n",
    "# print(\"Detail:\")\n",
    "# print(classification_report(Y_test, Y_pred_1))\n",
    "    \n",
    "# ## Plot confusion matrix\n",
    "# cm = confusion_matrix(Y_test, Y_pred_1)\n",
    "# fig, ax = plt.subplots()\n",
    "# sb.heatmap(cm, annot=True, fmt='d', ax=ax, cmap=plt.cm.Blues, \n",
    "#             cbar=False)\n",
    "# ax.set(xlabel=\"Pred\", ylabel=\"True\", xticklabels=classes, \n",
    "#        yticklabels=classes, title=\"Confusion matrix\")\n",
    "# plt.yticks(rotation=0)\n",
    "# plt.show()"
   ]
  },
  {
   "cell_type": "markdown",
   "id": "c971ddd8",
   "metadata": {},
   "source": [
    "**Nhận xét**:\n",
    " - Sau khi sử dụng oversampling thì số lượng dự đoán lệch về Positive đã giảm đi nhiều. Số lượng dự đoán đúng Neutral và Negative cũng tăng lên, tuy nhiên vẫn có bị đoán nhầm nhiều. Độ chính xác vẫn thấp"
   ]
  },
  {
   "cell_type": "markdown",
   "id": "23f4962e",
   "metadata": {},
   "source": [
    "Em sử dụng Hyper-parameterđể chọn ra mô hình Logistic với tham số tốt nhất để áp dụng vào Semi-Supervised Learning"
   ]
  },
  {
   "cell_type": "markdown",
   "id": "bd6b4e22",
   "metadata": {},
   "source": [
    "## Tuning Hyper-parameter"
   ]
  },
  {
   "cell_type": "code",
   "execution_count": null,
   "id": "5104469c",
   "metadata": {},
   "outputs": [],
   "source": [
    "# from sklearn.model_selection import GridSearchCV, KFold\n",
    "\n",
    "# logistic_param =  {\n",
    "#     'C': [0.001, 0.01, 0.1, 1],\n",
    "#     'penalty': ['l1', 'l2'],\n",
    "#     'solver': ['newton-cg', 'lbfgs', 'liblinear', 'sag', 'saga'],\n",
    "#     'multi_class': ['multinomial', 'ovg']\n",
    "# }\n",
    "# kfold = KFold(n_splits=5,shuffle=True,random_state=42)"
   ]
  },
  {
   "cell_type": "code",
   "execution_count": null,
   "id": "a24cd8f7",
   "metadata": {},
   "outputs": [],
   "source": [
    "# best_dataset = [('data tf-idf over-sampling', (X_S_train, X_test, Y_S_train, Y_test))]\n",
    "# best_model = [('Logistic Regression', LogisticRegression())]"
   ]
  },
  {
   "cell_type": "code",
   "execution_count": null,
   "id": "2dcd5212",
   "metadata": {},
   "outputs": [],
   "source": [
    "# grid_model_list = []\n",
    "# for model_name, model in best_model:\n",
    "#     model_grid_cv = GridSearchCV(model,logistic_param,cv = kfold)\n",
    "#     grid_model_list.append([model_name,model_grid_cv])"
   ]
  },
  {
   "cell_type": "code",
   "execution_count": null,
   "id": "633ccdeb",
   "metadata": {},
   "outputs": [],
   "source": [
    "# best_model_list = []\n",
    "# for data_name, data in best_dataset:\n",
    "#     X_S_train,X_test,Y_S_train,Y_test = data\n",
    "#     for model_name,model in grid_model_list:\n",
    "#         model.fit(X_train,Y_train)\n",
    "#         best_model_list.append([data_name.split()[1] + '_' + model_name + '_model',model.best_estimator_])"
   ]
  },
  {
   "cell_type": "code",
   "execution_count": null,
   "id": "42ac68fd",
   "metadata": {},
   "outputs": [],
   "source": [
    "# result_df_best = []\n",
    "# for dataset in best_dataset:\n",
    "#     result = run_model(dataset,best_model_list,5)\n",
    "#     result_df_best.append(result)\n",
    "\n",
    "# trial_result = [item for sublist in result_df_best for item in sublist]"
   ]
  },
  {
   "cell_type": "code",
   "execution_count": null,
   "id": "10a180f6",
   "metadata": {},
   "outputs": [],
   "source": [
    "# best_model_list"
   ]
  },
  {
   "cell_type": "markdown",
   "id": "0adbc9c9",
   "metadata": {},
   "source": [
    "<div class=\"alert alert-block alert-info\">\n",
    "<center><span style = 'color : blue; font-size : 25px'>Semi-Supervised Learning</span></center>\n",
    "</div>"
   ]
  },
  {
   "cell_type": "code",
   "execution_count": null,
   "id": "d6fede8d",
   "metadata": {},
   "outputs": [],
   "source": [
    "from numpy import concatenate\n",
    "from sklearn.semi_supervised import LabelPropagation\n",
    "from numpy import concatenate\n",
    "from sklearn.feature_extraction.text import TfidfTransformer\n",
    "\n",
    "import os\n",
    "from sklearn.preprocessing import FunctionTransformer\n",
    "from sklearn.linear_model import SGDClassifier\n",
    "from sklearn.semi_supervised import SelfTrainingClassifier\n",
    "from sklearn.semi_supervised import LabelSpreading\n",
    "from sklearn.metrics import f1_score"
   ]
  },
  {
   "cell_type": "code",
   "execution_count": null,
   "id": "fd0fce6c",
   "metadata": {},
   "outputs": [],
   "source": [
    "# tạo dataframe mới từ data_vn\n",
    "df1 = data_vn[['text_clean','evaluate']]\n",
    "df1['evaluate'] = df1['evaluate'].map(lambda x: 0  if x == 'tích cực'  else (1 if x == 'trung tính' else 2)) "
   ]
  },
  {
   "cell_type": "code",
   "execution_count": null,
   "id": "8160a927",
   "metadata": {},
   "outputs": [],
   "source": [
    "X = df1.drop(columns = ['evaluate'])\n",
    "Y = df1.evaluate"
   ]
  },
  {
   "cell_type": "code",
   "execution_count": null,
   "id": "7b6f245d",
   "metadata": {},
   "outputs": [],
   "source": [
    "X.head()"
   ]
  },
  {
   "cell_type": "code",
   "execution_count": null,
   "id": "56aeb84f",
   "metadata": {},
   "outputs": [],
   "source": [
    "# Chia train,test ngẫu nhiên. Với test = 0.8, train = 0.2\n",
    "X_train_lab, X_test_unlab, Y_train_lab, Y_test_unlab = train_test_split(X, Y, test_size=0.8, random_state=42)"
   ]
  },
  {
   "cell_type": "code",
   "execution_count": null,
   "id": "4f3c1e9e",
   "metadata": {},
   "outputs": [],
   "source": [
    "X_train_lab.head()"
   ]
  },
  {
   "cell_type": "code",
   "execution_count": null,
   "id": "2895aeef",
   "metadata": {},
   "outputs": [],
   "source": [
    "Y_train_lab.head()"
   ]
  },
  {
   "cell_type": "code",
   "execution_count": null,
   "id": "0ba594d7",
   "metadata": {},
   "outputs": [],
   "source": [
    "# Tạo 'không có nhãn' từ Y_test_unlab\n",
    "nolabel = [-1 for _ in range(len(Y_test_unlab))]       # ko có nhãn được gán là -1"
   ]
  },
  {
   "cell_type": "code",
   "execution_count": null,
   "id": "c8290bde",
   "metadata": {},
   "outputs": [],
   "source": [
    "# Tạo bộ dataframe có nhãn (0,1,2)\n",
    "df_label = X_train_lab\n",
    "df_label['evaluate'] = Y_train_lab"
   ]
  },
  {
   "cell_type": "code",
   "execution_count": null,
   "id": "9bd1ea41",
   "metadata": {},
   "outputs": [],
   "source": [
    "# Tạo bộ dataframe ko có nhãn (-1)\n",
    "\n",
    "df_nolabel = X_test_unlab\n",
    "df_nolabel['evaluate'] = nolabel"
   ]
  },
  {
   "cell_type": "code",
   "execution_count": null,
   "id": "786eefb9",
   "metadata": {},
   "outputs": [],
   "source": [
    "df_final = pd.concat([df_label, df_nolabel])\n",
    "df_final = df_final.reset_index().drop(columns = ['index'])"
   ]
  },
  {
   "cell_type": "code",
   "execution_count": null,
   "id": "bcaa0d20",
   "metadata": {},
   "outputs": [],
   "source": [
    "df_final.head()"
   ]
  },
  {
   "cell_type": "code",
   "execution_count": null,
   "id": "ee7516f4",
   "metadata": {
    "scrolled": true
   },
   "outputs": [],
   "source": [
    "df_final.tail()"
   ]
  },
  {
   "cell_type": "code",
   "execution_count": null,
   "id": "710a5b49",
   "metadata": {},
   "outputs": [],
   "source": [
    "# Parameters\n",
    "vectorizer_params = dict(ngram_range=(1, 2), min_df=5, max_df=0.8)\n",
    "logistic_params = dict(multi_class='multinomial', C=1, solver='saga', penalty='l1')\n",
    "SMOTE(random_state=42)\n",
    "# Supervised Pipeline\n",
    "pipeline = Pipeline(\n",
    "    [\n",
    "        (\"vect\", CountVectorizer(**vectorizer_params)),\n",
    "        (\"tfidf\", TfidfTransformer()),\n",
    "        ('oversampler', SMOTE()),\n",
    "        (\"clf\", LogisticRegression(**logistic_params))\n",
    "    ]\n",
    ")\n",
    "# SelfTraining Pipeline\n",
    "st_pipeline = Pipeline(\n",
    "    [\n",
    "        (\"vect\", CountVectorizer(**vectorizer_params)),\n",
    "        (\"tfidf\", TfidfTransformer()),\n",
    "        ('oversampler', SMOTE()),\n",
    "        (\"clf\", SelfTrainingClassifier(LogisticRegression(**logistic_params), verbose=True))\n",
    "    ]\n",
    ")\n",
    "# LabelSpreading Pipeline\n",
    "ls_pipeline = Pipeline(\n",
    "    [\n",
    "        (\"vect\", CountVectorizer(**vectorizer_params)),\n",
    "        (\"tfidf\", TfidfTransformer()),\n",
    "        ('oversampler', SMOTE()),\n",
    "        # LabelSpreading does not support dense matrices\n",
    "        (\"todense\", FunctionTransformer(lambda x: x.todense())),\n",
    "        (\"clf\", LabelSpreading())\n",
    "    ]\n",
    ")\n"
   ]
  },
  {
   "cell_type": "code",
   "execution_count": null,
   "id": "02d86566",
   "metadata": {},
   "outputs": [],
   "source": [
    "def eval_and_print_metrics(clf, X_train, y_train, X_test, y_test):\n",
    "    print(\"Number of training samples:\", len(X_train))\n",
    "    print(\"Unlabeled samples in training set:\", sum(1 for x in y_train if x == -1))\n",
    "    clf.fit(X_train, y_train)\n",
    "    y_pred = clf.predict(X_test)\n",
    "    print(\n",
    "        \"Micro-averaged F1 score on test set: %0.3f\"\n",
    "        % f1_score(y_test, y_pred, average=\"micro\")\n",
    "    )\n",
    "    print(\"-\" * 10)\n",
    "    print()\n"
   ]
  },
  {
   "cell_type": "code",
   "execution_count": null,
   "id": "693e159f",
   "metadata": {},
   "outputs": [],
   "source": [
    "df_train = df_final[df_final.evaluate >= 0]\n",
    "df_test = df_final[df_final.evaluate < 0]"
   ]
  },
  {
   "cell_type": "code",
   "execution_count": null,
   "id": "33dfd0f6",
   "metadata": {},
   "outputs": [],
   "source": [
    "from sklearn.model_selection import train_test_split\n",
    "X_train, X_test, Y_train,Y_test = train_test_split(df_train['text_clean'], df_train['evaluate'])"
   ]
  },
  {
   "cell_type": "code",
   "execution_count": null,
   "id": "63a59291",
   "metadata": {},
   "outputs": [],
   "source": [
    "print(\"Supervised LogisticRegression on 20% of the training data:\")\n",
    "eval_and_print_metrics(pipeline, X_train, Y_train, X_test, Y_test)\n",
    "\n",
    "# set the non-masked subset to be unlabeled\n",
    "print(\"SelfTrainingClassifier on 20% of the training data (rest is unlabeled):\")\n",
    "eval_and_print_metrics(st_pipeline, X_train, Y_train, X_test, Y_test)\n",
    "\n",
    "if \"CI\" not in os.environ:\n",
    "    # LabelSpreading takes too long to run in the online documentation\n",
    "    print(\"LabelSpreading on 20% of the data (rest is unlabeled):\")\n",
    "    eval_and_print_metrics(ls_pipeline, X_train, Y_train, X_test, Y_test)"
   ]
  },
  {
   "cell_type": "code",
   "execution_count": null,
   "id": "4ac0ae4e",
   "metadata": {},
   "outputs": [],
   "source": [
    "model = st_pipeline.fit(X_train, Y_train)\n",
    "Y_pred = model.predict(df_test['text_clean'])"
   ]
  },
  {
   "cell_type": "code",
   "execution_count": null,
   "id": "5506e746",
   "metadata": {},
   "outputs": [],
   "source": [
    "df_test['evaluate'] = Y_pred"
   ]
  },
  {
   "cell_type": "code",
   "execution_count": null,
   "id": "af797488",
   "metadata": {},
   "outputs": [],
   "source": [
    "df_test.to_excel('labeled_data_from_model.xlsx', index=False)"
   ]
  },
  {
   "cell_type": "code",
   "execution_count": null,
   "id": "2a412a8d",
   "metadata": {},
   "outputs": [],
   "source": [
    "df_new = df_train.append(df_test[['text_clean', 'evaluate']])\n",
    "df_new.head()"
   ]
  },
  {
   "cell_type": "code",
   "execution_count": null,
   "id": "4d49bc37",
   "metadata": {},
   "outputs": [],
   "source": [
    "# Tạo lại train test split từ datafame mới là df_new\n",
    "X_train, X_test, Y_train, Y_test = train_test_split(df_new['text_clean'], df_new['evaluate'], test_size=0.2)"
   ]
  },
  {
   "cell_type": "code",
   "execution_count": null,
   "id": "a975d1ee",
   "metadata": {},
   "outputs": [],
   "source": [
    "df_new.head()"
   ]
  },
  {
   "cell_type": "code",
   "execution_count": null,
   "id": "ffd70033",
   "metadata": {},
   "outputs": [],
   "source": [
    "print(\"Supervised LogisticRegressor\")\n",
    "eval_and_print_metrics(pipeline, X_train, Y_train, X_test, Y_test)"
   ]
  },
  {
   "cell_type": "code",
   "execution_count": null,
   "id": "7d67c3a3",
   "metadata": {},
   "outputs": [],
   "source": [
    "model_new = pipeline.fit(X_train, Y_train)\n",
    "Y_pred = model_new.predict(X_test)\n",
    "print(\n",
    "    \"Micro-averaged F1 score on test set: %0.3f\"\n",
    "    % f1_score(Y_test, Y_pred, average=\"micro\")\n",
    ")"
   ]
  },
  {
   "cell_type": "code",
   "execution_count": null,
   "id": "0a1eeba5",
   "metadata": {},
   "outputs": [],
   "source": [
    "from sklearn.metrics import confusion_matrix, classification_report\n",
    "print('Confusion matrix: \\n', confusion_matrix(Y_test, Y_pred))\n",
    "print('Classification report: \\n', classification_report(Y_test, Y_pred))"
   ]
  },
  {
   "cell_type": "code",
   "execution_count": null,
   "id": "3173edda",
   "metadata": {},
   "outputs": [],
   "source": [
    "classes = np.unique(Y_test)\n",
    "Y_test_array = pd.get_dummies(Y_test, drop_first=False).values\n",
    "    \n",
    "## Accuracy, Precision, Recall\n",
    "accuracy = accuracy_score(Y_test,Y_pred)\n",
    "# auc = roc_auc_score(Y_test, predicted_prob, \n",
    "#                             multi_class=\"ovr\")\n",
    "print(\"Accuracy:\",  round(accuracy,2))\n",
    "# print(\"Auc:\", round(auc,2))\n",
    "print(\"Detail:\")\n",
    "print(classification_report(Y_test, Y_pred))\n",
    "    \n",
    "## Plot confusion matrix\n",
    "cm = confusion_matrix(Y_test, Y_pred)\n",
    "fig, ax = plt.subplots()\n",
    "sb.heatmap(cm, annot=True, fmt='d', ax=ax, cmap=plt.cm.Blues, \n",
    "            cbar=False)\n",
    "ax.set(xlabel=\"Pred\", ylabel=\"True\", xticklabels=classes, \n",
    "       yticklabels=classes, title=\"Confusion matrix\")\n",
    "plt.yticks(rotation=0)\n",
    "plt.show()"
   ]
  },
  {
   "cell_type": "markdown",
   "id": "8a1f4c7f",
   "metadata": {},
   "source": [
    "**Nhận xét**:\n",
    "   - Nhìn vào confusion matrix ta thấy mức độ dự đoán đúng Postive có số lượng dự đoán đúng cao nhất \n",
    "   - Số lượng Neutral và Negative được dự đoán đúng cũng đã được tăng lên đáng kể và giảm đi được số lượng bị đoán nhầm"
   ]
  },
  {
   "cell_type": "code",
   "execution_count": null,
   "id": "709c4466",
   "metadata": {},
   "outputs": [],
   "source": [
    "text_new = pd.Series(['một cuốn sách nhẹ nhàng dễ đọc hãy cố gắng để tận dụng thời gian vào những niềm đam mê',\n",
    "                      'tác phẩm rất hay','dang dở', 'rất hay, rất đẹp và dễ đọc'])\n",
    "\n",
    "for text_1 in text_new:\n",
    "    text_2 = replace_word(pd.Series(text_1)).values[0]\n",
    "    text_2 = process_text(text_2 , emoji_dict, teen_dict, wrong_lst)\n",
    "    text_2 = convert_unicode(text_2)\n",
    "\n",
    "    text_2 = process_postag_thesea(text_2)\n",
    "    \n",
    "    print(text_2)\n",
    "#     text_2 = remove_stopword(text_2, stopwords_lst)\n",
    "#     print(text_2)\n",
    "    \n",
    "#     yhat = model_new.predict(text_2)\n",
    "#     proba = model_new.predict_proba(text_2)\n",
    "#     if yhat== 0:\n",
    "#         label = \"positive\"\n",
    "#     elif yhat== 1:\n",
    "#         label = \"neutral\"\n",
    "#     else:\n",
    "#         label = \"negative\"\n",
    "#     print(text_1,\"-\", label)\n",
    "#     print(proba)"
   ]
  },
  {
   "cell_type": "code",
   "execution_count": null,
   "id": "1ebfe060",
   "metadata": {},
   "outputs": [],
   "source": []
  },
  {
   "cell_type": "code",
   "execution_count": null,
   "id": "642dd394",
   "metadata": {},
   "outputs": [],
   "source": []
  }
 ],
 "metadata": {
  "kernelspec": {
   "display_name": "Python 3",
   "language": "python",
   "name": "python3"
  },
  "language_info": {
   "codemirror_mode": {
    "name": "ipython",
    "version": 3
   },
   "file_extension": ".py",
   "mimetype": "text/x-python",
   "name": "python",
   "nbconvert_exporter": "python",
   "pygments_lexer": "ipython3",
   "version": "3.6.8"
  }
 },
 "nbformat": 4,
 "nbformat_minor": 5
}
