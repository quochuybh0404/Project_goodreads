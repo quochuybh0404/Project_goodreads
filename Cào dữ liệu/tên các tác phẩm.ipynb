{
 "cells": [
  {
   "cell_type": "code",
   "execution_count": 1,
   "id": "0abb3e74",
   "metadata": {},
   "outputs": [],
   "source": [
    "from selenium import webdriver\n",
    "from selenium.webdriver.common.by import By\n",
    "from selenium.webdriver.support.ui import WebDriverWait\n",
    "from selenium.webdriver.support import expected_conditions as EC\n",
    "import time\n",
    "import re\n",
    "import numpy as np"
   ]
  },
  {
   "cell_type": "code",
   "execution_count": 2,
   "id": "dfb2794a",
   "metadata": {},
   "outputs": [],
   "source": [
    "driver = webdriver.Chrome()"
   ]
  },
  {
   "cell_type": "code",
   "execution_count": 3,
   "id": "c0885297",
   "metadata": {},
   "outputs": [],
   "source": [
    "driver.get('https://www.goodreads.com/list/tag/vi%E1%BB%87t-nam')"
   ]
  },
  {
   "cell_type": "code",
   "execution_count": 4,
   "id": "e04244cf",
   "metadata": {},
   "outputs": [],
   "source": [
    "driver.find_elements_by_class_name('listTitle')[0].click()\n",
    "time.sleep(3)"
   ]
  },
  {
   "cell_type": "code",
   "execution_count": 5,
   "id": "29a871b2",
   "metadata": {},
   "outputs": [],
   "source": [
    "driver.find_elements_by_class_name(\"gr-iconButton\")[3].click()\n",
    "time.sleep(3)"
   ]
  },
  {
   "cell_type": "code",
   "execution_count": 6,
   "id": "90d93fdb",
   "metadata": {},
   "outputs": [],
   "source": [
    "def name_of_books(x):\n",
    "    for name in driver.find_elements_by_class_name(\"bookTitle\"):\n",
    "        x.append(name.text)\n",
    "    return x"
   ]
  },
  {
   "cell_type": "code",
   "execution_count": 7,
   "id": "17efab1d",
   "metadata": {},
   "outputs": [],
   "source": [
    "list_name = []\n",
    "list_name = name_of_books(list_name)"
   ]
  },
  {
   "cell_type": "code",
   "execution_count": 8,
   "id": "785d7cf0",
   "metadata": {},
   "outputs": [],
   "source": [
    "######################################################################"
   ]
  },
  {
   "cell_type": "code",
   "execution_count": 9,
   "id": "a2ea65e7",
   "metadata": {},
   "outputs": [],
   "source": [
    "driver.back()"
   ]
  },
  {
   "cell_type": "code",
   "execution_count": 10,
   "id": "65a7dfff",
   "metadata": {},
   "outputs": [],
   "source": [
    "driver.find_elements_by_class_name(\"gr-iconButton\")[3].click()\n",
    "time.sleep(3)"
   ]
  },
  {
   "cell_type": "code",
   "execution_count": 11,
   "id": "c3f0230b",
   "metadata": {},
   "outputs": [],
   "source": [
    "driver.find_elements_by_class_name('listTitle')[1].click()\n",
    "time.sleep(3)"
   ]
  },
  {
   "cell_type": "code",
   "execution_count": 12,
   "id": "2c6004c5",
   "metadata": {},
   "outputs": [],
   "source": [
    "list_name = name_of_books(list_name)"
   ]
  },
  {
   "cell_type": "code",
   "execution_count": 13,
   "id": "24619219",
   "metadata": {},
   "outputs": [],
   "source": [
    "########################################################################"
   ]
  },
  {
   "cell_type": "code",
   "execution_count": 14,
   "id": "214c855d",
   "metadata": {},
   "outputs": [],
   "source": [
    "driver.back()"
   ]
  },
  {
   "cell_type": "code",
   "execution_count": 15,
   "id": "bf74819b",
   "metadata": {},
   "outputs": [],
   "source": [
    "driver.find_elements_by_class_name('listTitle')[3].click()\n",
    "time.sleep(3)"
   ]
  },
  {
   "cell_type": "code",
   "execution_count": 16,
   "id": "0ed78b13",
   "metadata": {},
   "outputs": [],
   "source": [
    "list_name = name_of_books(list_name)"
   ]
  },
  {
   "cell_type": "code",
   "execution_count": 17,
   "id": "05e7e57a",
   "metadata": {},
   "outputs": [],
   "source": [
    "list_name = [name.lower() for name in list_name]"
   ]
  },
  {
   "cell_type": "code",
   "execution_count": 18,
   "id": "313885d7",
   "metadata": {},
   "outputs": [],
   "source": [
    "with open('ten_tac_pham.txt', 'w', encoding=\"utf-8\") as f:\n",
    "    for name in list_name:\n",
    "        f.write(\"%s\\n\" % name)"
   ]
  },
  {
   "cell_type": "code",
   "execution_count": null,
   "id": "1418a7a3",
   "metadata": {},
   "outputs": [],
   "source": []
  }
 ],
 "metadata": {
  "kernelspec": {
   "display_name": "Python 3",
   "language": "python",
   "name": "python3"
  },
  "language_info": {
   "codemirror_mode": {
    "name": "ipython",
    "version": 3
   },
   "file_extension": ".py",
   "mimetype": "text/x-python",
   "name": "python",
   "nbconvert_exporter": "python",
   "pygments_lexer": "ipython3",
   "version": "3.6.8"
  }
 },
 "nbformat": 4,
 "nbformat_minor": 5
}
