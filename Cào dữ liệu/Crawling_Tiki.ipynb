{
 "cells": [
  {
   "cell_type": "code",
   "execution_count": 1,
   "id": "98b6d49c",
   "metadata": {},
   "outputs": [],
   "source": [
    "# Import library\n",
    "from selenium import webdriver\n",
    "from selenium.common.exceptions import NoSuchElementException, WebDriverException\n",
    "from selenium.webdriver.support.ui import WebDriverWait\n",
    "from selenium.common.exceptions import TimeoutException\n",
    "from selenium.webdriver.support import expected_conditions as EC\n",
    "from selenium.webdriver.common.by import By\n",
    "import time\n",
    "import pandas as pd\n",
    "import numpy as np\n",
    "import os.path\n",
    "import re\n",
    "import logging\n",
    "import sys\n",
    "import requests"
   ]
  },
  {
   "cell_type": "code",
   "execution_count": 2,
   "id": "8f9c94fb",
   "metadata": {},
   "outputs": [],
   "source": [
    "# Vào trang chủ danh mục sách (lọc theo các sản phẩm bán chạy để lấy các sản phẩm có lượt đánh giá)\n",
    "driver = webdriver.Chrome() \n",
    "driver.get('https://tiki.vn/search?q=s%C3%A1ch&ref=searchBar&sort=top_seller&page=1')"
   ]
  },
  {
   "cell_type": "code",
   "execution_count": 3,
   "id": "73d227b1",
   "metadata": {},
   "outputs": [],
   "source": [
    "def get_link_by_text(text):\n",
    "    \"\"\"Find link in the page with given text\"\"\"\n",
    "    element = driver.find_element_by_link_text(text.strip())\n",
    "    return element.get_attribute(\"href\")\n",
    "\n",
    "def get_list_by_class_name(class_name=\"main_image \"):\n",
    "    \"\"\"Get list of text in all element by class_name\"\"\"\n",
    "    element_list = []\n",
    "    try:\n",
    "        all_elements = driver.find_elements_by_class_name(class_name)\n",
    "        element_list = [x.text for x in all_elements if len(x.text) > 0]\n",
    "    except (NoSuchElementException, WebDriverException) as e:\n",
    "        print(e)\n",
    "    return element_list"
   ]
  },
  {
   "cell_type": "code",
   "execution_count": 4,
   "id": "606f86dd",
   "metadata": {},
   "outputs": [],
   "source": [
    "# Lấy 40 link trang trong mục sản phẩm bán chạy\n",
    "page_num = driver.find_elements_by_xpath(\"//a[@data-view-id='product_list_pagination_item']\")\n",
    "pages_link = [x.get_attribute('href') for x in page_num]\n",
    "time.sleep(3)\n",
    "list_links_page =[]\n",
    "n = 1\n",
    "while n <= 40:\n",
    "    list_links_page.append(pages_link[0].replace(\"page=1\", \"page=\"+str(n)))\n",
    "    n = n + 1"
   ]
  },
  {
   "cell_type": "code",
   "execution_count": 5,
   "id": "fddf8dbc",
   "metadata": {},
   "outputs": [
    {
     "name": "stdout",
     "output_type": "stream",
     "text": [
      "768\n"
     ]
    }
   ],
   "source": [
    "# Lấy link tất cả các sản phẩm trong 40 trang đã lấy ở trên\n",
    "product_urls = {}\n",
    "for page in list_links_page:\n",
    "    driver.get(page)\n",
    "    time.sleep(3)\n",
    "    category_links = {x: get_link_by_text(x)\n",
    "                      for x in get_list_by_class_name('product-item')}\n",
    "    product_urls = dict(product_urls, **category_links)\n",
    "    time.sleep(3)\n",
    "\n",
    "\n",
    "list_link_new = []\n",
    "for category, url in product_urls.items():\n",
    "        list_link_new.append(url)\n",
    "print(len(list_link_new))"
   ]
  },
  {
   "cell_type": "code",
   "execution_count": 6,
   "id": "d2ca7ea8",
   "metadata": {},
   "outputs": [],
   "source": [
    "# Lấy review cho các link sản phẩm đã thu được ở trên và chuyển vào DataFrame\n",
    "def review_text_by_link(url, rating_url):\n",
    "    d = {\"customerID\": [],\"title\":[], \"content\": [], \"rating\": []}\n",
    "    r = re.search(r\"(\\d+)\\.\", url)\n",
    "    product_id = r[1]\n",
    "    offset = 0\n",
    "    params = {\n",
    "        'limit':900,\n",
    "        'include': 'comments',\n",
    "        'product_id': product_id,\n",
    "        'sort': 'core|decs,id|decs,star|all'}\n",
    "    headers = {'User-Agent': 'Mozilla/5.0 (Macintosh; Intel Mac OS X 10_11_5) AppleWebKit/537.36 (KHTML, like Gecko) Chrome/50.0.2661.102 Safari/537.36'}\n",
    "    data = requests.get(rating_url, params=params, headers=headers)\n",
    "    if data.status_code != 200:\n",
    "        return \"Error with status: \" + str(data.status_code)\n",
    "    data = data.json()\n",
    "    time.sleep(2)\n",
    "    for n, rating in enumerate(data[\"data\"], 1):\n",
    "        d[\"customerID\"].append(rating[\"customer_id\"])\n",
    "        d[\"rating\"].append(rating[\"rating\"])\n",
    "        d[\"title\"].append(rating[\"title\"])\n",
    "        d[\"content\"].append(rating[\"content\"]) \n",
    "    df = pd.DataFrame(d)\n",
    "    return df"
   ]
  },
  {
   "cell_type": "code",
   "execution_count": 7,
   "id": "9a5959e3",
   "metadata": {},
   "outputs": [],
   "source": [
    "rating_url = \"https://tiki.vn/api/v2/reviews\"\n",
    "df = pd.DataFrame()\n",
    "for url in list_link_new[:100]:\n",
    "    a = review_text_by_link(url, rating_url)\n",
    "    df = pd.concat([df, a])"
   ]
  },
  {
   "cell_type": "code",
   "execution_count": 8,
   "id": "a765d0d0",
   "metadata": {},
   "outputs": [],
   "source": [
    "for url in list_link_new[100:200]:\n",
    "    a = review_text_by_link(url, rating_url)\n",
    "    df = pd.concat([df, a])"
   ]
  },
  {
   "cell_type": "code",
   "execution_count": 9,
   "id": "9a8b02fc",
   "metadata": {},
   "outputs": [],
   "source": [
    "for url in list_link_new[200:300]:\n",
    "    a = review_text_by_link(url, rating_url)\n",
    "    df = pd.concat([df, a])"
   ]
  },
  {
   "cell_type": "code",
   "execution_count": 10,
   "id": "c657e13a",
   "metadata": {},
   "outputs": [],
   "source": [
    "for url in list_link_new[400:500]:\n",
    "    a = review_text_by_link(url, rating_url)\n",
    "    df = pd.concat([df, a])"
   ]
  },
  {
   "cell_type": "code",
   "execution_count": 11,
   "id": "742466e8",
   "metadata": {},
   "outputs": [],
   "source": [
    "for url in list_link_new[500:700]:\n",
    "    a = review_text_by_link(url, rating_url)\n",
    "    df = pd.concat([df, a])"
   ]
  },
  {
   "cell_type": "code",
   "execution_count": 12,
   "id": "a9d8c3f2",
   "metadata": {},
   "outputs": [],
   "source": [
    "for url in list_link_new[700:900]:\n",
    "    a = review_text_by_link(url, rating_url)\n",
    "    df = pd.concat([df, a])"
   ]
  },
  {
   "cell_type": "code",
   "execution_count": 13,
   "id": "141deaed",
   "metadata": {},
   "outputs": [],
   "source": [
    "for url in list_link_new[900:1100]:\n",
    "    a = review_text_by_link(url, rating_url)\n",
    "    df = pd.concat([df, a])"
   ]
  },
  {
   "cell_type": "code",
   "execution_count": 14,
   "id": "c46904bd",
   "metadata": {},
   "outputs": [],
   "source": [
    "for url in list_link_new[1100:1300]:\n",
    "    a = review_text_by_link(url, rating_url)\n",
    "    df = pd.concat([df, a])"
   ]
  },
  {
   "cell_type": "code",
   "execution_count": 15,
   "id": "4af04a20",
   "metadata": {},
   "outputs": [],
   "source": [
    "for url in list_link_new[1300:1500]:\n",
    "    a = review_text_by_link(url, rating_url)\n",
    "    df = pd.concat([df, a])"
   ]
  },
  {
   "cell_type": "code",
   "execution_count": 16,
   "id": "f0e17738",
   "metadata": {},
   "outputs": [],
   "source": [
    "for url in list_link_new[1500:1700]:\n",
    "    a = review_text_by_link(url, rating_url)\n",
    "    df = pd.concat([df, a])"
   ]
  },
  {
   "cell_type": "code",
   "execution_count": 17,
   "id": "5d8ca9e9",
   "metadata": {},
   "outputs": [],
   "source": [
    "# for url in list_link_new[1700:1943]:\n",
    "#     a = review_text_by_link(url, rating_url)\n",
    "#     df = pd.concat([df, a])"
   ]
  },
  {
   "cell_type": "code",
   "execution_count": 18,
   "id": "5c9fb6ff",
   "metadata": {},
   "outputs": [
    {
     "name": "stdout",
     "output_type": "stream",
     "text": [
      "(27782, 4)\n"
     ]
    }
   ],
   "source": [
    "print(df.shape)"
   ]
  },
  {
   "cell_type": "code",
   "execution_count": 19,
   "id": "0636bef7",
   "metadata": {},
   "outputs": [],
   "source": [
    "data = df"
   ]
  },
  {
   "cell_type": "code",
   "execution_count": 20,
   "id": "05fe2753",
   "metadata": {},
   "outputs": [],
   "source": [
    "# Thêm cột 'review_text' là dữ liệu của 2 cột 'title' và 'content'\n",
    "df['review_text'] = df['content'] \n",
    "df.drop(['title', 'content'], axis=1, inplace=True)"
   ]
  },
  {
   "cell_type": "code",
   "execution_count": 21,
   "id": "876ac75c",
   "metadata": {},
   "outputs": [],
   "source": [
    "# Loại bỏ NaN và Null trong cột 'review_text'\n",
    "df.replace(\"\", np.nan, inplace=True)\n",
    "df.dropna(subset=['review_text'], inplace=True)\n",
    "# Xoá các dòng trùng lặp\n",
    "df.drop_duplicates(inplace=True, ignore_index=False)\n",
    "df.reset_index(drop=True, inplace=True)"
   ]
  },
  {
   "cell_type": "code",
   "execution_count": 22,
   "id": "f8b38531",
   "metadata": {},
   "outputs": [
    {
     "data": {
      "text/plain": [
       "(10429, 3)"
      ]
     },
     "execution_count": 22,
     "metadata": {},
     "output_type": "execute_result"
    }
   ],
   "source": [
    "# Số dòng, số cột\n",
    "df.shape"
   ]
  },
  {
   "cell_type": "code",
   "execution_count": 23,
   "id": "703de0c5",
   "metadata": {},
   "outputs": [],
   "source": [
    "df['ratings'] = df['rating']\n",
    "df = df.drop(columns = ['customerID', 'rating'])\n",
    "df = df.rename(columns = {'ratings' : 'rating', 'review_text': 'text'})"
   ]
  },
  {
   "cell_type": "code",
   "execution_count": 24,
   "id": "8ba61096",
   "metadata": {},
   "outputs": [],
   "source": [
    "df = df.loc[df.rating < 4]"
   ]
  },
  {
   "cell_type": "code",
   "execution_count": 25,
   "id": "40475d31",
   "metadata": {},
   "outputs": [],
   "source": [
    "df = df.reset_index().drop(columns = ['index'])"
   ]
  },
  {
   "cell_type": "code",
   "execution_count": 26,
   "id": "45c9e4b9",
   "metadata": {},
   "outputs": [],
   "source": [
    "df1 = df.copy()\n",
    "for i in range(df1.shape[0]):\n",
    "    if 'giao hàng' in df1.text[i] or 'dịch vụ' in df1.text[i] or 'vận chuyển' in df1.text[i] or 'sách cũ' in df1.text[i]\\\n",
    "    or 'đóng gói' in df1.text[i] or '.. ..' in df1.text[i] or 'Giao hàng' in df1.text[i] or 'bookcare' in df1.text[i]\\\n",
    "    or 'Bookcare' in df1.text[i] or 'bookmart' in df1.text[i] or 'ship' in df1.text[i] or 'shipper' in df1.text[i]\\\n",
    "    or 'Shipper' in df1.text[i] or 'giao' in df1.text[i] or 'Giao' in df1.text[i] or 'bookmar' in df1.text[i]\\\n",
    "    or 'bìa' in df1.text[i] or 'Bìa' in df1.text[i] or 'gửi' in df1.text[i] or 'Bookmark' in df1.text[i]\\\n",
    "    or 'Tiki' in df1.text[i] or 'tiki' in df1.text[i] or 'shop' in df1.text[i] or 'Shop' in df1.text[i]\\\n",
    "    or 'Đóng gói' in df1.text[i] or 'cong' in df1.text[i] or 'gãy' in df1.text[i] or 'dơ' in df1.text[i] \\\n",
    "    or 'đơn hàng' in df1.text[i] or 'bẩn' in df1.text[i]:\n",
    "        df1 = df1.drop(i)"
   ]
  },
  {
   "cell_type": "code",
   "execution_count": 30,
   "id": "b798c85a",
   "metadata": {},
   "outputs": [],
   "source": [
    "# # Lưu Dataframe vào file csv\n",
    "df1 = df1.reset_index().drop(columns = ['index'])\n",
    "df1.to_csv('crawling_tiki.csv')"
   ]
  },
  {
   "cell_type": "code",
   "execution_count": 34,
   "id": "576522f5",
   "metadata": {},
   "outputs": [],
   "source": [
    "df1.to_csv('crawling_tiki.csv')"
   ]
  },
  {
   "cell_type": "code",
   "execution_count": null,
   "id": "1bdd667b",
   "metadata": {},
   "outputs": [],
   "source": [
    "# df1.to_csv('Tiki_1.csv', encoding='utf-8-sig')"
   ]
  }
 ],
 "metadata": {
  "interpreter": {
   "hash": "b3ba2566441a7c06988d0923437866b63cedc61552a5af99d1f4fb67d367b25f"
  },
  "kernelspec": {
   "display_name": "Python 3",
   "language": "python",
   "name": "python3"
  },
  "language_info": {
   "codemirror_mode": {
    "name": "ipython",
    "version": 3
   },
   "file_extension": ".py",
   "mimetype": "text/x-python",
   "name": "python",
   "nbconvert_exporter": "python",
   "pygments_lexer": "ipython3",
   "version": "3.6.8"
  }
 },
 "nbformat": 4,
 "nbformat_minor": 5
}
