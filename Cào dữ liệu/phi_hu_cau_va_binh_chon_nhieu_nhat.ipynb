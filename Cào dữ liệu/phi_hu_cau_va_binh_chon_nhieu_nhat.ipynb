{
 "cells": [
  {
   "cell_type": "code",
   "execution_count": 1,
   "id": "9ec76185",
   "metadata": {},
   "outputs": [],
   "source": [
    "from selenium import webdriver\n",
    "from selenium.webdriver.common.by import By\n",
    "from selenium.webdriver.support.ui import WebDriverWait\n",
    "from selenium.webdriver.support import expected_conditions as EC\n",
    "import time\n",
    "import re\n",
    "import numpy as np"
   ]
  },
  {
   "cell_type": "code",
   "execution_count": 2,
   "id": "8ad0e5d6",
   "metadata": {},
   "outputs": [],
   "source": [
    "driver = webdriver.Chrome()"
   ]
  },
  {
   "cell_type": "code",
   "execution_count": 3,
   "id": "25a19052",
   "metadata": {},
   "outputs": [],
   "source": [
    "driver.get('https://www.goodreads.com/list/tag/vi%E1%BB%87t-nam')"
   ]
  },
  {
   "cell_type": "code",
   "execution_count": 4,
   "id": "409803b5",
   "metadata": {},
   "outputs": [],
   "source": [
    "driver.find_elements_by_class_name('listTitle')[1].click()\n",
    "time.sleep(3)"
   ]
  },
  {
   "cell_type": "code",
   "execution_count": 5,
   "id": "50e2e567",
   "metadata": {},
   "outputs": [],
   "source": [
    "driver.find_elements_by_class_name(\"gr-iconButton\")[3].click()\n",
    "time.sleep(3)"
   ]
  },
  {
   "cell_type": "code",
   "execution_count": 6,
   "id": "8b2de1e6",
   "metadata": {},
   "outputs": [],
   "source": [
    "def get_comment_and_star(x, y):\n",
    "    for section in driver.find_elements_by_css_selector('.section'):\n",
    "        try:\n",
    "            comment = section.find_elements_by_css_selector('.reviewText')[0].text\n",
    "            if '...more' in comment:\n",
    "                section.find_element_by_link_text('...more').click()\n",
    "                comment = section.find_elements_by_css_selector('.reviewText')[0].text\n",
    "                x.append(comment)\n",
    "                time.sleep(2)\n",
    "            else:\n",
    "                x.append(comment)\n",
    "        \n",
    "            stars = section.find_elements_by_css_selector('.staticStar.p10')\n",
    "            y.append(len(stars))\n",
    "        except:\n",
    "            continue"
   ]
  },
  {
   "cell_type": "code",
   "execution_count": 7,
   "id": "e99d912f",
   "metadata": {},
   "outputs": [],
   "source": [
    "list_comments = []\n",
    "rating_user = []"
   ]
  },
  {
   "cell_type": "code",
   "execution_count": 8,
   "id": "2c81bb41",
   "metadata": {},
   "outputs": [],
   "source": [
    "for i in range(0, len(driver.find_elements_by_class_name(\"bookTitle\"))):\n",
    "    time.sleep(5)\n",
    "    driver.find_elements_by_class_name(\"bookTitle\")[i].click()\n",
    "    while True:\n",
    "        try:\n",
    "            get_comment_and_star(list_comments, rating_user)\n",
    "            time.sleep(3)\n",
    "            driver.find_element_by_xpath(\"//a[@rel = 'next']\").click()\n",
    "            time.sleep(3)\n",
    "        except:\n",
    "            break\n",
    "    time.sleep(5)\n",
    "    driver.back()"
   ]
  },
  {
   "cell_type": "code",
   "execution_count": 9,
   "id": "5b089c76",
   "metadata": {},
   "outputs": [
    {
     "data": {
      "text/plain": [
       "2617"
      ]
     },
     "execution_count": 9,
     "metadata": {},
     "output_type": "execute_result"
    }
   ],
   "source": [
    "len(list_comments)"
   ]
  },
  {
   "cell_type": "code",
   "execution_count": 10,
   "id": "30b967b0",
   "metadata": {},
   "outputs": [
    {
     "data": {
      "text/plain": [
       "2617"
      ]
     },
     "execution_count": 10,
     "metadata": {},
     "output_type": "execute_result"
    }
   ],
   "source": [
    "len(rating_user)"
   ]
  },
  {
   "cell_type": "code",
   "execution_count": 11,
   "id": "c92024e3",
   "metadata": {},
   "outputs": [],
   "source": [
    "################################################"
   ]
  },
  {
   "cell_type": "code",
   "execution_count": 12,
   "id": "71ca99ad",
   "metadata": {},
   "outputs": [],
   "source": [
    "driver.back()"
   ]
  },
  {
   "cell_type": "code",
   "execution_count": 13,
   "id": "b73c3032",
   "metadata": {},
   "outputs": [],
   "source": [
    "driver.find_elements_by_class_name('listTitle')[3].click()\n",
    "time.sleep(3)"
   ]
  },
  {
   "cell_type": "code",
   "execution_count": 14,
   "id": "efcb31b3",
   "metadata": {},
   "outputs": [],
   "source": [
    "for i in range(0, len(driver.find_elements_by_class_name(\"bookTitle\"))):\n",
    "    time.sleep(5)\n",
    "    driver.find_elements_by_class_name(\"bookTitle\")[i].click()\n",
    "    while True:\n",
    "        try:\n",
    "            get_comment_and_star(list_comments, rating_user)\n",
    "            time.sleep(3)\n",
    "            driver.find_element_by_xpath(\"//a[@rel = 'next']\").click()\n",
    "            time.sleep(3)\n",
    "        except:\n",
    "            break\n",
    "    time.sleep(5)\n",
    "    driver.back()"
   ]
  },
  {
   "cell_type": "code",
   "execution_count": 16,
   "id": "bf557042",
   "metadata": {},
   "outputs": [
    {
     "data": {
      "text/plain": [
       "3483"
      ]
     },
     "execution_count": 16,
     "metadata": {},
     "output_type": "execute_result"
    }
   ],
   "source": [
    "len(list_comments)"
   ]
  },
  {
   "cell_type": "code",
   "execution_count": 17,
   "id": "38243c3a",
   "metadata": {},
   "outputs": [
    {
     "data": {
      "text/plain": [
       "3483"
      ]
     },
     "execution_count": 17,
     "metadata": {},
     "output_type": "execute_result"
    }
   ],
   "source": [
    "len(rating_user)"
   ]
  },
  {
   "cell_type": "code",
   "execution_count": 18,
   "id": "9f2baff3",
   "metadata": {},
   "outputs": [],
   "source": [
    "dictionary = {'text' : list_comments, 'rating': rating_user}"
   ]
  },
  {
   "cell_type": "code",
   "execution_count": 19,
   "id": "d347b719",
   "metadata": {},
   "outputs": [],
   "source": [
    "import pandas as pd"
   ]
  },
  {
   "cell_type": "code",
   "execution_count": 20,
   "id": "cce0004a",
   "metadata": {},
   "outputs": [
    {
     "data": {
      "text/html": [
       "<div>\n",
       "<style scoped>\n",
       "    .dataframe tbody tr th:only-of-type {\n",
       "        vertical-align: middle;\n",
       "    }\n",
       "\n",
       "    .dataframe tbody tr th {\n",
       "        vertical-align: top;\n",
       "    }\n",
       "\n",
       "    .dataframe thead th {\n",
       "        text-align: right;\n",
       "    }\n",
       "</style>\n",
       "<table border=\"1\" class=\"dataframe\">\n",
       "  <thead>\n",
       "    <tr style=\"text-align: right;\">\n",
       "      <th></th>\n",
       "      <th>text</th>\n",
       "      <th>rating</th>\n",
       "    </tr>\n",
       "  </thead>\n",
       "  <tbody>\n",
       "    <tr>\n",
       "      <th>0</th>\n",
       "      <td>Sau khi nghe lời quảng cáo đầy phấn khích của ...</td>\n",
       "      <td>4</td>\n",
       "    </tr>\n",
       "    <tr>\n",
       "      <th>1</th>\n",
       "      <td>Thật sự tôi chưa bao giờ thích đọc sách về lịc...</td>\n",
       "      <td>5</td>\n",
       "    </tr>\n",
       "    <tr>\n",
       "      <th>2</th>\n",
       "      <td>cuốn sách đã nói được rất nhiều đến những điều...</td>\n",
       "      <td>5</td>\n",
       "    </tr>\n",
       "    <tr>\n",
       "      <th>3</th>\n",
       "      <td>Năm sao cho lòng dũng cảm của tác giả, nhưng m...</td>\n",
       "      <td>4</td>\n",
       "    </tr>\n",
       "    <tr>\n",
       "      <th>4</th>\n",
       "      <td>Tôi đã quyết định không đọc Bên Thắng Cuộc-Giả...</td>\n",
       "      <td>3</td>\n",
       "    </tr>\n",
       "    <tr>\n",
       "      <th>...</th>\n",
       "      <td>...</td>\n",
       "      <td>...</td>\n",
       "    </tr>\n",
       "    <tr>\n",
       "      <th>3478</th>\n",
       "      <td>Quyển sách được tác giả viết qua những trải ng...</td>\n",
       "      <td>4</td>\n",
       "    </tr>\n",
       "    <tr>\n",
       "      <th>3479</th>\n",
       "      <td>A brutal yet humane read about life and death....</td>\n",
       "      <td>4</td>\n",
       "    </tr>\n",
       "    <tr>\n",
       "      <th>3480</th>\n",
       "      <td>Life-changing experience when reading this boo...</td>\n",
       "      <td>5</td>\n",
       "    </tr>\n",
       "    <tr>\n",
       "      <th>3481</th>\n",
       "      <td>How brave a man is to follow others to the bor...</td>\n",
       "      <td>4</td>\n",
       "    </tr>\n",
       "    <tr>\n",
       "      <th>3482</th>\n",
       "      <td>nếu đột nhiên giờ mình chết thì sao nhỉ ? chắc...</td>\n",
       "      <td>4</td>\n",
       "    </tr>\n",
       "  </tbody>\n",
       "</table>\n",
       "<p>3483 rows × 2 columns</p>\n",
       "</div>"
      ],
      "text/plain": [
       "                                                   text  rating\n",
       "0     Sau khi nghe lời quảng cáo đầy phấn khích của ...       4\n",
       "1     Thật sự tôi chưa bao giờ thích đọc sách về lịc...       5\n",
       "2     cuốn sách đã nói được rất nhiều đến những điều...       5\n",
       "3     Năm sao cho lòng dũng cảm của tác giả, nhưng m...       4\n",
       "4     Tôi đã quyết định không đọc Bên Thắng Cuộc-Giả...       3\n",
       "...                                                 ...     ...\n",
       "3478  Quyển sách được tác giả viết qua những trải ng...       4\n",
       "3479  A brutal yet humane read about life and death....       4\n",
       "3480  Life-changing experience when reading this boo...       5\n",
       "3481  How brave a man is to follow others to the bor...       4\n",
       "3482  nếu đột nhiên giờ mình chết thì sao nhỉ ? chắc...       4\n",
       "\n",
       "[3483 rows x 2 columns]"
      ]
     },
     "execution_count": 20,
     "metadata": {},
     "output_type": "execute_result"
    }
   ],
   "source": [
    "df = pd.DataFrame(dictionary)\n",
    "df"
   ]
  },
  {
   "cell_type": "code",
   "execution_count": 21,
   "id": "cc304c9b",
   "metadata": {},
   "outputs": [],
   "source": [
    "df.to_csv('phi_hu_cau_va_binh_chon_nhieu_nhat.csv')"
   ]
  },
  {
   "cell_type": "code",
   "execution_count": null,
   "id": "e6197aea",
   "metadata": {},
   "outputs": [],
   "source": []
  }
 ],
 "metadata": {
  "kernelspec": {
   "display_name": "Python 3",
   "language": "python",
   "name": "python3"
  },
  "language_info": {
   "codemirror_mode": {
    "name": "ipython",
    "version": 3
   },
   "file_extension": ".py",
   "mimetype": "text/x-python",
   "name": "python",
   "nbconvert_exporter": "python",
   "pygments_lexer": "ipython3",
   "version": "3.6.8"
  }
 },
 "nbformat": 4,
 "nbformat_minor": 5
}
