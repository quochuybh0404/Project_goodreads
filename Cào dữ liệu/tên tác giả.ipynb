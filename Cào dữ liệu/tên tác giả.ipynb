{
 "cells": [
  {
   "cell_type": "code",
   "execution_count": 1,
   "id": "f131d9f9",
   "metadata": {},
   "outputs": [],
   "source": [
    "from selenium import webdriver\n",
    "from selenium.webdriver.common.by import By\n",
    "from selenium.webdriver.support.ui import WebDriverWait\n",
    "from selenium.webdriver.support import expected_conditions as EC\n",
    "import time\n",
    "import re\n",
    "import numpy as np"
   ]
  },
  {
   "cell_type": "code",
   "execution_count": 2,
   "id": "89b0a405",
   "metadata": {},
   "outputs": [],
   "source": [
    "driver = webdriver.Chrome()"
   ]
  },
  {
   "cell_type": "code",
   "execution_count": 3,
   "id": "d796f19f",
   "metadata": {},
   "outputs": [],
   "source": [
    "driver.get('https://www.goodreads.com/list/tag/vi%E1%BB%87t-nam')"
   ]
  },
  {
   "cell_type": "code",
   "execution_count": 4,
   "id": "463b1fbf",
   "metadata": {},
   "outputs": [],
   "source": [
    "driver.find_elements_by_class_name('listTitle')[0].click()\n",
    "time.sleep(3)"
   ]
  },
  {
   "cell_type": "code",
   "execution_count": 5,
   "id": "d1c2d659",
   "metadata": {},
   "outputs": [],
   "source": [
    "driver.find_elements_by_class_name(\"gr-iconButton\")[3].click()\n",
    "time.sleep(3)"
   ]
  },
  {
   "cell_type": "code",
   "execution_count": 9,
   "id": "0cd37ef5",
   "metadata": {},
   "outputs": [],
   "source": [
    "def name_of_author(x):\n",
    "    for name in driver.find_elements_by_class_name(\"authorName\"):\n",
    "        x.append(name.text)\n",
    "    return x"
   ]
  },
  {
   "cell_type": "code",
   "execution_count": 10,
   "id": "f1fe6075",
   "metadata": {},
   "outputs": [],
   "source": [
    "list_name = []\n",
    "list_name = name_of_author(list_name)"
   ]
  },
  {
   "cell_type": "code",
   "execution_count": 11,
   "id": "b7763a4c",
   "metadata": {},
   "outputs": [],
   "source": [
    "######################################################################"
   ]
  },
  {
   "cell_type": "code",
   "execution_count": 12,
   "id": "e4e522fb",
   "metadata": {},
   "outputs": [],
   "source": [
    "driver.back()"
   ]
  },
  {
   "cell_type": "code",
   "execution_count": 13,
   "id": "b1953961",
   "metadata": {},
   "outputs": [],
   "source": [
    "driver.find_elements_by_class_name(\"gr-iconButton\")[3].click()\n",
    "time.sleep(3)"
   ]
  },
  {
   "cell_type": "code",
   "execution_count": 14,
   "id": "6313d04d",
   "metadata": {},
   "outputs": [],
   "source": [
    "driver.find_elements_by_class_name('listTitle')[1].click()\n",
    "time.sleep(3)"
   ]
  },
  {
   "cell_type": "code",
   "execution_count": 15,
   "id": "20b25ab9",
   "metadata": {},
   "outputs": [],
   "source": [
    "list_name = name_of_author(list_name)"
   ]
  },
  {
   "cell_type": "code",
   "execution_count": 16,
   "id": "cc1867bc",
   "metadata": {},
   "outputs": [],
   "source": [
    "######################################################################"
   ]
  },
  {
   "cell_type": "code",
   "execution_count": 17,
   "id": "008cf967",
   "metadata": {},
   "outputs": [],
   "source": [
    "driver.back()"
   ]
  },
  {
   "cell_type": "code",
   "execution_count": 18,
   "id": "0e58e09e",
   "metadata": {},
   "outputs": [],
   "source": [
    "driver.find_elements_by_class_name('listTitle')[3].click()\n",
    "time.sleep(3)"
   ]
  },
  {
   "cell_type": "code",
   "execution_count": 19,
   "id": "eb3fea6e",
   "metadata": {},
   "outputs": [],
   "source": [
    "list_name = name_of_author(list_name)"
   ]
  },
  {
   "cell_type": "code",
   "execution_count": 20,
   "id": "64ac9c25",
   "metadata": {},
   "outputs": [
    {
     "data": {
      "text/plain": [
       "['Tô Hoài',\n",
       " 'Nguyễn Ngọc Thuần',\n",
       " 'Nguyễn Ngọc Tư',\n",
       " 'Bảo Ninh',\n",
       " 'Phùng Quán',\n",
       " 'Vũ Trọng Phụng',\n",
       " 'Nguyễn Nhật Ánh',\n",
       " 'Nguyễn Tuân',\n",
       " 'Trần Dần',\n",
       " 'Nam Cao',\n",
       " 'Đoàn Giỏi',\n",
       " 'Thạch Lam',\n",
       " 'Đoàn Minh Phượng',\n",
       " 'Ngô Tất Tố',\n",
       " 'Vũ Bằng',\n",
       " 'Nguyễn Nhật Ánh',\n",
       " 'Nguyễn Nhật Ánh',\n",
       " 'Bùi Ngọc Tấn',\n",
       " 'Nguyễn Huy Thiệp',\n",
       " 'Nguyễn Ngọc Tư',\n",
       " 'Lê Lựu',\n",
       " 'Võ Phiến',\n",
       " 'Thạch Lam',\n",
       " 'Nguyễn Khải',\n",
       " 'Nguyễn Việt Hà',\n",
       " 'Phan Việt',\n",
       " 'Phạm Thị Hoài',\n",
       " 'Dương Thu Hương',\n",
       " 'Nguyễn Công Hoan',\n",
       " 'Ngô Tất Tố',\n",
       " 'Duy Khán',\n",
       " 'Nguyễn Huy Thiệp',\n",
       " 'Nguyễn Huy Tưởng',\n",
       " 'Thuận',\n",
       " 'Nguyễn Ngọc Tư',\n",
       " 'Nguyễn Phương Văn',\n",
       " 'Sơn Nam',\n",
       " 'Phan Thị Vàng Anh',\n",
       " 'Phan Thị Vàng Anh',\n",
       " 'Nguyễn Xuân Khánh',\n",
       " 'Nam Cao',\n",
       " 'Nguyên Ngọc',\n",
       " 'Dương Thu Hương',\n",
       " 'Nguyên Hồng',\n",
       " 'Ngô Bảo Châu',\n",
       " 'Nguyễn Bình Phương',\n",
       " 'Nguyễn Bình Phương',\n",
       " 'Nguyễn Xuân Khánh',\n",
       " 'Nguyễn Khắc Trường',\n",
       " 'Nguyễn Huy Thiệp',\n",
       " 'Vũ Bằng',\n",
       " 'Thanh Tâm Tuyền',\n",
       " 'Vũ Trọng Phụng',\n",
       " 'Phan Thị Vàng Anh',\n",
       " 'Nam Cao',\n",
       " 'Tô Hoài',\n",
       " 'Nguyễn Mộng Giác',\n",
       " 'Nguyên Hồng',\n",
       " 'Nguyễn Nhật Ánh',\n",
       " 'Nguyễn Mộng Giác',\n",
       " 'Nguyễn Tuân',\n",
       " 'Nguyễn Vỹ',\n",
       " 'Nguyễn Quang Lập',\n",
       " 'Phạm Thị Hoài',\n",
       " 'Ma Văn Kháng',\n",
       " 'Nguyễn Bình Phương',\n",
       " 'Thạch Lam',\n",
       " 'Thuận',\n",
       " 'Dương Thu Hương',\n",
       " 'Nguyễn Công Hoan',\n",
       " 'Phùng Quán',\n",
       " 'Bình Nguyên Lộc',\n",
       " 'Nhật Tuấn',\n",
       " 'Nguyễn Huy Thiệp',\n",
       " 'Mai Thảo',\n",
       " 'Lanka',\n",
       " 'Nguyễn Minh Châu',\n",
       " 'Nguyễn Nguyên Phước',\n",
       " 'Đỗ Bích Thúy',\n",
       " 'Nguyễn Nhật Ánh',\n",
       " 'Nguyễn Bình Phương',\n",
       " 'Nguyễn Khải',\n",
       " 'Lê Văn Thảo',\n",
       " 'Vũ Bằng',\n",
       " 'Y. Ban',\n",
       " 'Bùi Ngọc Tấn',\n",
       " 'Bùi Ngọc Tấn',\n",
       " 'Nguyễn Phương Văn',\n",
       " 'Đoàn Minh Phượng',\n",
       " 'Võ Thị Hảo',\n",
       " 'Tạ Duy Anh',\n",
       " 'Vũ Khắc Khoan',\n",
       " 'Trami Nguyen Cron',\n",
       " 'Hồ Anh Thái',\n",
       " 'Phương Lan',\n",
       " 'Georgina Hutchison',\n",
       " 'Khái Hưng',\n",
       " 'Trung Trung Đỉnh',\n",
       " 'Hồ Anh Thái',\n",
       " 'Thế Lữ',\n",
       " 'Huy Đức',\n",
       " 'Huy Đức',\n",
       " 'Cao Xuân Hạo',\n",
       " 'Tạ Chí Đại Trường',\n",
       " 'Trần Trọng Kim',\n",
       " 'Đặng Phong',\n",
       " 'Bùi Văn Nam Sơn',\n",
       " 'Rosie Nguyễn',\n",
       " 'Phạm Công Thiện',\n",
       " 'Phan Cẩm Thượng',\n",
       " 'Phan Kế Bính',\n",
       " 'Nguyễn Tường Bách',\n",
       " 'Nguyễn Gia Kiểng',\n",
       " 'Nguyễn Duy Cần',\n",
       " 'Đào Duy Anh',\n",
       " 'Tony Buổi Sáng',\n",
       " 'Nguyễn Đức Dân',\n",
       " 'Tạ Chí Đại Trường',\n",
       " 'Trần Trọng Kim',\n",
       " 'Vương Hồng Sển',\n",
       " 'Vũ Thư Hiên',\n",
       " 'Hoài Thanh',\n",
       " 'Vũ Bằng',\n",
       " 'Đặng Phong',\n",
       " 'Vương Hồng Sển',\n",
       " 'Vương Hồng Sển',\n",
       " 'Trần Quang Đức',\n",
       " 'Tô Hoài',\n",
       " 'Vũ Bằng',\n",
       " 'Vũ Bằng',\n",
       " 'Nguyễn Phương Mai',\n",
       " 'Võ Phiến',\n",
       " 'Trần Thiện Đạo',\n",
       " 'Vĩnh Sính',\n",
       " 'Toan Ánh',\n",
       " 'Lê Thành Khôi',\n",
       " 'Nguyễn Hiến Lê',\n",
       " 'Phan Khôi',\n",
       " 'Nguyễn Hiến Lê',\n",
       " 'Vũ Trọng Phụng',\n",
       " 'Bùi Ngọc Tấn',\n",
       " 'Bùi Ngọc Tấn',\n",
       " 'Nguyễn Mộng Giác',\n",
       " 'Tony Buổi Sáng',\n",
       " 'Nguyễn Phương Mai',\n",
       " 'Vương Hồng Sển',\n",
       " 'Đặng Hoàng Giang',\n",
       " 'Alan Phan',\n",
       " 'Toan Ánh',\n",
       " 'Cao Huy Thuần',\n",
       " 'Bùi Giáng',\n",
       " 'Tạ Chí Đại Trường',\n",
       " 'Văn Tạo',\n",
       " 'Tạ Chí Đại Trường',\n",
       " 'Nguyễn Trần Bạt',\n",
       " 'Vũ Bằng',\n",
       " 'Lê Duẩn',\n",
       " 'Trần Thái Đỉnh',\n",
       " 'Dương Tường',\n",
       " 'Phùng Quán',\n",
       " 'Trần Ngọc Thêm',\n",
       " 'Nguyễn Mộng Giác',\n",
       " 'Lâm Minh Chánh',\n",
       " 'Minh Niệm',\n",
       " 'Trần Quỳnh Cư',\n",
       " 'Phạm Duy',\n",
       " 'Nguyễn Xuân Xanh',\n",
       " 'Phạm Duy',\n",
       " 'Huyen Chip',\n",
       " 'Vương Hồng Sển',\n",
       " 'Vương Hồng Sển',\n",
       " 'Trần Đĩnh',\n",
       " 'Giản Tư Trung',\n",
       " 'Ngô Sĩ Liên',\n",
       " 'Vương Hồng Sển',\n",
       " 'Huyen Chip',\n",
       " 'Phạm Quỳnh',\n",
       " 'Nguyễn Hiến Lê',\n",
       " 'Trần Dần',\n",
       " 'Nguyễn Mạnh Tường',\n",
       " 'Phero Trương Bá Cần',\n",
       " 'Nguyên Hồng',\n",
       " 'Vũ Bão',\n",
       " 'Chánh Trinh',\n",
       " 'Nhượng Tống',\n",
       " 'Phạm Cao Củng',\n",
       " 'Bùi Vĩnh Phúc',\n",
       " 'Tạ Chí Đại Trường',\n",
       " 'Tạ Chí Đại Trường',\n",
       " 'Nguyên Phong',\n",
       " 'Đặng Hoàng Giang',\n",
       " 'Minh Niệm',\n",
       " 'Đặng Hoàng Giang']"
      ]
     },
     "execution_count": 20,
     "metadata": {},
     "output_type": "execute_result"
    }
   ],
   "source": [
    "list_name"
   ]
  },
  {
   "cell_type": "code",
   "execution_count": 21,
   "id": "2a6a4453",
   "metadata": {},
   "outputs": [],
   "source": [
    "list_name = [name.lower() for name in list_name]"
   ]
  },
  {
   "cell_type": "code",
   "execution_count": 22,
   "id": "5dc78f6b",
   "metadata": {},
   "outputs": [],
   "source": [
    "with open('ten_tac_gia.txt', 'w', encoding=\"utf-8\") as f:\n",
    "    for name in list_name:\n",
    "        f.write(\"%s\\n\" % name)"
   ]
  },
  {
   "cell_type": "code",
   "execution_count": null,
   "id": "49771c62",
   "metadata": {},
   "outputs": [],
   "source": []
  }
 ],
 "metadata": {
  "kernelspec": {
   "display_name": "Python 3",
   "language": "python",
   "name": "python3"
  },
  "language_info": {
   "codemirror_mode": {
    "name": "ipython",
    "version": 3
   },
   "file_extension": ".py",
   "mimetype": "text/x-python",
   "name": "python",
   "nbconvert_exporter": "python",
   "pygments_lexer": "ipython3",
   "version": "3.6.8"
  }
 },
 "nbformat": 4,
 "nbformat_minor": 5
}
