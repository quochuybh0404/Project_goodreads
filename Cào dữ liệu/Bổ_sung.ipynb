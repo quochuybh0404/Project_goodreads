{
 "cells": [
  {
   "cell_type": "code",
   "execution_count": 1,
   "id": "f01f2170",
   "metadata": {},
   "outputs": [],
   "source": [
    "from selenium import webdriver\n",
    "from selenium.webdriver.common.by import By\n",
    "from selenium.webdriver.support.ui import WebDriverWait\n",
    "from selenium.webdriver.support import expected_conditions as EC\n",
    "import time\n",
    "import re\n",
    "import numpy as np"
   ]
  },
  {
   "cell_type": "code",
   "execution_count": 52,
   "id": "3318d800",
   "metadata": {},
   "outputs": [],
   "source": [
    "driver = webdriver.Chrome()"
   ]
  },
  {
   "cell_type": "code",
   "execution_count": 3,
   "id": "ef6ba66c",
   "metadata": {},
   "outputs": [],
   "source": [
    "driver.get('https://www.goodreads.com/author/list/3166816.Nguy_n_Phong')"
   ]
  },
  {
   "cell_type": "code",
   "execution_count": 4,
   "id": "d0382d44",
   "metadata": {},
   "outputs": [],
   "source": [
    "def get_comment_and_star(x, y):\n",
    "    for section in driver.find_elements_by_css_selector('.section'):\n",
    "        try:\n",
    "            comment = section.find_elements_by_css_selector('.reviewText')[0].text\n",
    "            if '...more' in comment:\n",
    "                section.find_element_by_link_text('...more').click()\n",
    "                comment = section.find_elements_by_css_selector('.reviewText')[0].text\n",
    "                x.append(comment)\n",
    "                time.sleep(2)\n",
    "            else:\n",
    "                x.append(comment)\n",
    "        \n",
    "            stars = section.find_elements_by_css_selector('.staticStar.p10')\n",
    "            y.append(len(stars))\n",
    "        except:\n",
    "            continue"
   ]
  },
  {
   "cell_type": "code",
   "execution_count": 54,
   "id": "c022bf95",
   "metadata": {},
   "outputs": [],
   "source": [
    "driver.find_elements_by_class_name(\"bookTitle\")[0].click()\n",
    "time.sleep(3)\n",
    "driver.find_elements_by_class_name(\"gr-iconButton\")[4].click() \n",
    "\n",
    "# back\n",
    "time.sleep(3)\n",
    "driver.back()\n",
    "\n",
    "time.sleep(3)\n",
    "driver.find_elements_by_class_name(\"gr-iconButton\")[3].click() "
   ]
  },
  {
   "cell_type": "code",
   "execution_count": 6,
   "id": "3539b904",
   "metadata": {},
   "outputs": [],
   "source": [
    "comment_nguyenphong = []\n",
    "rating_nguyenphong = []"
   ]
  },
  {
   "cell_type": "code",
   "execution_count": 7,
   "id": "87a6a811",
   "metadata": {},
   "outputs": [],
   "source": [
    "while True:\n",
    "    try:\n",
    "        for i in range(0, len(driver.find_elements_by_class_name(\"bookTitle\"))):\n",
    "            time.sleep(5)\n",
    "            driver.find_elements_by_class_name(\"bookTitle\")[i].click()\n",
    "            while True:\n",
    "                try:\n",
    "                    get_comment_and_star(comment_nguyenphong, rating_nguyenphong)\n",
    "                    time.sleep(3)\n",
    "                    driver.find_element_by_xpath(\"//a[@rel = 'next']\").click()\n",
    "                    time.sleep(3)\n",
    "                except:\n",
    "                    break\n",
    "            time.sleep(5)\n",
    "            driver.back()\n",
    "        time.sleep(10)\n",
    "        button = driver.find_element_by_xpath(\"//a[@rel = 'next']\")\n",
    "        driver.execute_script(\"arguments[0].click();\", button)\n",
    "    except:\n",
    "        break"
   ]
  },
  {
   "cell_type": "code",
   "execution_count": 8,
   "id": "98708624",
   "metadata": {},
   "outputs": [
    {
     "data": {
      "text/plain": [
       "(965, 965)"
      ]
     },
     "execution_count": 8,
     "metadata": {},
     "output_type": "execute_result"
    }
   ],
   "source": [
    "len(comment_nguyenphong), len(rating_nguyenphong)"
   ]
  },
  {
   "cell_type": "code",
   "execution_count": 9,
   "id": "7214632a",
   "metadata": {},
   "outputs": [],
   "source": [
    "########################################################################"
   ]
  },
  {
   "cell_type": "code",
   "execution_count": 10,
   "id": "c7ad5751",
   "metadata": {},
   "outputs": [],
   "source": [
    "driver.get('https://www.goodreads.com/author/list/5067396.L_L_u')"
   ]
  },
  {
   "cell_type": "code",
   "execution_count": 11,
   "id": "f8066a09",
   "metadata": {},
   "outputs": [],
   "source": [
    "comment_leluu = []\n",
    "rating_leluu = []"
   ]
  },
  {
   "cell_type": "code",
   "execution_count": 12,
   "id": "45b39e48",
   "metadata": {},
   "outputs": [],
   "source": [
    "for i in range(0, len(driver.find_elements_by_class_name(\"bookTitle\"))):\n",
    "    time.sleep(5)\n",
    "    driver.find_elements_by_class_name(\"bookTitle\")[i].click()\n",
    "    while True:\n",
    "        try:\n",
    "            get_comment_and_star(comment_leluu, rating_leluu)\n",
    "            time.sleep(3)\n",
    "            driver.find_element_by_xpath(\"//a[@rel = 'next']\").click()\n",
    "            time.sleep(3)\n",
    "        except:\n",
    "            break\n",
    "    time.sleep(5)\n",
    "    driver.back()"
   ]
  },
  {
   "cell_type": "code",
   "execution_count": 13,
   "id": "80cac06b",
   "metadata": {},
   "outputs": [
    {
     "data": {
      "text/plain": [
       "(39, 39)"
      ]
     },
     "execution_count": 13,
     "metadata": {},
     "output_type": "execute_result"
    }
   ],
   "source": [
    "len(comment_leluu), len(rating_leluu)"
   ]
  },
  {
   "cell_type": "code",
   "execution_count": 14,
   "id": "fb84fc6b",
   "metadata": {},
   "outputs": [],
   "source": [
    "########################################################################"
   ]
  },
  {
   "cell_type": "code",
   "execution_count": 15,
   "id": "aa8dae93",
   "metadata": {},
   "outputs": [],
   "source": [
    "driver.get('https://www.goodreads.com/author/list/17824927.Ng_c_H_ng')"
   ]
  },
  {
   "cell_type": "code",
   "execution_count": 16,
   "id": "394a4680",
   "metadata": {},
   "outputs": [],
   "source": [
    "comment_ngoduchung = []\n",
    "rating_ngoduchung = []"
   ]
  },
  {
   "cell_type": "code",
   "execution_count": 17,
   "id": "f0fa02de",
   "metadata": {},
   "outputs": [],
   "source": [
    "for i in range(0, len(driver.find_elements_by_class_name(\"bookTitle\"))):\n",
    "    time.sleep(5)\n",
    "    driver.find_elements_by_class_name(\"bookTitle\")[i].click()\n",
    "    while True:\n",
    "        try:\n",
    "            get_comment_and_star(comment_ngoduchung, rating_ngoduchung)\n",
    "            time.sleep(3)\n",
    "            driver.find_element_by_xpath(\"//a[@rel = 'next']\").click()\n",
    "            time.sleep(3)\n",
    "        except:\n",
    "            break\n",
    "    time.sleep(5)\n",
    "    driver.back()"
   ]
  },
  {
   "cell_type": "code",
   "execution_count": 18,
   "id": "1e66535f",
   "metadata": {},
   "outputs": [
    {
     "data": {
      "text/plain": [
       "(298, 298)"
      ]
     },
     "execution_count": 18,
     "metadata": {},
     "output_type": "execute_result"
    }
   ],
   "source": [
    "len(comment_ngoduchung), len(rating_ngoduchung)"
   ]
  },
  {
   "cell_type": "code",
   "execution_count": 19,
   "id": "bcb334d6",
   "metadata": {},
   "outputs": [],
   "source": [
    "########################################################################"
   ]
  },
  {
   "cell_type": "code",
   "execution_count": 20,
   "id": "935b4d56",
   "metadata": {},
   "outputs": [],
   "source": [
    "driver.get('https://www.goodreads.com/search?q=hamlet+tr%C6%B0%C6%A1ng&qid=DxFAtJbL3G')"
   ]
  },
  {
   "cell_type": "code",
   "execution_count": 21,
   "id": "1c855bf9",
   "metadata": {},
   "outputs": [],
   "source": [
    "comment_hamlettruong = []\n",
    "rating_hamlettruong  = []"
   ]
  },
  {
   "cell_type": "code",
   "execution_count": 22,
   "id": "54ced9d1",
   "metadata": {},
   "outputs": [],
   "source": [
    "for i in range(0, len(driver.find_elements_by_class_name(\"bookTitle\"))):\n",
    "    time.sleep(5)\n",
    "    driver.find_elements_by_class_name(\"bookTitle\")[i].click()\n",
    "    while True:\n",
    "        try:\n",
    "            get_comment_and_star(comment_hamlettruong, rating_hamlettruong)\n",
    "            time.sleep(3)\n",
    "            driver.find_element_by_xpath(\"//a[@rel = 'next']\").click()\n",
    "            time.sleep(3)\n",
    "        except:\n",
    "            break\n",
    "    time.sleep(5)\n",
    "    driver.back()"
   ]
  },
  {
   "cell_type": "code",
   "execution_count": 23,
   "id": "f7f46b35",
   "metadata": {},
   "outputs": [
    {
     "data": {
      "text/plain": [
       "(79, 79)"
      ]
     },
     "execution_count": 23,
     "metadata": {},
     "output_type": "execute_result"
    }
   ],
   "source": [
    "len(comment_hamlettruong), len(rating_hamlettruong)"
   ]
  },
  {
   "cell_type": "code",
   "execution_count": 24,
   "id": "720a7351",
   "metadata": {},
   "outputs": [],
   "source": [
    "####################################################################"
   ]
  },
  {
   "cell_type": "code",
   "execution_count": 53,
   "id": "7517eefe",
   "metadata": {},
   "outputs": [],
   "source": [
    "driver.get('https://www.goodreads.com/author/list/4658443.Nguy_n_Hi_n_L_')"
   ]
  },
  {
   "cell_type": "code",
   "execution_count": 55,
   "id": "1fdcaf6f",
   "metadata": {},
   "outputs": [],
   "source": [
    "comment_nguyenhienle = []\n",
    "rating_nguyenhienle  = []"
   ]
  },
  {
   "cell_type": "code",
   "execution_count": 56,
   "id": "743fffca",
   "metadata": {},
   "outputs": [],
   "source": [
    "while True:\n",
    "    try:\n",
    "        for i in range(0, len(driver.find_elements_by_class_name(\"bookTitle\"))):\n",
    "            time.sleep(5)\n",
    "            driver.find_elements_by_class_name(\"bookTitle\")[i].click()\n",
    "            while True:\n",
    "                try:\n",
    "                    get_comment_and_star(comment_nguyenhienle, rating_nguyenhienle)\n",
    "                    time.sleep(3)\n",
    "                    driver.find_element_by_xpath(\"//a[@rel = 'next']\").click()\n",
    "                    time.sleep(3)\n",
    "                except:\n",
    "                    break\n",
    "            time.sleep(5)\n",
    "            driver.back()\n",
    "        time.sleep(10)\n",
    "        button = driver.find_element_by_xpath(\"//a[@rel = 'next']\")\n",
    "        driver.execute_script(\"arguments[0].click();\", button)\n",
    "\n",
    "    except:\n",
    "        break"
   ]
  },
  {
   "cell_type": "code",
   "execution_count": 57,
   "id": "ad4067d1",
   "metadata": {},
   "outputs": [
    {
     "data": {
      "text/plain": [
       "(3428, 3428)"
      ]
     },
     "execution_count": 57,
     "metadata": {},
     "output_type": "execute_result"
    }
   ],
   "source": [
    "len(comment_nguyenhienle), len(rating_nguyenhienle)"
   ]
  },
  {
   "cell_type": "code",
   "execution_count": 29,
   "id": "fde9f1cf",
   "metadata": {},
   "outputs": [],
   "source": [
    "####################################################################################"
   ]
  },
  {
   "cell_type": "code",
   "execution_count": 30,
   "id": "097bf5b9",
   "metadata": {},
   "outputs": [],
   "source": [
    "driver.get('https://www.goodreads.com/series/327697')"
   ]
  },
  {
   "cell_type": "code",
   "execution_count": 31,
   "id": "0dbaddd3",
   "metadata": {},
   "outputs": [],
   "source": [
    "comment_tamlyhoc = []\n",
    "rating_tamlyhoc  = []"
   ]
  },
  {
   "cell_type": "code",
   "execution_count": 32,
   "id": "50828fab",
   "metadata": {},
   "outputs": [],
   "source": [
    "for i in range(0, len(driver.find_elements_by_css_selector('.gr-h3--noMargin')),2):\n",
    "    time.sleep(5)\n",
    "    driver.find_elements_by_css_selector('.gr-h3--noMargin')[i].click()\n",
    "    while True:\n",
    "        try:\n",
    "            get_comment_and_star(comment_tamlyhoc, rating_tamlyhoc)\n",
    "            time.sleep(3)\n",
    "            driver.find_element_by_xpath(\"//a[@rel = 'next']\").click()\n",
    "            time.sleep(3)\n",
    "        except:\n",
    "            break\n",
    "    time.sleep(5)\n",
    "    driver.back()"
   ]
  },
  {
   "cell_type": "code",
   "execution_count": 33,
   "id": "b8c2c3e6",
   "metadata": {},
   "outputs": [
    {
     "data": {
      "text/plain": [
       "(21, 21)"
      ]
     },
     "execution_count": 33,
     "metadata": {},
     "output_type": "execute_result"
    }
   ],
   "source": [
    "len(comment_tamlyhoc), len(rating_tamlyhoc)"
   ]
  },
  {
   "cell_type": "code",
   "execution_count": 34,
   "id": "a59655fe",
   "metadata": {},
   "outputs": [],
   "source": [
    "###########################################################################"
   ]
  },
  {
   "cell_type": "code",
   "execution_count": 35,
   "id": "ba6c74a3",
   "metadata": {},
   "outputs": [],
   "source": [
    "driver.get('https://www.goodreads.com/author/list/4634532.Nguy_n_Nh_t_nh')"
   ]
  },
  {
   "cell_type": "code",
   "execution_count": 36,
   "id": "746f7f46",
   "metadata": {},
   "outputs": [],
   "source": [
    "comment_nguyennhatanh = []\n",
    "rating_nguyennhatanh  = []"
   ]
  },
  {
   "cell_type": "code",
   "execution_count": 37,
   "id": "f7d98a1e",
   "metadata": {},
   "outputs": [],
   "source": [
    "while True:\n",
    "    try:\n",
    "        for i in range(0, len(driver.find_elements_by_class_name(\"bookTitle\"))):\n",
    "            time.sleep(5)\n",
    "            driver.find_elements_by_class_name(\"bookTitle\")[i].click()\n",
    "            while True:\n",
    "                try:\n",
    "                    get_comment_and_star(comment_nguyennhatanh, rating_nguyennhatanh)\n",
    "                    time.sleep(3)\n",
    "                    driver.find_element_by_xpath(\"//a[@rel = 'next']\").click()\n",
    "                    time.sleep(3)\n",
    "                except:\n",
    "                    break\n",
    "            time.sleep(5)\n",
    "            driver.back()\n",
    "        time.sleep(10)\n",
    "        button = driver.find_element_by_xpath(\"//a[@rel = 'next']\")\n",
    "        driver.execute_script(\"arguments[0].click();\", button)\n",
    "    except:\n",
    "        break"
   ]
  },
  {
   "cell_type": "code",
   "execution_count": 38,
   "id": "a7a0419b",
   "metadata": {},
   "outputs": [
    {
     "data": {
      "text/plain": [
       "(3930, 3930)"
      ]
     },
     "execution_count": 38,
     "metadata": {},
     "output_type": "execute_result"
    }
   ],
   "source": [
    "len(comment_nguyennhatanh), len(rating_nguyennhatanh)"
   ]
  },
  {
   "cell_type": "code",
   "execution_count": 68,
   "id": "5f791290",
   "metadata": {},
   "outputs": [
    {
     "data": {
      "text/plain": [
       "8760"
      ]
     },
     "execution_count": 68,
     "metadata": {},
     "output_type": "execute_result"
    }
   ],
   "source": [
    "list_comments = comment_nguyenphong + comment_leluu + comment_ngoduchung + comment_hamlettruong + comment_nguyenhienle + comment_tamlyhoc + comment_nguyennhatanh\n",
    "len(list_comments)"
   ]
  },
  {
   "cell_type": "code",
   "execution_count": 66,
   "id": "88d46080",
   "metadata": {},
   "outputs": [
    {
     "data": {
      "text/plain": [
       "8760"
      ]
     },
     "execution_count": 66,
     "metadata": {},
     "output_type": "execute_result"
    }
   ],
   "source": [
    "list_rating = rating_nguyenphong + rating_leluu + rating_ngoduchung + rating_hamlettruong + rating_nguyenhienle + rating_tamlyhoc + rating_nguyennhatanh\n",
    "len(list_rating)"
   ]
  },
  {
   "cell_type": "code",
   "execution_count": 69,
   "id": "09794747",
   "metadata": {},
   "outputs": [],
   "source": [
    "dictionary = {'text' : list_comments, 'rating': list_rating}"
   ]
  },
  {
   "cell_type": "code",
   "execution_count": 70,
   "id": "d037dff4",
   "metadata": {},
   "outputs": [],
   "source": [
    "import pandas as pd"
   ]
  },
  {
   "cell_type": "code",
   "execution_count": 73,
   "id": "29e85fef",
   "metadata": {},
   "outputs": [
    {
     "data": {
      "text/html": [
       "<div>\n",
       "<style scoped>\n",
       "    .dataframe tbody tr th:only-of-type {\n",
       "        vertical-align: middle;\n",
       "    }\n",
       "\n",
       "    .dataframe tbody tr th {\n",
       "        vertical-align: top;\n",
       "    }\n",
       "\n",
       "    .dataframe thead th {\n",
       "        text-align: right;\n",
       "    }\n",
       "</style>\n",
       "<table border=\"1\" class=\"dataframe\">\n",
       "  <thead>\n",
       "    <tr style=\"text-align: right;\">\n",
       "      <th></th>\n",
       "      <th>text</th>\n",
       "      <th>rating</th>\n",
       "    </tr>\n",
       "  </thead>\n",
       "  <tbody>\n",
       "    <tr>\n",
       "      <th>0</th>\n",
       "      <td>Sinuhe Egyptiläinen = The Egyptian (Sinuhe Egy...</td>\n",
       "      <td>4</td>\n",
       "    </tr>\n",
       "    <tr>\n",
       "      <th>1</th>\n",
       "      <td>The Egyptian (Sinuhe egyptiläinen #1–2), Mika ...</td>\n",
       "      <td>4</td>\n",
       "    </tr>\n",
       "    <tr>\n",
       "      <th>2</th>\n",
       "      <td>One of the most powerful historical novels I'v...</td>\n",
       "      <td>5</td>\n",
       "    </tr>\n",
       "    <tr>\n",
       "      <th>3</th>\n",
       "      <td>Sinuhe egyptiläinen = Sinuhe der Agypter‬ = Si...</td>\n",
       "      <td>4</td>\n",
       "    </tr>\n",
       "    <tr>\n",
       "      <th>4</th>\n",
       "      <td>A Captivating Tale!\\nIf you enjoy reading abou...</td>\n",
       "      <td>4</td>\n",
       "    </tr>\n",
       "    <tr>\n",
       "      <th>...</th>\n",
       "      <td>...</td>\n",
       "      <td>...</td>\n",
       "    </tr>\n",
       "    <tr>\n",
       "      <th>8755</th>\n",
       "      <td>Cuốn đầu tiên của năm 2021</td>\n",
       "      <td>4</td>\n",
       "    </tr>\n",
       "    <tr>\n",
       "      <th>8756</th>\n",
       "      <td>Có lẽ sách này không có câu nói nào làm mình t...</td>\n",
       "      <td>3</td>\n",
       "    </tr>\n",
       "    <tr>\n",
       "      <th>8757</th>\n",
       "      <td>Một quyển sách rất ý nghĩa về tình bạn tuổi họ...</td>\n",
       "      <td>5</td>\n",
       "    </tr>\n",
       "    <tr>\n",
       "      <th>8758</th>\n",
       "      <td>\"Có cái gì đó thật vô nhân và ghê sợ khi con n...</td>\n",
       "      <td>4</td>\n",
       "    </tr>\n",
       "    <tr>\n",
       "      <th>8759</th>\n",
       "      <td>Trong tập 5, các bạn sẽ được khám phá nhiều ng...</td>\n",
       "      <td>0</td>\n",
       "    </tr>\n",
       "  </tbody>\n",
       "</table>\n",
       "<p>8760 rows × 2 columns</p>\n",
       "</div>"
      ],
      "text/plain": [
       "                                                   text  rating\n",
       "0     Sinuhe Egyptiläinen = The Egyptian (Sinuhe Egy...       4\n",
       "1     The Egyptian (Sinuhe egyptiläinen #1–2), Mika ...       4\n",
       "2     One of the most powerful historical novels I'v...       5\n",
       "3     Sinuhe egyptiläinen = Sinuhe der Agypter‬ = Si...       4\n",
       "4     A Captivating Tale!\\nIf you enjoy reading abou...       4\n",
       "...                                                 ...     ...\n",
       "8755                         Cuốn đầu tiên của năm 2021       4\n",
       "8756  Có lẽ sách này không có câu nói nào làm mình t...       3\n",
       "8757  Một quyển sách rất ý nghĩa về tình bạn tuổi họ...       5\n",
       "8758  \"Có cái gì đó thật vô nhân và ghê sợ khi con n...       4\n",
       "8759  Trong tập 5, các bạn sẽ được khám phá nhiều ng...       0\n",
       "\n",
       "[8760 rows x 2 columns]"
      ]
     },
     "execution_count": 73,
     "metadata": {},
     "output_type": "execute_result"
    }
   ],
   "source": [
    "data = pd.DataFrame(dictionary)\n",
    "data"
   ]
  },
  {
   "cell_type": "code",
   "execution_count": 77,
   "id": "5f90f977",
   "metadata": {},
   "outputs": [],
   "source": [
    "from langdetect import detect"
   ]
  },
  {
   "cell_type": "code",
   "execution_count": 78,
   "id": "560476bf",
   "metadata": {},
   "outputs": [
    {
     "name": "stderr",
     "output_type": "stream",
     "text": [
      "c:\\program files\\python36\\lib\\site-packages\\ipykernel_launcher.py:5: SettingWithCopyWarning: \n",
      "A value is trying to be set on a copy of a slice from a DataFrame\n",
      "\n",
      "See the caveats in the documentation: https://pandas.pydata.org/pandas-docs/stable/user_guide/indexing.html#returning-a-view-versus-a-copy\n",
      "  \"\"\"\n"
     ]
    }
   ],
   "source": [
    "data['detect_lang'] = ' '\n",
    "data = data.assign(detect_lang = ' ')\n",
    "for i in range(data.shape[0]):\n",
    "    try:\n",
    "        data['detect_lang'][i] = detect(data.text[i])\n",
    "    except:\n",
    "        continue"
   ]
  },
  {
   "cell_type": "code",
   "execution_count": 81,
   "id": "6becc293",
   "metadata": {},
   "outputs": [],
   "source": [
    "data_vn = data.loc[data.detect_lang == 'vi']\n",
    "data_vn = data_vn.reset_index()\n",
    "data_vn = data_vn.drop(columns = ['index', 'detect_lang'])"
   ]
  },
  {
   "cell_type": "code",
   "execution_count": 82,
   "id": "fc5b83b2",
   "metadata": {},
   "outputs": [
    {
     "data": {
      "text/html": [
       "<div>\n",
       "<style scoped>\n",
       "    .dataframe tbody tr th:only-of-type {\n",
       "        vertical-align: middle;\n",
       "    }\n",
       "\n",
       "    .dataframe tbody tr th {\n",
       "        vertical-align: top;\n",
       "    }\n",
       "\n",
       "    .dataframe thead th {\n",
       "        text-align: right;\n",
       "    }\n",
       "</style>\n",
       "<table border=\"1\" class=\"dataframe\">\n",
       "  <thead>\n",
       "    <tr style=\"text-align: right;\">\n",
       "      <th></th>\n",
       "      <th>text</th>\n",
       "      <th>rating</th>\n",
       "    </tr>\n",
       "  </thead>\n",
       "  <tbody>\n",
       "    <tr>\n",
       "      <th>0</th>\n",
       "      <td>Good message, but it seems an overrated book. ...</td>\n",
       "      <td>1</td>\n",
       "    </tr>\n",
       "    <tr>\n",
       "      <th>1</th>\n",
       "      <td>26/2/2020 Đọc lại lần số 3, vẫn thấy hay như h...</td>\n",
       "      <td>5</td>\n",
       "    </tr>\n",
       "    <tr>\n",
       "      <th>2</th>\n",
       "      <td>Xếp cuốn này vào Novel cũng được, vì nó là 1 t...</td>\n",
       "      <td>5</td>\n",
       "    </tr>\n",
       "    <tr>\n",
       "      <th>3</th>\n",
       "      <td>Thực sự cuốn và hay, bạn nào ngại đọc sách tâm...</td>\n",
       "      <td>4</td>\n",
       "    </tr>\n",
       "    <tr>\n",
       "      <th>4</th>\n",
       "      <td>Không còn biết dành từ ngữ nào xuất sắc hơn dà...</td>\n",
       "      <td>5</td>\n",
       "    </tr>\n",
       "    <tr>\n",
       "      <th>...</th>\n",
       "      <td>...</td>\n",
       "      <td>...</td>\n",
       "    </tr>\n",
       "    <tr>\n",
       "      <th>4312</th>\n",
       "      <td>Cuốn đầu tiên của năm 2021</td>\n",
       "      <td>4</td>\n",
       "    </tr>\n",
       "    <tr>\n",
       "      <th>4313</th>\n",
       "      <td>Có lẽ sách này không có câu nói nào làm mình t...</td>\n",
       "      <td>3</td>\n",
       "    </tr>\n",
       "    <tr>\n",
       "      <th>4314</th>\n",
       "      <td>Một quyển sách rất ý nghĩa về tình bạn tuổi họ...</td>\n",
       "      <td>5</td>\n",
       "    </tr>\n",
       "    <tr>\n",
       "      <th>4315</th>\n",
       "      <td>\"Có cái gì đó thật vô nhân và ghê sợ khi con n...</td>\n",
       "      <td>4</td>\n",
       "    </tr>\n",
       "    <tr>\n",
       "      <th>4316</th>\n",
       "      <td>Trong tập 5, các bạn sẽ được khám phá nhiều ng...</td>\n",
       "      <td>0</td>\n",
       "    </tr>\n",
       "  </tbody>\n",
       "</table>\n",
       "<p>4317 rows × 2 columns</p>\n",
       "</div>"
      ],
      "text/plain": [
       "                                                   text  rating\n",
       "0     Good message, but it seems an overrated book. ...       1\n",
       "1     26/2/2020 Đọc lại lần số 3, vẫn thấy hay như h...       5\n",
       "2     Xếp cuốn này vào Novel cũng được, vì nó là 1 t...       5\n",
       "3     Thực sự cuốn và hay, bạn nào ngại đọc sách tâm...       4\n",
       "4     Không còn biết dành từ ngữ nào xuất sắc hơn dà...       5\n",
       "...                                                 ...     ...\n",
       "4312                         Cuốn đầu tiên của năm 2021       4\n",
       "4313  Có lẽ sách này không có câu nói nào làm mình t...       3\n",
       "4314  Một quyển sách rất ý nghĩa về tình bạn tuổi họ...       5\n",
       "4315  \"Có cái gì đó thật vô nhân và ghê sợ khi con n...       4\n",
       "4316  Trong tập 5, các bạn sẽ được khám phá nhiều ng...       0\n",
       "\n",
       "[4317 rows x 2 columns]"
      ]
     },
     "execution_count": 82,
     "metadata": {},
     "output_type": "execute_result"
    }
   ],
   "source": [
    "data_vn"
   ]
  },
  {
   "cell_type": "code",
   "execution_count": 84,
   "id": "07bbbdf2",
   "metadata": {},
   "outputs": [],
   "source": [
    "data_vn.to_csv('bo_sung.csv')"
   ]
  },
  {
   "cell_type": "code",
   "execution_count": null,
   "id": "4762c84a",
   "metadata": {},
   "outputs": [],
   "source": []
  }
 ],
 "metadata": {
  "kernelspec": {
   "display_name": "Python 3",
   "language": "python",
   "name": "python3"
  },
  "language_info": {
   "codemirror_mode": {
    "name": "ipython",
    "version": 3
   },
   "file_extension": ".py",
   "mimetype": "text/x-python",
   "name": "python",
   "nbconvert_exporter": "python",
   "pygments_lexer": "ipython3",
   "version": "3.6.8"
  }
 },
 "nbformat": 4,
 "nbformat_minor": 5
}
